{
 "cells": [
  {
   "cell_type": "markdown",
   "metadata": {},
   "source": [
    "# Special Topics: Natural Language Processing\n",
    "## Assignment #1: Latent Dirichlet Allocation Implementation"
   ]
  },
  {
   "cell_type": "markdown",
   "metadata": {},
   "source": [
    "### Imports"
   ]
  },
  {
   "cell_type": "code",
   "execution_count": 2,
   "metadata": {},
   "outputs": [],
   "source": [
    "import pandas as pd\n",
    "import nltk\n",
    "from nltk.stem import WordNetLemmatizer\n",
    "import gensim.corpora as corpora\n",
    "from gensim.parsing.preprocessing import remove_stopwords\n",
    "from gensim.utils import simple_preprocess, tokenize\n",
    "from gensim.models import ldamodel, CoherenceModel\n",
    "from gensim.matutils import kullback_leibler\n",
    "from statistics import mean\n",
    "\n",
    "import spacy\n",
    "import re\n",
    "\n",
    "import pyLDAvis\n",
    "import pyLDAvis.gensim_models as gensim_vis\n",
    "import matplotlib.pyplot as plt\n",
    "%matplotlib inline\n",
    "\n",
    "import warnings\n",
    "warnings.filterwarnings(\"ignore\", category=DeprecationWarning)\n",
    "warnings.filterwarnings(\"ignore\", category=FutureWarning)"
   ]
  },
  {
   "cell_type": "markdown",
   "metadata": {},
   "source": [
    "### Load the data, then create the corpus"
   ]
  },
  {
   "cell_type": "code",
   "execution_count": 3,
   "metadata": {},
   "outputs": [
    {
     "data": {
      "text/html": [
       "<div>\n",
       "<style scoped>\n",
       "    .dataframe tbody tr th:only-of-type {\n",
       "        vertical-align: middle;\n",
       "    }\n",
       "\n",
       "    .dataframe tbody tr th {\n",
       "        vertical-align: top;\n",
       "    }\n",
       "\n",
       "    .dataframe thead th {\n",
       "        text-align: right;\n",
       "    }\n",
       "</style>\n",
       "<table border=\"1\" class=\"dataframe\">\n",
       "  <thead>\n",
       "    <tr style=\"text-align: right;\">\n",
       "      <th></th>\n",
       "      <th>Id</th>\n",
       "      <th>ProductId</th>\n",
       "      <th>UserId</th>\n",
       "      <th>ProfileName</th>\n",
       "      <th>HelpfulnessNumerator</th>\n",
       "      <th>HelpfulnessDenominator</th>\n",
       "      <th>Score</th>\n",
       "      <th>Time</th>\n",
       "      <th>Summary</th>\n",
       "      <th>Text</th>\n",
       "      <th>Num_words_text</th>\n",
       "    </tr>\n",
       "  </thead>\n",
       "  <tbody>\n",
       "    <tr>\n",
       "      <th>0</th>\n",
       "      <td>226241</td>\n",
       "      <td>B002T0NWKE</td>\n",
       "      <td>A1G25CG7UWQ3XO</td>\n",
       "      <td>&amp;#10003;Onoñda&amp;#660;gegá&amp;#660;</td>\n",
       "      <td>1</td>\n",
       "      <td>5</td>\n",
       "      <td>1</td>\n",
       "      <td>1309305600</td>\n",
       "      <td>Misleading discription-bad taste</td>\n",
       "      <td>they advertise that they contain aspartame die...</td>\n",
       "      <td>43</td>\n",
       "    </tr>\n",
       "    <tr>\n",
       "      <th>1</th>\n",
       "      <td>194272</td>\n",
       "      <td>B0009Y8AGI</td>\n",
       "      <td>A34Y9SS1F0H485</td>\n",
       "      <td>Bluemoon</td>\n",
       "      <td>0</td>\n",
       "      <td>6</td>\n",
       "      <td>1</td>\n",
       "      <td>1263600000</td>\n",
       "      <td>Yuck!</td>\n",
       "      <td>taste disgusting having struggle just keep dow...</td>\n",
       "      <td>27</td>\n",
       "    </tr>\n",
       "    <tr>\n",
       "      <th>2</th>\n",
       "      <td>359016</td>\n",
       "      <td>B003CIBPN8</td>\n",
       "      <td>ANDTRFIVWED40</td>\n",
       "      <td>R. Hauff</td>\n",
       "      <td>6</td>\n",
       "      <td>8</td>\n",
       "      <td>1</td>\n",
       "      <td>1275782400</td>\n",
       "      <td>If you liked it in tetrapak box, don't buy now</td>\n",
       "      <td>bought this zico water hoping have good taste ...</td>\n",
       "      <td>53</td>\n",
       "    </tr>\n",
       "    <tr>\n",
       "      <th>3</th>\n",
       "      <td>402750</td>\n",
       "      <td>B000EQX6HO</td>\n",
       "      <td>A2W95LYEAIRDAC</td>\n",
       "      <td>I. B. Lehman \"IBL\"</td>\n",
       "      <td>1</td>\n",
       "      <td>1</td>\n",
       "      <td>1</td>\n",
       "      <td>1316044800</td>\n",
       "      <td>Great product...just not in small packages!</td>\n",
       "      <td>love terra chipswhen they bags from storei ord...</td>\n",
       "      <td>49</td>\n",
       "    </tr>\n",
       "    <tr>\n",
       "      <th>4</th>\n",
       "      <td>429211</td>\n",
       "      <td>B0006VM0LU</td>\n",
       "      <td>A32T7H92YWC0A2</td>\n",
       "      <td>Molly F</td>\n",
       "      <td>0</td>\n",
       "      <td>0</td>\n",
       "      <td>1</td>\n",
       "      <td>1317340800</td>\n",
       "      <td>Unfortunately unsalvageable</td>\n",
       "      <td>wanted desperately like this sauce smells tast...</td>\n",
       "      <td>35</td>\n",
       "    </tr>\n",
       "  </tbody>\n",
       "</table>\n",
       "</div>"
      ],
      "text/plain": [
       "       Id   ProductId          UserId                     ProfileName  \\\n",
       "0  226241  B002T0NWKE  A1G25CG7UWQ3XO  &#10003;Onoñda&#660;gegá&#660;   \n",
       "1  194272  B0009Y8AGI  A34Y9SS1F0H485                        Bluemoon   \n",
       "2  359016  B003CIBPN8   ANDTRFIVWED40                        R. Hauff   \n",
       "3  402750  B000EQX6HO  A2W95LYEAIRDAC              I. B. Lehman \"IBL\"   \n",
       "4  429211  B0006VM0LU  A32T7H92YWC0A2                         Molly F   \n",
       "\n",
       "   HelpfulnessNumerator  HelpfulnessDenominator  Score        Time  \\\n",
       "0                     1                       5      1  1309305600   \n",
       "1                     0                       6      1  1263600000   \n",
       "2                     6                       8      1  1275782400   \n",
       "3                     1                       1      1  1316044800   \n",
       "4                     0                       0      1  1317340800   \n",
       "\n",
       "                                          Summary  \\\n",
       "0                Misleading discription-bad taste   \n",
       "1                                           Yuck!   \n",
       "2  If you liked it in tetrapak box, don't buy now   \n",
       "3     Great product...just not in small packages!   \n",
       "4                     Unfortunately unsalvageable   \n",
       "\n",
       "                                                Text  Num_words_text  \n",
       "0  they advertise that they contain aspartame die...              43  \n",
       "1  taste disgusting having struggle just keep dow...              27  \n",
       "2  bought this zico water hoping have good taste ...              53  \n",
       "3  love terra chipswhen they bags from storei ord...              49  \n",
       "4  wanted desperately like this sauce smells tast...              35  "
      ]
     },
     "execution_count": 3,
     "metadata": {},
     "output_type": "execute_result"
    }
   ],
   "source": [
    "reviews_df = pd.DataFrame(pd.read_csv(\"Review.csv\"))\n",
    "reviews_df.head()"
   ]
  },
  {
   "cell_type": "code",
   "execution_count": 4,
   "metadata": {},
   "outputs": [
    {
     "data": {
      "text/plain": [
       "'love terra chipswhen they bags from storei ordered these expecting same quality wasnt chips these small bags which were perfect lunch were stale tasteless some chips were stale comfortably chew dont know they sitting around long warehouse somewhere they dont well small packages dont order these chips like this'"
      ]
     },
     "execution_count": 4,
     "metadata": {},
     "output_type": "execute_result"
    }
   ],
   "source": [
    "reviews_text = list(reviews_df.Text)\n",
    "reviews_text[3]"
   ]
  },
  {
   "cell_type": "markdown",
   "metadata": {},
   "source": [
    "### 1. Implementation of LDA:"
   ]
  },
  {
   "cell_type": "markdown",
   "metadata": {},
   "source": [
    "Class LDA:"
   ]
  },
  {
   "cell_type": "markdown",
   "metadata": {},
   "source": [
    "- **__init___**\n",
    "    - self.corpus: list of documents\n",
    "    - self.total_words: amount of words in corpus\n",
    "    - self.alphas: list of possible alpha values\n",
    "    - self.etas: list of possible eta values\n",
    "    - self.number_of_topics: list of possible number of topics\n",
    "\n",
    "- **remove_stop**\n",
    "    - removes stop words from docs\n",
    "    - return: docs\n",
    "\n",
    "- **preprocess**\n",
    "    - Removes stop words, Lemmatizes, and creates Document Term Matrix\n",
    "    - return: doc_term_matrix, id2word, no_stops\n",
    "\n",
    "- **run_model**\n",
    "    - corpus: list of documents\n",
    "    - id2word: mapping between words and their ids\n",
    "    - base_model: bool \n",
    "    - optimize_topics: bool\n",
    "    - optimize_etas_alphas: boll\n",
    "    - alpha: chosen alpha\n",
    "    - eta: chosen eta\n",
    "    - topics: None\n",
    "    - return: lda model, corpus, coherence_scores_topics, coherence_scores_alphas_etas\n",
    "- **visualize**\n",
    "    - model: lda model\n",
    "    - corpus: list of documents\n",
    "    - id2word: mapping between words and their ids\n",
    "    - return: charts\n",
    "- **kl_divergence**\n",
    "    - model: lda model\n",
    "    - topic_number: number of topics\n",
    "    - return: kl_dict"
   ]
  },
  {
   "cell_type": "code",
   "execution_count": 5,
   "metadata": {},
   "outputs": [],
   "source": [
    "class LDA:\n",
    "    \n",
    "    def __init__(self, corpus):\n",
    "        self.corpus = corpus \n",
    "        self.total_words = sum([len(size) for size in self.corpus])\n",
    "        self.alphas = [0.05, 0.10, 0.15, 0.20, 0.25]\n",
    "        self.etas = [0.05, 0.10, 0.15, 0.20, 0.25]\n",
    "        self.number_of_topics = [5, 10, 15, 25, 50]\n",
    "\n",
    "    def remove_stop(self):\n",
    "        docs = list()\n",
    "        for doc in self.corpus:\n",
    "            docs.append(remove_stopwords(doc))\n",
    "\n",
    "        return docs\n",
    "\n",
    "    def preprocess(self):\n",
    "        # Also preprocess in addition to lemmatize    \n",
    "        # Remove stop words\n",
    "        no_stops = self.remove_stop()\n",
    "\n",
    "        changed = 0 \n",
    "        same = 0\n",
    "\n",
    "        # Lemmatize\n",
    "        for word, doc in enumerate(no_stops):\n",
    "            no_stops[word] = doc.split()\n",
    "\n",
    "            doc = ' '.join(no_stops[word])\n",
    "            \n",
    "            tokenized = simple_preprocess(doc)\n",
    "\n",
    "            lemmatizer = WordNetLemmatizer()\n",
    "\n",
    "            for token, sentence in enumerate(tokenized):\n",
    "                word = lemmatizer.lemmatize(tokenized[token])\n",
    "\n",
    "                if tokenized[token] != word:\n",
    "                    changed+=1\n",
    "                else:\n",
    "                    same+=1\n",
    "\n",
    "        removed_words = sum([len(size) for size in no_stops])\n",
    "\n",
    "        print(f'Percentage of words changed and removed: ' + '{:.2%}'.format(removed_words/self.total_words))\n",
    "        print(f'Percentage of words that did not change: ' + '{:.2%}'.format((self.total_words - removed_words) / self.total_words) + '\\n')\n",
    "        print('Creating document term matrix...' + '\\n')\n",
    "\n",
    "        # Create document term matrix\n",
    "        id2word = corpora.Dictionary(no_stops)\n",
    "        doc_term_matrix = [id2word.doc2bow(doc) for doc in no_stops]\n",
    "        print(f'The document term matrix looks like: ' + '\\n', doc_term_matrix[0:3], '\\n')\n",
    "\n",
    "        return doc_term_matrix, id2word, no_stops\n",
    "        \n",
    "    def run_model(self, corpus, id2word, base_model, optimize_topics, \n",
    "                            optimize_etas_alphas, alpha, eta, topics = None, texts = None):\n",
    "        \n",
    "        coherence_scores_topics = {}\n",
    "        coherence_scores_alphas_etas = {}\n",
    "        coherence_scores_alphas_etas['alpha'] = []\n",
    "        coherence_scores_alphas_etas['eta'] = []\n",
    "        coherence_scores_alphas_etas['coherence_score'] = []\n",
    "        \n",
    "        if base_model:\n",
    "            topics = topics\n",
    "            print(f'Running LDA model with alpha = {alpha}, eta = {eta}, n_topics = {topics}...' + '\\n')\n",
    "            model = ldamodel.LdaModel(corpus=corpus, id2word=id2word, num_topics=topics, random_state=100,\n",
    "                        update_every=1, chunksize=100, passes=10, alpha=alpha, eta=eta, per_word_topics=True)\n",
    "            for index, topic in model.show_topics(num_topics=3, num_words=30, formatted=False):\n",
    "                print('Topic: {} \\nWords: {}'.format(index, [w[0] for w in topic]))\n",
    "        print('\\n')\n",
    "\n",
    "        if optimize_topics:\n",
    "            models = []\n",
    "            corpuses = []\n",
    "            for topic_number in self.number_of_topics:\n",
    "                print(f'Running LDA model with alpha = {alpha}, eta = {eta}, n_topics = {topic_number}...' + '\\n')\n",
    "                model = ldamodel.LdaModel(corpus=corpus, id2word=id2word, num_topics=topic_number, random_state=100,\n",
    "                        update_every=1, chunksize=100, passes=10, alpha=alpha, eta=eta, per_word_topics=True)\n",
    "                models.append(model)\n",
    "                corpuses.append(corpus)\n",
    "                \n",
    "                coherence_score = CoherenceModel(model=model, texts=texts, corpus=corpus, \n",
    "                                                 dictionary=id2word, coherence='c_v').get_coherence()\n",
    "                coherence_scores_topics[f'{topic_number}'] = coherence_score\n",
    "                max_topic = max(coherence_scores_topics, key=coherence_scores_topics.get)\n",
    "                \n",
    "            model = models\n",
    "            corpus = corpuses\n",
    "\n",
    "        if optimize_etas_alphas:\n",
    "            models = []\n",
    "            corpuses = []\n",
    "            for a in self.alphas:\n",
    "                for e in self.etas:\n",
    "                    print(f'Running LDA model with alpha = {a}, eta = {e}, n_topics = {topics}...' + '\\n')\n",
    "                    model = ldamodel.LdaModel(corpus=corpus, id2word=id2word, num_topics=topics, random_state=100,\n",
    "                        update_every=1, chunksize=100, passes=10, alpha=a, eta=e, per_word_topics=True)\n",
    "                    models.append(model)\n",
    "                    corpuses.append(corpus)\n",
    "\n",
    "                    coherence_score = CoherenceModel(model=model, texts=texts, corpus=corpus, \n",
    "                                                     dictionary=id2word, coherence='c_v').get_coherence()\n",
    "            \n",
    "                        \n",
    "                    coherence_scores_alphas_etas['alpha'].append(a)\n",
    "                    coherence_scores_alphas_etas['eta'].append(e)\n",
    "                    coherence_scores_alphas_etas['coherence_score'].append(coherence_score)\n",
    "                    \n",
    "            model = models\n",
    "            corpus = corpuses    \n",
    "\n",
    "        print('Finished!')  \n",
    "        return model, corpus, coherence_scores_topics, coherence_scores_alphas_etas\n",
    "\n",
    "    def visualize(self, model, corpus, id2word):\n",
    "        pyLDAvis.enable_notebook()\n",
    "        charts = gensim_vis.prepare(model, corpus, id2word)\n",
    "        return charts\n",
    "    \n",
    "\n",
    "    # Topic number is on a scale of 0-4\n",
    "    # Model is on a scale of 0-24\n",
    "    def kl_divergence(self, model, topic_number):\n",
    "        topics = [dist for dist in model.get_topics()]\n",
    "        kl_dict = {}\n",
    "\n",
    "        for number in range(topic_number):\n",
    "            for number_2 in range(topic_number):\n",
    "                # Take the mean of both KL-Divergence calculations due to asymmetry\n",
    "                if number == number_2:\n",
    "                    continue\n",
    "\n",
    "                topics[number] = list(topics[number])\n",
    "                topics[number_2] = list(topics[number_2])\n",
    "                kl_value = (float(kullback_leibler(topics[number], topics[number_2])) \n",
    "                                + float(kullback_leibler(topics[number_2], topics[number]))) / 2\n",
    "                \n",
    "                if f'Topic {number_2}, Topic {number}' in kl_dict.keys():\n",
    "                    continue\n",
    "                \n",
    "                kl_dict[f'Topic {number}, Topic {number_2}'] = kl_value\n",
    "                print(f'KL-Divergence for Topic {number+1}, Topic {number_2+1}: ', kl_value)\n",
    "        \n",
    "        return kl_dict\n",
    "\n",
    "        "
   ]
  },
  {
   "cell_type": "markdown",
   "metadata": {},
   "source": [
    "### Implement and Visualize LDA\n",
    "#### Step 1. Run LDA with ***apha*** = 0.05, ***eta*** = 0.05, ***no_topics*** = 10\n",
    "#### Step 2. Print top 30 high-probability words for each topic\n",
    "#### Step 3. Visualize Results"
   ]
  },
  {
   "cell_type": "code",
   "execution_count": 6,
   "metadata": {},
   "outputs": [],
   "source": [
    "lda = LDA(reviews_text)"
   ]
  },
  {
   "cell_type": "code",
   "execution_count": 7,
   "metadata": {},
   "outputs": [
    {
     "name": "stdout",
     "output_type": "stream",
     "text": [
      "Percentage of words changed and removed: 10.30%\n",
      "Percentage of words that did not change: 89.70%\n",
      "\n",
      "Creating document term matrix...\n",
      "\n",
      "The document term matrix looks like: \n",
      " [[(0, 1), (1, 2), (2, 1), (3, 1), (4, 1), (5, 1), (6, 2), (7, 1), (8, 3), (9, 1), (10, 1), (11, 1), (12, 3), (13, 1), (14, 1), (15, 1), (16, 2), (17, 1), (18, 2), (19, 1), (20, 1), (21, 2), (22, 1), (23, 1)], [(23, 2), (24, 1), (25, 1), (26, 1), (27, 1), (28, 1), (29, 1), (30, 1), (31, 1), (32, 1), (33, 1), (34, 1), (35, 1), (36, 1), (37, 1), (38, 1), (39, 1), (40, 1)], [(5, 1), (16, 1), (23, 3), (32, 1), (41, 1), (42, 1), (43, 1), (44, 1), (45, 1), (46, 1), (47, 3), (48, 1), (49, 1), (50, 1), (51, 1), (52, 1), (53, 1), (54, 1), (55, 1), (56, 1), (57, 1), (58, 1), (59, 2), (60, 1), (61, 3), (62, 1), (63, 1), (64, 1), (65, 1), (66, 1)]] \n",
      "\n"
     ]
    }
   ],
   "source": [
    "term_matrix, id2word, texts = lda.preprocess()"
   ]
  },
  {
   "cell_type": "code",
   "execution_count": 52,
   "metadata": {},
   "outputs": [
    {
     "name": "stdout",
     "output_type": "stream",
     "text": [
      "Running LDA model with alpha = 0.05, eta = 0.05, n_topics = 10...\n",
      "\n",
      "Topic: 0 \n",
      "Words: ['cookies', 'delicious', 'cereal', 'health', 'large', 'boxes', 'fast', 'value', 'alternative', 'compared', 'reason', 'brewed', 'pure', 'pods', 'opinion', 'types', 'ground', 'important', 'ounces', 'scent', 'following', 'amounts', 'email', 'consistently', 'earth', 'business', 'trust', 'method', 'crap', 'suggest']\n",
      "Topic: 6 \n",
      "Words: ['bags', 'makes', 'months', 'home', 'especially', 'family', 'daughter', 'difference', 'soup', 'weeks', 'fresh', 'market', 'popcorn', 'weve', 'problems', 'cocoa', 'supermarket', 'exactly', 'world', 'sale', 'varieties', 'best', 'ginger', 'near', 'seller', 'crisp', 'sell', 'couple', 'ship', 'excited']\n",
      "Topic: 7 \n",
      "Words: ['chips', 'fresh', 'tasty', 'vanilla', 'kids', 'cream', 'youre', 'potato', 'plain', 'chip', 'finally', 'taking', 'baked', 'ones', 'leaves', 'mango', 'homemade', 'sour', 'wants', 'pouches', 'acid', 'bunch', 'lays', 'eaten', 'wasnt', 'curious', 'dirt', 'stale', 'theyre', 'wonderful']\n",
      "\n",
      "\n",
      "Finished!\n"
     ]
    },
    {
     "data": {
      "text/html": [
       "\n",
       "<link rel=\"stylesheet\" type=\"text/css\" href=\"https://cdn.jsdelivr.net/gh/bmabey/pyLDAvis@3.3.1/pyLDAvis/js/ldavis.v1.0.0.css\">\n",
       "\n",
       "\n",
       "<div id=\"ldavis_el101441405032253335849294937389\"></div>\n",
       "<script type=\"text/javascript\">\n",
       "\n",
       "var ldavis_el101441405032253335849294937389_data = {\"mdsDat\": {\"x\": [0.38566323787981105, 0.3063816433281284, 0.02437574871829694, -0.0034871480635882603, -0.08843228856943086, -0.08992889730402195, -0.12375424060672816, -0.12627615681211277, -0.14121624052794327, -0.14332565804241112], \"y\": [-0.035518089894814524, -0.08417372529695316, 0.38285694224979594, -0.053456188371378464, 0.12221449985109761, -0.10058130295776484, -0.08071673337623093, 0.019879284534710818, -0.08791099555714803, -0.08259369118131347], \"topics\": [1, 2, 3, 4, 5, 6, 7, 8, 9, 10], \"cluster\": [1, 1, 1, 1, 1, 1, 1, 1, 1, 1], \"Freq\": [53.164011855177726, 15.124794793931759, 9.595454035874763, 5.650946639712708, 4.024660399685119, 3.358375363098718, 2.6217680969256976, 2.568836247078084, 2.0667499347719738, 1.8244026337434514]}, \"tinfo\": {\"Term\": [\"coffee\", \"like\", \"amazon\", \"chocolate\", \"delicious\", \"free\", \"good\", \"product\", \"chips\", \"great\", \"makes\", \"price\", \"store\", \"taste\", \"order\", \"favorite\", \"bags\", \"fresh\", \"flavor\", \"best\", \"ingredients\", \"perfect\", \"cookies\", \"added\", \"texture\", \"milk\", \"food\", \"tasty\", \"time\", \"gluten\", \"like\", \"taste\", \"flavor\", \"food\", \"little\", \"dont\", \"good\", \"tried\", \"loves\", \"sugar\", \"sweet\", \"drink\", \"tastes\", \"water\", \"stuff\", \"snack\", \"want\", \"regular\", \"healthy\", \"different\", \"flavors\", \"treats\", \"long\", \"quality\", \"dogs\", \"eating\", \"high\", \"real\", \"organic\", \"treat\", \"nice\", \"love\", \"great\", \"best\", \"recommend\", \"better\", \"think\", \"time\", \"product\", \"right\", \"know\", \"amazon\", \"store\", \"order\", \"local\", \"ordered\", \"grocery\", \"stores\", \"excellent\", \"shipping\", \"bars\", \"came\", \"comes\", \"deal\", \"soft\", \"arrived\", \"received\", \"times\", \"cheaper\", \"item\", \"cups\", \"month\", \"cost\", \"carry\", \"bulk\", \"past\", \"type\", \"subscribe\", \"locally\", \"needed\", \"inside\", \"price\", \"save\", \"favorite\", \"need\", \"product\", \"years\", \"time\", \"great\", \"work\", \"purchase\", \"bought\", \"case\", \"pack\", \"love\", \"coffee\", \"green\", \"absolutely\", \"dark\", \"breakfast\", \"light\", \"minutes\", \"pasta\", \"extra\", \"open\", \"oatmeal\", \"energy\", \"nuts\", \"keurig\", \"maker\", \"kcups\", \"kcup\", \"cinnamon\", \"gift\", \"cook\", \"coffees\", \"roast\", \"course\", \"service\", \"discovered\", \"recipe\", \"grains\", \"bold\", \"instant\", \"delivery\", \"isnt\", \"delicious\", \"morning\", \"makes\", \"years\", \"perfect\", \"best\", \"need\", \"chocolate\", \"texture\", \"protein\", \"cheese\", \"bitter\", \"amazing\", \"white\", \"plus\", \"meal\", \"canned\", \"beef\", \"aftertaste\", \"chew\", \"lunch\", \"cookie\", \"gave\", \"pleasant\", \"filling\", \"feeding\", \"summer\", \"ounce\", \"apple\", \"somewhat\", \"reading\", \"rest\", \"replacement\", \"batch\", \"frozen\", \"bland\", \"figured\", \"wasnt\", \"perfect\", \"liked\", \"eaten\", \"favorite\", \"wanted\", \"work\", \"milk\", \"candy\", \"powder\", \"bags\", \"months\", \"home\", \"especially\", \"daughter\", \"difference\", \"soup\", \"weeks\", \"market\", \"popcorn\", \"weve\", \"problems\", \"cocoa\", \"supermarket\", \"exactly\", \"world\", \"sale\", \"varieties\", \"ginger\", \"near\", \"seller\", \"crisp\", \"sell\", \"ship\", \"opening\", \"grew\", \"pantry\", \"smelled\", \"starting\", \"pain\", \"family\", \"makes\", \"fresh\", \"excited\", \"best\", \"couple\", \"free\", \"gluten\", \"sauce\", \"black\", \"bread\", \"tell\", \"help\", \"beans\", \"super\", \"cooking\", \"creamy\", \"crackers\", \"continue\", \"live\", \"arent\", \"eggs\", \"guess\", \"pound\", \"picked\", \"kept\", \"dairy\", \"finding\", \"placed\", \"veggies\", \"boiling\", \"prepared\", \"household\", \"supply\", \"allergic\", \"creme\", \"liked\", \"says\", \"wouldnt\", \"chips\", \"tasty\", \"vanilla\", \"kids\", \"cream\", \"youre\", \"potato\", \"plain\", \"chip\", \"finally\", \"taking\", \"baked\", \"leaves\", \"mango\", \"homemade\", \"sour\", \"wants\", \"pouches\", \"acid\", \"bunch\", \"lays\", \"curious\", \"dirt\", \"fresh\", \"ones\", \"eaten\", \"wasnt\", \"theyre\", \"lightly\", \"craving\", \"stale\", \"wonderful\", \"cookies\", \"cereal\", \"health\", \"large\", \"boxes\", \"fast\", \"value\", \"alternative\", \"compared\", \"reason\", \"brewed\", \"pure\", \"pods\", \"opinion\", \"types\", \"ground\", \"important\", \"ounces\", \"scent\", \"following\", \"amounts\", \"email\", \"consistently\", \"earth\", \"business\", \"trust\", \"method\", \"crap\", \"wasting\", \"recent\", \"delicious\", \"suggest\", \"ingredients\", \"added\", \"flour\", \"recently\", \"soon\", \"soda\", \"bowl\", \"remember\", \"blood\", \"expect\", \"wellness\", \"completely\", \"lost\", \"seasoning\", \"restaurant\", \"farms\", \"turkey\", \"wasabi\", \"imagine\", \"bean\", \"coating\", \"peanuts\", \"attention\", \"drop\", \"pump\", \"colored\", \"caused\", \"garbage\", \"seaweed\", \"shame\", \"variety\", \"thank\", \"review\", \"online\", \"gone\", \"life\", \"start\", \"original\", \"content\", \"issue\", \"powdered\", \"customer\", \"gotten\", \"concerned\", \"lose\", \"toys\", \"control\", \"crushed\", \"reviewer\", \"lover\", \"burn\", \"likely\", \"suffered\", \"improve\", \"smart\", \"thrown\", \"august\", \"wouldve\", \"wrap\", \"spiced\"], \"Freq\": [4343.0, 7897.0, 2572.0, 1658.0, 1552.0, 1212.0, 6118.0, 4081.0, 969.0, 6143.0, 1296.0, 2292.0, 1518.0, 4573.0, 1450.0, 1500.0, 841.0, 903.0, 4332.0, 3159.0, 645.0, 1144.0, 662.0, 610.0, 802.0, 1157.0, 3509.0, 589.0, 2966.0, 629.0, 7896.926074165305, 4573.182984877578, 4331.840244257755, 3508.488580420138, 2984.5093644511157, 2792.151097477667, 6116.611022362619, 2701.882596566626, 1743.0348986937436, 1731.867977335527, 1587.1048031217429, 1428.965955969802, 1422.8229509576079, 1317.1370242573205, 1302.0673987271593, 1190.3045991180188, 1174.7093295416907, 1122.613310097289, 1108.6256118449546, 1105.3962871977417, 1103.4623782124213, 1095.9635134025973, 1080.045622303777, 1041.149707197492, 1035.6053797354984, 1035.1778720903906, 1027.3767866018802, 1002.3948536877832, 997.7786508596074, 971.0951813967007, 1499.084490366029, 4143.631311731556, 4893.090360908417, 2671.4160219305923, 1473.3219407779752, 1800.52493157626, 1171.7049450533195, 2049.187555625304, 2500.053029297462, 1170.1249034925286, 1105.6561135578872, 2571.964228685249, 1517.7145996285117, 1449.6582047897248, 1133.0495810696327, 963.5719214186452, 871.3177970321454, 836.1327896874452, 795.3439340832681, 741.3321990478788, 666.989296556212, 598.9758376274401, 566.4936781819312, 552.871732121756, 467.4967604013475, 449.07859270665995, 416.58391927732754, 413.90126635892716, 412.6831810645537, 410.6062049632082, 396.53802750055627, 391.7191943918249, 391.32215589127475, 365.239992986424, 349.3939452116411, 338.1269151486971, 324.95847154711686, 323.09388795742314, 272.9275922718085, 261.89932038988223, 234.8034600678297, 1481.3947034060297, 438.7391509067119, 956.6257110599277, 618.9874669795362, 1580.5917586244518, 767.8291357889743, 916.4235455387285, 1249.8708995883155, 508.02843206211855, 490.5849742522725, 585.8711074641886, 458.1403567582339, 422.58062032552385, 425.01674776260234, 4342.505970428162, 746.2214770783299, 623.1852563012364, 562.0927915257373, 546.6314637554731, 484.2925592602638, 460.0964075144004, 445.794025035026, 438.78428677209564, 407.69036554111034, 387.7153272137048, 364.219897432825, 345.99414540478335, 343.06844778024083, 325.837575300936, 311.6300514560618, 309.2516046550862, 302.56745188713757, 298.95209229424586, 293.23410141050556, 293.2095175566005, 290.98596546096474, 276.31460616317923, 271.787919273353, 266.4812014822814, 262.68866293340545, 257.0377164352037, 246.9869171174902, 245.55563309759376, 232.9623212367518, 356.48217048053533, 899.7418409551366, 461.97321228981104, 640.2361574491692, 498.3270927122355, 415.1768060847196, 331.9031895442387, 284.6685172843957, 1657.5306077225678, 802.2236006895563, 724.8603329089724, 543.140667376482, 540.4392004286203, 538.2386237596805, 530.6786758811782, 445.4872804583611, 356.0778175096717, 297.16732954750205, 290.4207237827842, 258.2553873774882, 244.8567175177962, 239.15202092892915, 236.0939751765445, 236.0766274895315, 211.2367549851197, 200.2395467201872, 199.78776522810688, 175.12727038699126, 171.64630221292893, 170.2995026011088, 151.6567688343793, 141.48025449111046, 134.33104857188954, 126.70451524044692, 114.83968078907866, 111.80583473762943, 110.27389370962543, 109.40748476330997, 253.10630044460834, 728.1912822840978, 289.6195379478173, 206.89973649755404, 542.9388795970631, 210.00990592290623, 300.7971234639594, 336.1173044253818, 236.8163709125963, 198.68031855438628, 840.3110911944937, 629.6667247590213, 596.3773276700255, 527.1455653453066, 350.1831145802594, 349.81960085305127, 325.90396177802984, 314.6940104749874, 306.49188322320305, 296.1522153370714, 289.1883863785964, 271.78735697985155, 230.7915102111266, 208.94770877130264, 206.08736625116657, 176.79531115378808, 166.49928833926927, 155.6768607199576, 153.33093525013823, 151.34670926882282, 137.42770917454996, 120.28260225833769, 114.20354766136052, 103.96762437455058, 101.17831274444261, 87.72245449204473, 79.89539812731556, 79.62334844060508, 68.80764958003195, 63.180351902934476, 457.805224278896, 655.3269954811639, 310.0868316632289, 102.02033767115634, 155.41927327152555, 108.8726942920315, 1211.3132684845477, 628.8249439731583, 582.4909307023828, 570.6713179785885, 437.9874516610217, 352.8110361090079, 340.9948344293079, 322.67488312558294, 290.8865775208652, 274.8281101253233, 223.23514836691368, 209.38648181257548, 205.73936663851273, 197.082634969574, 179.0478316215973, 174.23435016214358, 147.58554901225224, 144.5092759000045, 126.83641690782049, 124.98966230463098, 109.23358971699953, 95.28969179397242, 91.37242384395799, 90.91491276401769, 82.54107737846158, 78.42484782558718, 75.01931793318637, 65.41912596146844, 61.992971708357, 59.876040375254455, 98.15858109055432, 70.08023627286146, 65.49751769533788, 969.2165103286274, 588.5506706915877, 467.5830864704976, 466.2151416235826, 425.69357538052253, 393.81010810888506, 296.49259083191555, 291.9658064146178, 254.18976412262103, 217.83359293042247, 172.90825857011038, 166.41734231946657, 128.94531769128218, 128.240835071137, 126.37979278219265, 102.40148789093558, 87.47304922765096, 85.67299896780625, 69.65279251161905, 60.71349210142152, 46.900084072650934, 10.50896064793149, 6.821517414507536, 592.6741327874415, 146.79871834660042, 46.681301161302414, 46.06696766241173, 0.07007143588734352, 0.07004173497484094, 0.07003682621606037, 5.3137005248960385, 0.07006238536334188, 661.7865243061107, 561.0884561409546, 417.21324613350333, 406.6489372576065, 380.4122140793978, 350.183298498864, 292.5242059318805, 248.011750222929, 222.82190092072844, 184.30007909418038, 161.93387231655024, 153.4482281176428, 135.79626648851752, 132.84455707715514, 128.5800924507072, 117.17172502203645, 106.62606111351964, 90.04901410143864, 67.3532956361487, 64.4030300371188, 58.812522724728424, 55.456223384416504, 50.43964979668444, 49.35678321831654, 47.35884377450614, 44.027441035684, 42.84683862300143, 30.05520370284446, 22.03663279349917, 20.98646453351414, 652.5084836515448, 26.34486618771187, 644.7518701109219, 610.2241871715116, 257.42936108782084, 256.7793990967277, 232.011594663337, 209.03689943671301, 198.6760944289308, 189.42499155559514, 170.9903245889614, 169.35874474663942, 148.64168684720812, 147.72412882715867, 147.531253543849, 110.48682824211323, 91.00171330556913, 86.22321194613244, 77.96326749903002, 74.22779038643164, 72.82554992867236, 70.92916900952766, 70.69153321641659, 62.21162485709821, 57.27209533771337, 51.617181899130145, 51.4704940843061, 31.257453323103515, 30.192349544062424, 27.947749430302842, 27.239780389391274, 27.207432061533225, 509.1645862063247, 390.05881835707464, 368.34532081573457, 308.3612466918172, 285.87393867501123, 229.03667854970513, 187.48497565680083, 153.968453199801, 140.78006060327644, 136.43154596112805, 125.9252251114763, 122.72999330463452, 111.29217878423248, 92.97415311451898, 92.84176668853154, 77.74405098090115, 71.90616041836282, 67.76540200043647, 59.240952897787885, 53.234677461431275, 45.37802142745008, 39.52492938039904, 38.26065827107614, 32.438674483634834, 26.005245400370644, 12.089540757253085, 11.969843055412479, 11.561734856829508, 9.075946650716459, 7.220699287805317], \"Total\": [4343.0, 7897.0, 2572.0, 1658.0, 1552.0, 1212.0, 6118.0, 4081.0, 969.0, 6143.0, 1296.0, 2292.0, 1518.0, 4573.0, 1450.0, 1500.0, 841.0, 903.0, 4332.0, 3159.0, 645.0, 1144.0, 662.0, 610.0, 802.0, 1157.0, 3509.0, 589.0, 2966.0, 629.0, 7897.649469610769, 4573.906380323042, 4332.563661197837, 3509.211975865602, 2985.23275989658, 2792.874492923131, 6118.238231466297, 2702.6059920187736, 1743.7582941497421, 1732.5913727809907, 1587.8281985672065, 1429.6893514152657, 1423.5463464030715, 1317.8604197027842, 1302.790794172623, 1191.0279945634825, 1175.4327249871544, 1123.3367055427527, 1109.3490072904183, 1106.1196826432054, 1104.185774112373, 1096.686908848061, 1080.7690177492407, 1041.8731026582052, 1036.328775180962, 1035.9012675358542, 1028.1001820473439, 1003.1182491332468, 998.502046305071, 971.8185768421642, 1526.6122238813166, 4569.2817854040495, 6143.594986406623, 3159.290551181873, 1583.9937798763503, 2020.8252458728061, 1217.6054938598518, 2966.2448270739237, 4081.2785138318054, 1290.7896768926457, 1225.2572306967625, 2572.6915216437087, 1518.4418925869707, 1450.3854977481838, 1133.7768740280917, 964.2992143771042, 872.0450899906045, 836.8600826459043, 796.0712270484108, 742.0594920063379, 667.7165895146711, 599.7031305905778, 567.2209711403902, 553.5990250802151, 468.22405335980653, 449.805885665119, 417.31121223578657, 414.6285593173862, 413.41047402301274, 411.33349792166723, 397.26532046569895, 392.44648735954166, 392.0494488497338, 365.96728594488303, 350.1212381701001, 338.8542081127628, 325.6857645055759, 323.82118091588217, 273.65488523026755, 262.626613357599, 235.53075302628875, 2292.1789270614695, 517.0576689661184, 1500.2012812786659, 904.294801807565, 4081.2785138318054, 1333.3651357685324, 2966.2448270739237, 6143.594986406623, 809.4622461384432, 767.5934955741093, 1589.317563081828, 696.6587096238136, 842.9534031097046, 4569.2817854040495, 4343.2344575073685, 746.949964157536, 623.9137433804425, 562.8212786049434, 547.3599508346791, 485.0210463394698, 460.8248945936065, 446.52251211423203, 439.5127738513017, 408.41885263085146, 388.4438143021687, 364.94838451203105, 346.7226324839894, 343.7969348594469, 326.56606238014206, 312.3585385352678, 309.9800917342923, 303.2959389663436, 299.6805793734519, 293.9625884897116, 293.9380046358065, 291.7144525401708, 277.0430932516431, 272.51640636817723, 267.2096885776292, 263.41715001729, 257.7662035391875, 247.71540419669634, 246.28412018240658, 233.690808326493, 418.9688515462299, 1552.9016779187082, 696.9227064095602, 1296.2087864038826, 1333.3651357685324, 1144.005973095298, 3159.290551181873, 904.294801807565, 1658.2569678565696, 802.9499608235582, 725.5866930429743, 543.8670275104839, 541.1655605693059, 538.9649838936824, 531.40503601518, 446.21364059236305, 356.80417764367365, 297.893689681504, 291.14708391678613, 258.98174751149014, 245.58307765179816, 239.8783810629311, 236.82033531054645, 236.80298762353345, 211.96311511912165, 200.96590685418917, 200.51412536210884, 175.85363052099322, 172.3726623469309, 171.02586273511076, 152.38312896838127, 142.20661462511242, 135.0574087058915, 127.43087537444887, 115.5660409230806, 112.53219487163138, 111.00025384362738, 110.13384489731192, 299.8296064332703, 1144.005973095298, 388.43348911430843, 254.23737598510672, 1500.2012812786659, 347.81613693681373, 809.4622461384432, 1157.640008969472, 505.078004168487, 317.03382188115376, 841.045200082869, 630.4008336473967, 597.1114365584008, 527.879674233682, 350.91722346863486, 350.5537097414267, 326.63807066640527, 315.42811936336284, 307.2259921115785, 296.88632422544686, 289.92249526697185, 272.521465868227, 231.52561909950202, 209.68181767021315, 206.821475139542, 177.5294200421635, 167.2333972276447, 156.41096961563775, 154.06504413851366, 152.08081815719825, 138.1618180629254, 121.01671115401781, 114.93765654973595, 104.70173327346109, 101.91242163281804, 88.45656338042016, 80.62950701569099, 80.35745733823828, 69.54175846840738, 63.9144607986146, 572.3868229619007, 1296.2087864038826, 903.4250515312941, 161.12508904828255, 3159.290551181873, 558.6394193323148, 1212.0592409205144, 629.570916409125, 583.2369031383495, 571.4172904145552, 438.7334240969885, 353.5570085449747, 341.7408068652747, 323.42085556154973, 291.632549956832, 275.5740825612901, 223.98112080288047, 210.13245424854227, 206.48533909169825, 197.8286074055408, 179.7938040575641, 174.98032259811038, 148.33152144821904, 145.2552483359713, 127.58238935432236, 125.73563474059777, 109.97956215296632, 96.03566422993921, 92.11839630532432, 91.66088519998448, 83.28704982111202, 79.17082026155397, 75.76529036915316, 66.16509839743523, 62.73894414432378, 60.62201281122124, 388.43348911430843, 423.29184035138906, 202.58697906366524, 969.9634510149076, 589.297611377868, 468.3300271567779, 466.96208230986286, 426.4405160668028, 394.5570487951653, 297.2395315181958, 292.71274710557657, 254.93670480890128, 218.58053361670272, 173.65519925639063, 167.16428300574682, 129.69225837756244, 128.98777575741727, 127.1267334684729, 103.14842857721584, 88.21998991393122, 86.4199396540865, 70.39973320458296, 61.46043278770178, 47.64702475893119, 11.255901334211748, 7.568458100787791, 903.4250515312941, 452.74405350985927, 254.23737598510672, 299.8296064332703, 0.8172237073054132, 0.8170257637984972, 0.8170162594241006, 62.77633095707582, 0.8173941054078413, 662.5263530329634, 561.8282848678073, 417.953074860356, 407.3887659844592, 381.1520428062505, 350.9231272257167, 293.2640346587332, 248.7515789497817, 223.56172964758113, 185.03990782103307, 162.67370105008658, 154.1880568444955, 136.5360952153702, 133.58438580400784, 129.3199211775599, 117.91155374888913, 107.36588984037232, 90.78884282829132, 68.09312436300138, 65.14285876397147, 59.552351451581096, 56.19605215080314, 51.179478523537114, 50.09661195560604, 48.09867250135881, 44.76726976253667, 43.5866673498541, 30.795032438954898, 22.776461520351848, 21.72629326036682, 1552.9016779187082, 141.40098322542735, 645.490822601149, 610.9631396617388, 258.16831357804796, 257.5183515869548, 232.75054715356407, 209.77585192694008, 199.41504691915787, 190.1639440458222, 171.72927707918848, 170.09769723686648, 149.38063933743518, 148.46308131738573, 148.27020603407607, 111.22578073234033, 91.74066579579622, 86.9621644468946, 78.70221998925712, 74.96674287665873, 73.56450241889945, 71.66812149975475, 71.43048571132219, 62.95057734732529, 58.01104782794045, 52.35613439604088, 52.20944658121683, 31.9964058133306, 30.931302042161768, 28.686701942338455, 27.978732914905848, 27.94638455176031, 509.9059098077794, 390.8001419585293, 369.08664441718923, 309.10257029327187, 286.6152622764659, 229.77800215115977, 188.22629925825547, 154.70977680125563, 141.52138420473108, 137.1728695625827, 126.66654871293093, 123.47131690608916, 112.03350238568711, 93.71547672265727, 93.58309028998617, 78.48537458235579, 72.64748401981745, 68.5067256018911, 59.98227649924252, 53.97600106288591, 46.11934502890472, 40.266252981853675, 39.00198222258647, 33.17999808508947, 26.746569001825282, 12.830864358707723, 12.711166656867118, 12.303058509035083, 9.817270252171097, 7.9620228892599565], \"Category\": [\"Default\", \"Default\", \"Default\", \"Default\", \"Default\", \"Default\", \"Default\", \"Default\", \"Default\", \"Default\", \"Default\", \"Default\", \"Default\", \"Default\", \"Default\", \"Default\", \"Default\", \"Default\", \"Default\", \"Default\", \"Default\", \"Default\", \"Default\", \"Default\", \"Default\", \"Default\", \"Default\", \"Default\", \"Default\", \"Default\", \"Topic1\", \"Topic1\", \"Topic1\", \"Topic1\", \"Topic1\", \"Topic1\", \"Topic1\", \"Topic1\", \"Topic1\", \"Topic1\", \"Topic1\", \"Topic1\", \"Topic1\", \"Topic1\", \"Topic1\", \"Topic1\", \"Topic1\", \"Topic1\", \"Topic1\", \"Topic1\", \"Topic1\", \"Topic1\", \"Topic1\", \"Topic1\", \"Topic1\", \"Topic1\", \"Topic1\", \"Topic1\", \"Topic1\", \"Topic1\", \"Topic1\", \"Topic1\", \"Topic1\", \"Topic1\", \"Topic1\", \"Topic1\", \"Topic1\", \"Topic1\", \"Topic1\", \"Topic1\", \"Topic1\", \"Topic2\", \"Topic2\", \"Topic2\", \"Topic2\", \"Topic2\", \"Topic2\", \"Topic2\", \"Topic2\", \"Topic2\", \"Topic2\", \"Topic2\", \"Topic2\", \"Topic2\", \"Topic2\", \"Topic2\", \"Topic2\", \"Topic2\", \"Topic2\", \"Topic2\", \"Topic2\", \"Topic2\", \"Topic2\", \"Topic2\", \"Topic2\", \"Topic2\", \"Topic2\", \"Topic2\", \"Topic2\", \"Topic2\", \"Topic2\", \"Topic2\", \"Topic2\", \"Topic2\", \"Topic2\", \"Topic2\", \"Topic2\", \"Topic2\", \"Topic2\", \"Topic2\", \"Topic2\", \"Topic2\", \"Topic2\", \"Topic2\", \"Topic2\", \"Topic3\", \"Topic3\", \"Topic3\", \"Topic3\", \"Topic3\", \"Topic3\", \"Topic3\", \"Topic3\", \"Topic3\", \"Topic3\", \"Topic3\", \"Topic3\", \"Topic3\", \"Topic3\", \"Topic3\", \"Topic3\", \"Topic3\", \"Topic3\", \"Topic3\", \"Topic3\", \"Topic3\", \"Topic3\", \"Topic3\", \"Topic3\", \"Topic3\", \"Topic3\", \"Topic3\", \"Topic3\", \"Topic3\", \"Topic3\", \"Topic3\", \"Topic3\", \"Topic3\", \"Topic3\", \"Topic3\", \"Topic3\", \"Topic3\", \"Topic3\", \"Topic4\", \"Topic4\", \"Topic4\", \"Topic4\", \"Topic4\", \"Topic4\", \"Topic4\", \"Topic4\", \"Topic4\", \"Topic4\", \"Topic4\", \"Topic4\", \"Topic4\", \"Topic4\", \"Topic4\", \"Topic4\", \"Topic4\", \"Topic4\", \"Topic4\", \"Topic4\", \"Topic4\", \"Topic4\", \"Topic4\", \"Topic4\", \"Topic4\", \"Topic4\", \"Topic4\", \"Topic4\", \"Topic4\", \"Topic4\", \"Topic4\", \"Topic4\", \"Topic4\", \"Topic4\", \"Topic4\", \"Topic4\", \"Topic4\", \"Topic4\", \"Topic4\", \"Topic4\", \"Topic5\", \"Topic5\", \"Topic5\", \"Topic5\", \"Topic5\", \"Topic5\", \"Topic5\", \"Topic5\", \"Topic5\", \"Topic5\", \"Topic5\", \"Topic5\", \"Topic5\", \"Topic5\", \"Topic5\", \"Topic5\", \"Topic5\", \"Topic5\", \"Topic5\", \"Topic5\", \"Topic5\", \"Topic5\", \"Topic5\", \"Topic5\", \"Topic5\", \"Topic5\", \"Topic5\", \"Topic5\", \"Topic5\", \"Topic5\", \"Topic5\", \"Topic5\", \"Topic5\", \"Topic5\", \"Topic5\", \"Topic5\", \"Topic6\", \"Topic6\", \"Topic6\", \"Topic6\", \"Topic6\", \"Topic6\", \"Topic6\", \"Topic6\", \"Topic6\", \"Topic6\", \"Topic6\", \"Topic6\", \"Topic6\", \"Topic6\", \"Topic6\", \"Topic6\", \"Topic6\", \"Topic6\", \"Topic6\", \"Topic6\", \"Topic6\", \"Topic6\", \"Topic6\", \"Topic6\", \"Topic6\", \"Topic6\", \"Topic6\", \"Topic6\", \"Topic6\", \"Topic6\", \"Topic6\", \"Topic6\", \"Topic6\", \"Topic7\", \"Topic7\", \"Topic7\", \"Topic7\", \"Topic7\", \"Topic7\", \"Topic7\", \"Topic7\", \"Topic7\", \"Topic7\", \"Topic7\", \"Topic7\", \"Topic7\", \"Topic7\", \"Topic7\", \"Topic7\", \"Topic7\", \"Topic7\", \"Topic7\", \"Topic7\", \"Topic7\", \"Topic7\", \"Topic7\", \"Topic7\", \"Topic7\", \"Topic7\", \"Topic7\", \"Topic7\", \"Topic7\", \"Topic7\", \"Topic7\", \"Topic7\", \"Topic8\", \"Topic8\", \"Topic8\", \"Topic8\", \"Topic8\", \"Topic8\", \"Topic8\", \"Topic8\", \"Topic8\", \"Topic8\", \"Topic8\", \"Topic8\", \"Topic8\", \"Topic8\", \"Topic8\", \"Topic8\", \"Topic8\", \"Topic8\", \"Topic8\", \"Topic8\", \"Topic8\", \"Topic8\", \"Topic8\", \"Topic8\", \"Topic8\", \"Topic8\", \"Topic8\", \"Topic8\", \"Topic8\", \"Topic8\", \"Topic8\", \"Topic8\", \"Topic9\", \"Topic9\", \"Topic9\", \"Topic9\", \"Topic9\", \"Topic9\", \"Topic9\", \"Topic9\", \"Topic9\", \"Topic9\", \"Topic9\", \"Topic9\", \"Topic9\", \"Topic9\", \"Topic9\", \"Topic9\", \"Topic9\", \"Topic9\", \"Topic9\", \"Topic9\", \"Topic9\", \"Topic9\", \"Topic9\", \"Topic9\", \"Topic9\", \"Topic9\", \"Topic9\", \"Topic9\", \"Topic9\", \"Topic9\", \"Topic10\", \"Topic10\", \"Topic10\", \"Topic10\", \"Topic10\", \"Topic10\", \"Topic10\", \"Topic10\", \"Topic10\", \"Topic10\", \"Topic10\", \"Topic10\", \"Topic10\", \"Topic10\", \"Topic10\", \"Topic10\", \"Topic10\", \"Topic10\", \"Topic10\", \"Topic10\", \"Topic10\", \"Topic10\", \"Topic10\", \"Topic10\", \"Topic10\", \"Topic10\", \"Topic10\", \"Topic10\", \"Topic10\", \"Topic10\"], \"logprob\": [30.0, 29.0, 28.0, 27.0, 26.0, 25.0, 24.0, 23.0, 22.0, 21.0, 20.0, 19.0, 18.0, 17.0, 16.0, 15.0, 14.0, 13.0, 12.0, 11.0, 10.0, 9.0, 8.0, 7.0, 6.0, 5.0, 4.0, 3.0, 2.0, 1.0, -3.0264, -3.5727, -3.6269, -3.8377, -3.9995, -4.0661, -3.2819, -4.099, -4.5373, -4.5437, -4.631, -4.736, -4.7403, -4.8175, -4.829, -4.9187, -4.9319, -4.9773, -4.9898, -4.9927, -4.9945, -5.0013, -5.0159, -5.0526, -5.0579, -5.0583, -5.0659, -5.0905, -5.0951, -5.1222, -4.6881, -3.6713, -3.5051, -4.1103, -4.7054, -4.5048, -4.9345, -4.3755, -4.1766, -4.9358, -4.9925, -2.8912, -3.4187, -3.4645, -3.711, -3.873, -3.9736, -4.0148, -4.0649, -4.1352, -4.2409, -4.3484, -4.4042, -4.4285, -4.5962, -4.6364, -4.7115, -4.718, -4.7209, -4.726, -4.7609, -4.7731, -4.7741, -4.8431, -4.8874, -4.9202, -4.9599, -4.9657, -5.1344, -5.1757, -5.2849, -3.4429, -4.6597, -3.8802, -4.3155, -3.3781, -4.1001, -3.9231, -3.6128, -4.5131, -4.548, -4.3705, -4.6165, -4.6972, -4.6915, -1.9124, -3.6736, -3.8537, -3.9569, -3.9848, -4.1059, -4.1571, -4.1887, -4.2046, -4.2781, -4.3283, -4.3908, -4.4422, -4.4506, -4.5022, -4.5468, -4.5544, -4.5763, -4.5883, -4.6076, -4.6077, -4.6153, -4.667, -4.6836, -4.7033, -4.7176, -4.7394, -4.7792, -4.7851, -4.8377, -4.4123, -3.4865, -4.1531, -3.8267, -4.0773, -4.2599, -4.4837, -4.6373, -2.346, -3.0717, -3.1731, -3.4617, -3.4667, -3.4708, -3.485, -3.6599, -3.884, -4.0648, -4.0878, -4.2052, -4.2584, -4.282, -4.2949, -4.295, -4.4061, -4.4596, -4.4619, -4.5936, -4.6137, -4.6216, -4.7375, -4.807, -4.8588, -4.9173, -5.0156, -5.0423, -5.0561, -5.064, -4.2253, -3.1685, -4.0905, -4.4269, -3.4621, -4.412, -4.0527, -3.9417, -4.2918, -4.4674, -2.686, -2.9745, -3.0289, -3.1523, -3.5613, -3.5623, -3.6331, -3.6681, -3.6945, -3.7289, -3.7527, -3.8147, -3.9782, -4.0776, -4.0914, -4.2447, -4.3047, -4.3719, -4.3871, -4.4002, -4.4966, -4.6299, -4.6817, -4.7757, -4.8028, -4.9456, -5.039, -5.0424, -5.1884, -5.2737, -3.2933, -2.9346, -3.6829, -4.7946, -4.3736, -4.7296, -2.1393, -2.7949, -2.8714, -2.8919, -3.1566, -3.3728, -3.4069, -3.4621, -3.5658, -3.6226, -3.8305, -3.8946, -3.9121, -3.9551, -4.0511, -4.0783, -4.2443, -4.2654, -4.3958, -4.4105, -4.5453, -4.6818, -4.7238, -4.7288, -4.8255, -4.8766, -4.921, -5.0579, -5.1117, -5.1465, -4.6522, -4.9891, -5.0567, -2.1147, -2.6135, -2.8436, -2.8465, -2.9374, -3.0153, -3.2991, -3.3145, -3.4531, -3.6074, -3.8384, -3.8766, -4.1318, -4.1372, -4.1518, -4.3622, -4.5198, -4.5406, -4.7476, -4.885, -5.1431, -6.6389, -7.0711, -2.6065, -4.0021, -5.1478, -5.161, -11.6494, -11.6498, -11.6499, -7.3209, -11.6495, -2.4758, -2.6409, -2.9371, -2.9628, -3.0295, -3.1123, -3.2922, -3.4573, -3.5644, -3.7542, -3.8836, -3.9374, -4.0596, -4.0816, -4.1142, -4.2071, -4.3014, -4.4704, -4.7608, -4.8056, -4.8964, -4.9551, -5.05, -5.0717, -5.113, -5.1859, -5.2131, -5.5677, -5.878, -5.9269, -2.4899, -5.6995, -2.2844, -2.3394, -3.2025, -3.2051, -3.3065, -3.4108, -3.4616, -3.5093, -3.6117, -3.6212, -3.7517, -3.7579, -3.7592, -4.0484, -4.2424, -4.2963, -4.397, -4.4461, -4.4652, -4.4916, -4.4949, -4.6227, -4.7055, -4.8094, -4.8123, -5.311, -5.3457, -5.4229, -5.4486, -5.4498, -2.3958, -2.6622, -2.7195, -2.8973, -2.973, -3.1947, -3.3948, -3.5918, -3.6813, -3.7127, -3.7929, -3.8186, -3.9164, -4.0962, -4.0976, -4.2751, -4.3532, -4.4125, -4.5469, -4.6538, -4.8135, -4.9516, -4.9841, -5.1492, -5.3702, -6.1362, -6.1462, -6.1808, -6.4229, -6.6516], \"loglift\": [30.0, 29.0, 28.0, 27.0, 26.0, 25.0, 24.0, 23.0, 22.0, 21.0, 20.0, 19.0, 18.0, 17.0, 16.0, 15.0, 14.0, 13.0, 12.0, 11.0, 10.0, 9.0, 8.0, 7.0, 6.0, 5.0, 4.0, 3.0, 2.0, 1.0, 0.6317, 0.6316, 0.6316, 0.6316, 0.6315, 0.6315, 0.6315, 0.6315, 0.6314, 0.6314, 0.6313, 0.6313, 0.6313, 0.6312, 0.6312, 0.6312, 0.6312, 0.6311, 0.6311, 0.6311, 0.6311, 0.6311, 0.6311, 0.6311, 0.6311, 0.6311, 0.6311, 0.6311, 0.6311, 0.631, 0.6136, 0.534, 0.4042, 0.464, 0.5594, 0.5164, 0.5934, 0.2619, 0.1417, 0.5336, 0.5291, 1.8886, 1.8884, 1.8883, 1.8882, 1.8881, 1.888, 1.888, 1.8879, 1.8879, 1.8877, 1.8876, 1.8876, 1.8875, 1.8873, 1.8872, 1.8871, 1.8871, 1.8871, 1.8871, 1.887, 1.887, 1.887, 1.8868, 1.8868, 1.8867, 1.8866, 1.8866, 1.8862, 1.8861, 1.8857, 1.4523, 1.7246, 1.4389, 1.5098, 0.9402, 1.3369, 0.7143, 0.2965, 1.423, 1.4412, 0.8909, 1.4697, 1.1983, -0.4861, 2.3437, 2.3429, 2.3427, 2.3426, 2.3425, 2.3424, 2.3423, 2.3422, 2.3422, 2.3421, 2.342, 2.3419, 2.3418, 2.3418, 2.3416, 2.3415, 2.3415, 2.3415, 2.3414, 2.3414, 2.3414, 2.3414, 2.3412, 2.3412, 2.3412, 2.3411, 2.3411, 2.3409, 2.3409, 2.3408, 2.1824, 1.7981, 1.9327, 1.6385, 1.3597, 1.3303, 0.0906, 1.1881, 2.8729, 2.8724, 2.8723, 2.872, 2.872, 2.872, 2.872, 2.8717, 2.8713, 2.8709, 2.8708, 2.8705, 2.8704, 2.8703, 2.8703, 2.8703, 2.8699, 2.8697, 2.8697, 2.8692, 2.8691, 2.8691, 2.8686, 2.8682, 2.868, 2.8676, 2.867, 2.8669, 2.8668, 2.8667, 2.7039, 2.4216, 2.5798, 2.6673, 1.857, 2.3688, 1.8834, 1.6367, 2.1159, 2.406, 3.2119, 3.2116, 3.2115, 3.2113, 3.2106, 3.2106, 3.2105, 3.2104, 3.2103, 3.2103, 3.2102, 3.21, 3.2096, 3.2092, 3.2092, 3.2086, 3.2083, 3.208, 3.208, 3.2079, 3.2074, 3.2066, 3.2063, 3.2057, 3.2055, 3.2044, 3.2036, 3.2036, 3.2021, 3.2012, 2.9894, 2.5307, 2.1434, 2.7557, 0.2008, 1.5774, 3.3931, 3.3925, 3.3924, 3.3924, 3.392, 3.3916, 3.3915, 3.3914, 3.3912, 3.391, 3.3904, 3.3902, 3.3901, 3.3899, 3.3896, 3.3894, 3.3887, 3.3886, 3.3878, 3.3878, 3.3869, 3.3859, 3.3856, 3.3855, 3.3847, 3.3842, 3.3838, 3.3824, 3.3818, 3.3813, 2.0182, 1.5953, 2.2646, 3.6406, 3.6401, 3.6397, 3.6397, 3.6396, 3.6394, 3.6388, 3.6388, 3.6384, 3.6379, 3.637, 3.6368, 3.6355, 3.6355, 3.6354, 3.6341, 3.6328, 3.6326, 3.6307, 3.6291, 3.6255, 3.5727, 3.5374, 3.2198, 2.5151, 1.9464, 1.7682, 1.1849, 1.1847, 1.1847, 1.172, 1.1846, 3.6606, 3.6604, 3.6599, 3.6599, 3.6598, 3.6596, 3.6592, 3.6587, 3.6584, 3.6577, 3.6572, 3.6569, 3.6563, 3.6562, 3.656, 3.6554, 3.6548, 3.6535, 3.6508, 3.6503, 3.6492, 3.6485, 3.6472, 3.6468, 3.6462, 3.6451, 3.6446, 3.6374, 3.6287, 3.6271, 2.7947, 1.9814, 3.878, 3.878, 3.8763, 3.8763, 3.876, 3.8757, 3.8755, 3.8753, 3.8749, 3.8748, 3.8742, 3.8742, 3.8742, 3.8725, 3.8711, 3.8707, 3.8698, 3.8693, 3.8691, 3.8688, 3.8688, 3.8674, 3.8664, 3.865, 3.8649, 3.8558, 3.855, 3.8531, 3.8524, 3.8524, 4.0025, 4.002, 4.0019, 4.0015, 4.0013, 4.0007, 4.0, 3.9991, 3.9987, 3.9985, 3.998, 3.9979, 3.9973, 3.996, 3.996, 3.9944, 3.9937, 3.993, 3.9915, 3.9901, 3.9877, 3.9853, 3.9847, 3.9813, 3.9758, 3.9444, 3.9438, 3.9418, 3.9254, 3.9062]}, \"token.table\": {\"Topic\": [3, 7, 9, 4, 6, 8, 4, 2, 8, 4, 6, 2, 9, 10, 5, 7, 2, 4, 9, 6, 4, 1, 3, 5, 1, 2, 4, 6, 4, 9, 6, 3, 1, 2, 9, 8, 6, 3, 8, 2, 7, 10, 8, 2, 2, 4, 4, 2, 1, 2, 9, 8, 2, 4, 4, 7, 7, 4, 3, 9, 5, 3, 3, 9, 2, 8, 9, 10, 8, 10, 6, 10, 3, 4, 8, 6, 2, 2, 4, 5, 3, 6, 8, 7, 6, 6, 5, 10, 2, 7, 10, 6, 3, 5, 2, 3, 8, 3, 5, 1, 7, 3, 1, 1, 1, 9, 8, 4, 7, 1, 6, 8, 3, 5, 5, 2, 3, 5, 9, 3, 3, 5, 9, 8, 2, 4, 4, 4, 4, 7, 6, 1, 1, 9, 8, 1, 6, 5, 7, 4, 9, 4, 3, 5, 6, 10, 1, 3, 10, 3, 1, 2, 3, 5, 2, 8, 6, 8, 1, 6, 1, 5, 7, 6, 9, 8, 10, 9, 2, 3, 3, 5, 10, 2, 3, 3, 6, 3, 7, 1, 2, 8, 7, 7, 10, 3, 1, 4, 6, 10, 1, 6, 2, 2, 1, 10, 9, 1, 2, 10, 1, 4, 3, 3, 5, 7, 5, 4, 8, 1, 4, 3, 2, 5, 1, 3, 5, 2, 3, 2, 1, 2, 3, 3, 2, 7, 10, 3, 5, 8, 2, 2, 1, 10, 4, 8, 1, 2, 5, 5, 2, 3, 9, 3, 4, 6, 6, 7, 4, 4, 8, 5, 7, 7, 6, 2, 4, 10, 6, 1, 2, 5, 1, 2, 4, 9, 1, 2, 8, 1, 4, 1, 8, 2, 8, 9, 3, 1, 2, 3, 1, 9, 4, 4, 9, 10, 10, 1, 2, 3, 5, 6, 1, 2, 2, 6, 8, 9, 9, 5, 5, 3, 9, 5, 2, 10, 5, 1, 9, 2, 4, 9, 5, 7, 10, 5, 7, 10, 5, 2, 2, 1, 2, 10, 1, 2, 8, 4, 6, 5, 6, 1, 7, 1, 1, 7, 6, 4, 10, 1, 2, 10, 1, 2, 2, 10, 1, 1, 1, 8, 9, 2, 8, 8, 7, 5, 10, 6, 1, 3, 4, 6, 7, 9, 4, 7, 8, 1, 5, 9, 5, 4, 2, 4, 5, 2, 6, 10, 10, 2, 3, 4, 7], \"Freq\": [0.9985354652143232, 0.9943219500076609, 0.9984235715721377, 0.9962092019189631, 0.9882219225330933, 0.9969785962647761, 0.9982095610614422, 0.9997312069333261, 0.9907249430439337, 0.9940017099244244, 0.9955849198378941, 0.998208370119641, 0.9825714606821239, 0.9440518186831486, 0.9987572605101771, 0.9930350970625298, 0.9989268058845266, 0.9951020133720999, 0.9906775636674524, 0.9986987370965332, 0.9960601222538297, 0.8454429742148261, 0.10508688410307834, 0.049061647698726334, 0.891220061545766, 0.10886641506944393, 0.9978462033539612, 0.9992697273576506, 0.990988724719166, 0.9957533328527773, 0.9965534879464627, 0.9971119914846786, 0.6310884767768462, 0.36871171225446847, 0.9979186780257052, 0.9969774717780113, 0.9983283149705359, 0.9993423873373815, 0.9958585742763721, 0.9967975716755708, 0.9925084681832259, 0.975729381494833, 0.9771579454437589, 0.9988275355676645, 0.5306111091517637, 0.46923445100361194, 0.9969999710888153, 0.9973569059803102, 0.34163069622500924, 0.6574237767691354, 0.9698912758055794, 0.998525733057384, 0.9990071029913241, 0.9984058097538057, 0.9976257417352474, 0.9963257357954657, 0.9990067141046403, 0.9998450373726445, 0.9990242567462255, 0.9939733615551496, 0.9977297583673618, 0.9999460177640276, 0.9968088351250505, 0.9688588206080487, 0.9978474506365033, 0.9974873622222076, 0.9968808318318831, 0.9923654368768281, 0.976954073047175, 0.9963158627393242, 0.9976495227514303, 0.9910873166696202, 0.9967254728070769, 0.9965360436236579, 0.9992055364582046, 0.9979167759320675, 0.9973231722355105, 0.5710302369662141, 0.2344983104782886, 0.1951169148254462, 0.9962349061317489, 0.9946107599009774, 0.9741830946101163, 0.9989669929328813, 0.9956196272285648, 0.9897394892980838, 0.9915985887872639, 0.9926032721978889, 0.9993321328290425, 0.9772651406037162, 0.9961827822210106, 0.9910932346538724, 0.9985407825962461, 0.9973862113134015, 0.9989179441200635, 0.5795601954698342, 0.42050311960200193, 0.9970439217038958, 0.9984204710261514, 0.9989877382522209, 0.9248911610241165, 0.9954728865406474, 0.9996827501186535, 0.9996868842744824, 0.9995178313284747, 0.9931978477756408, 0.9781100574909571, 0.8141997186602732, 0.18486660278759828, 0.999129967725594, 0.9943975266272542, 0.9787164381655581, 0.9974013187829311, 0.9983335705528746, 0.9960280955399445, 0.9986543577860707, 0.359968769249957, 0.6330485252326831, 0.9935466660942629, 0.9988333129733445, 0.19916601051381658, 0.8001581825905965, 0.9889358268275145, 0.9973694317812147, 0.6379143998492793, 0.3619514306354845, 0.9974359643681942, 0.9897048459683842, 0.995193678025746, 0.9973440744832258, 0.9892158372804137, 0.9998699012312536, 0.9989261099534393, 0.9954746050673071, 0.9824561159019389, 0.9996546301922091, 0.9991260815604113, 0.3431385918229231, 0.6563909191967529, 0.9952707323247497, 0.9760620114602663, 0.9966090477506557, 0.997728984057376, 0.9930870487561337, 0.9990931658463811, 0.9978533513129094, 0.9997976163366884, 0.00016344574404719445, 0.9907750595698671, 0.9970275252198801, 0.7964392201677191, 0.20346393321268116, 0.998728209112899, 0.9948385584633596, 0.9988015642739118, 0.9922691736313608, 0.9977649966441235, 0.9977196606086115, 0.9996853945078378, 0.9978322551758745, 0.9989298882866133, 0.9981386446643749, 0.9911369273973177, 0.9898991957210957, 0.9923264291833989, 0.9965921221263447, 0.9644364631347058, 0.9992396133547319, 0.9977465659177445, 0.9988463723028664, 0.8497051718431106, 0.1479823613884069, 0.9914496972592121, 0.9991892274192297, 0.9968382107095691, 0.998852157085415, 0.9941493535852788, 0.9976819605451902, 0.997939699289707, 0.9026675968858026, 0.09712246295606737, 0.9990457125553776, 0.9864204583139284, 0.9946622999227361, 0.9966141138669664, 0.9978948411678713, 0.9999177641887921, 0.7465885618185167, 0.25229544502832635, 0.9933876891407386, 0.9999220295650957, 0.9958114884575708, 0.9993147910793668, 0.9976068936985485, 0.9992884531878586, 0.993769277246783, 0.9981776107196211, 0.9069259009670723, 0.09301242951520408, 0.981917870096586, 0.9995651380398957, 0.9963382233153363, 0.9982666221467829, 0.49374761744639484, 0.5053198272302948, 0.9923420979110846, 0.9960094778988191, 0.9977461652803944, 0.986540210905662, 0.7092014733758657, 0.2902456699808659, 0.9982099608695534, 0.9988622974751393, 0.9993641606641325, 0.3357617679090016, 0.6629142597177724, 0.992893132938823, 0.6845112885341167, 0.31516270958355935, 0.9976140523247513, 0.9819127454573144, 0.017686220231719472, 0.9979158196890341, 0.998857455606634, 0.6736698088810086, 0.3246867603459287, 0.9964329953897642, 0.998974453240458, 0.9910470027284268, 0.9956253434823944, 0.9997342101470387, 0.999689707953047, 0.999497200524597, 0.9954122046070338, 0.9978380426347373, 0.9913112360096575, 0.49824818127620735, 0.5018070968567517, 0.9856924272349581, 0.9921925974870653, 0.9974791279189941, 0.9988298191019351, 0.9848996246359973, 0.36276034370445515, 0.6363603137755262, 0.995435190097397, 0.9878591426883135, 0.9975650288119516, 0.9954562136031054, 0.9972801356077956, 0.9960736007974699, 0.9970146006968855, 0.9958298564398056, 0.9951407087789299, 0.9982427599766935, 0.3722000362605936, 0.6276932814903231, 0.9947377684187042, 0.9852114673349857, 0.3533755547776564, 0.6461101192909989, 0.9980865145188998, 0.6125531476294215, 0.38737861056084616, 0.9991914225431646, 0.9768347174618023, 0.35956531887176846, 0.6396614911812982, 0.9922947544134777, 0.9991619875242219, 0.9915150597720555, 0.9988852270066735, 0.9943800889587621, 0.9992542442506656, 0.966570769727585, 0.9979871275823239, 0.9984163900594072, 0.9299278941076304, 0.04040419906509732, 0.0290405180780387, 0.9997002630279137, 0.9938792600686609, 0.9966187521416394, 0.9921706723383522, 0.9919265269183368, 0.9970558554918585, 0.9836238876452958, 0.9064218756510154, 0.09296634622061696, 0.9975508496958257, 0.9926246954968824, 0.9978792440401254, 0.15085357916838318, 0.8490348878835925, 0.8339400062778498, 0.16537053948852545, 0.9839466264292122, 0.9889793470158675, 0.9650186833734553, 0.9918420422176417, 0.9915908890081611, 0.998105044848274, 0.9661357071070326, 0.993297787424127, 0.9985722276748009, 0.9720872983082678, 0.9955516594218048, 0.9991368846339677, 0.9963015193607209, 0.9973857529295577, 0.9974857520581509, 0.9967753151915519, 0.9980465514472839, 0.9888662523214676, 0.879173558951, 0.9079855278412899, 0.0796478533194114, 0.9934849738687529, 0.9922095949205325, 0.999708982879669, 0.9989722503633045, 0.9993929998767567, 0.9974640914051404, 0.9743094538921612, 0.9996586772909751, 0.8062178734518164, 0.18387425183988795, 0.9951457896065938, 0.9978310035799308, 0.9967483223972928, 0.9823910426243635, 0.9994784079486976, 0.9962270104252781, 0.9998018367129373, 0.9996162075056763, 0.9994949727062832, 0.9984245580443534, 0.9988169115512705, 0.9979525545857806, 0.9625449342255505, 0.036957783310707995, 0.9352448646108668, 0.6907723803841413, 0.3088079553108216, 0.9984840423958711, 0.9938157321037376, 0.9991576855375371, 0.9993736509093717, 0.9997757749296186, 0.9828609212353897, 0.9910775072246631, 0.9978943982810641, 0.9975261261014794, 0.9990996691461316, 0.9992953107047577, 0.9973725013236113, 0.9982233784893356, 0.992789888527232, 0.9996318589929005, 0.2788829778119857, 0.6037672715517216, 0.11500328981937553, 0.9861710490431765, 0.9871043766934187, 0.84381260079567, 0.15342047287194002, 0.9659094754618471, 0.9993471086240088, 0.9986427355803695, 0.9974518830611284, 0.9968181314591599, 0.9992378016997783, 0.6275771383080864, 0.3718518083282165, 0.9970178461573425, 0.6713165901805588, 0.32084984089512003, 0.975367221995041, 0.9167517821982789, 0.5759862616756781, 0.37349109155532256, 0.05024880147431046, 0.9985881666621688], \"Term\": [\"absolutely\", \"acid\", \"added\", \"aftertaste\", \"allergic\", \"alternative\", \"amazing\", \"amazon\", \"amounts\", \"apple\", \"arent\", \"arrived\", \"attention\", \"august\", \"bags\", \"baked\", \"bars\", \"batch\", \"bean\", \"beans\", \"beef\", \"best\", \"best\", \"best\", \"better\", \"better\", \"bitter\", \"black\", \"bland\", \"blood\", \"boiling\", \"bold\", \"bought\", \"bought\", \"bowl\", \"boxes\", \"bread\", \"breakfast\", \"brewed\", \"bulk\", \"bunch\", \"burn\", \"business\", \"came\", \"candy\", \"candy\", \"canned\", \"carry\", \"case\", \"case\", \"caused\", \"cereal\", \"cheaper\", \"cheese\", \"chew\", \"chip\", \"chips\", \"chocolate\", \"cinnamon\", \"coating\", \"cocoa\", \"coffee\", \"coffees\", \"colored\", \"comes\", \"compared\", \"completely\", \"concerned\", \"consistently\", \"content\", \"continue\", \"control\", \"cook\", \"cookie\", \"cookies\", \"cooking\", \"cost\", \"couple\", \"couple\", \"couple\", \"course\", \"crackers\", \"crap\", \"cream\", \"creamy\", \"creme\", \"crisp\", \"crushed\", \"cups\", \"curious\", \"customer\", \"dairy\", \"dark\", \"daughter\", \"deal\", \"delicious\", \"delicious\", \"delivery\", \"difference\", \"different\", \"dirt\", \"discovered\", \"dogs\", \"dont\", \"drink\", \"drop\", \"earth\", \"eaten\", \"eaten\", \"eating\", \"eggs\", \"email\", \"energy\", \"especially\", \"exactly\", \"excellent\", \"excited\", \"excited\", \"expect\", \"extra\", \"family\", \"family\", \"farms\", \"fast\", \"favorite\", \"favorite\", \"feeding\", \"figured\", \"filling\", \"finally\", \"finding\", \"flavor\", \"flavors\", \"flour\", \"following\", \"food\", \"free\", \"fresh\", \"fresh\", \"frozen\", \"garbage\", \"gave\", \"gift\", \"ginger\", \"gluten\", \"gone\", \"good\", \"good\", \"gotten\", \"grains\", \"great\", \"great\", \"green\", \"grew\", \"grocery\", \"ground\", \"guess\", \"health\", \"healthy\", \"help\", \"high\", \"home\", \"homemade\", \"household\", \"imagine\", \"important\", \"improve\", \"ingredients\", \"inside\", \"instant\", \"isnt\", \"isnt\", \"issue\", \"item\", \"kcup\", \"kcups\", \"kept\", \"keurig\", \"kids\", \"know\", \"know\", \"large\", \"lays\", \"leaves\", \"life\", \"light\", \"like\", \"liked\", \"liked\", \"likely\", \"little\", \"live\", \"local\", \"locally\", \"long\", \"lose\", \"lost\", \"love\", \"love\", \"lover\", \"loves\", \"lunch\", \"maker\", \"makes\", \"makes\", \"mango\", \"market\", \"meal\", \"method\", \"milk\", \"milk\", \"minutes\", \"month\", \"months\", \"morning\", \"morning\", \"near\", \"need\", \"need\", \"needed\", \"nice\", \"nice\", \"nuts\", \"oatmeal\", \"ones\", \"ones\", \"online\", \"open\", \"opening\", \"opinion\", \"order\", \"ordered\", \"organic\", \"original\", \"ounce\", \"ounces\", \"pack\", \"pack\", \"pain\", \"pantry\", \"past\", \"pasta\", \"peanuts\", \"perfect\", \"perfect\", \"picked\", \"placed\", \"plain\", \"pleasant\", \"plus\", \"pods\", \"popcorn\", \"potato\", \"pouches\", \"pound\", \"powder\", \"powder\", \"powdered\", \"prepared\", \"price\", \"price\", \"problems\", \"product\", \"product\", \"protein\", \"pump\", \"purchase\", \"purchase\", \"pure\", \"quality\", \"reading\", \"real\", \"reason\", \"received\", \"recent\", \"recently\", \"recipe\", \"recommend\", \"recommend\", \"recommend\", \"regular\", \"remember\", \"replacement\", \"rest\", \"restaurant\", \"review\", \"reviewer\", \"right\", \"right\", \"roast\", \"sale\", \"sauce\", \"save\", \"save\", \"says\", \"says\", \"scent\", \"seasoning\", \"seaweed\", \"sell\", \"seller\", \"service\", \"shame\", \"ship\", \"shipping\", \"smart\", \"smelled\", \"snack\", \"soda\", \"soft\", \"somewhat\", \"soon\", \"soup\", \"sour\", \"spiced\", \"stale\", \"stale\", \"start\", \"starting\", \"store\", \"stores\", \"stuff\", \"subscribe\", \"suffered\", \"sugar\", \"suggest\", \"suggest\", \"summer\", \"super\", \"supermarket\", \"supply\", \"sweet\", \"taking\", \"taste\", \"tastes\", \"tasty\", \"tell\", \"texture\", \"thank\", \"think\", \"think\", \"thrown\", \"time\", \"time\", \"times\", \"toys\", \"treat\", \"treats\", \"tried\", \"trust\", \"turkey\", \"type\", \"types\", \"value\", \"vanilla\", \"varieties\", \"variety\", \"veggies\", \"want\", \"wanted\", \"wanted\", \"wanted\", \"wants\", \"wasabi\", \"wasnt\", \"wasnt\", \"wasting\", \"water\", \"weeks\", \"wellness\", \"weve\", \"white\", \"work\", \"work\", \"world\", \"wouldnt\", \"wouldnt\", \"wouldve\", \"wrap\", \"years\", \"years\", \"years\", \"youre\"]}, \"R\": 30, \"lambda.step\": 0.01, \"plot.opts\": {\"xlab\": \"PC1\", \"ylab\": \"PC2\"}, \"topic.order\": [2, 3, 4, 5, 7, 6, 8, 1, 10, 9]};\n",
       "\n",
       "function LDAvis_load_lib(url, callback){\n",
       "  var s = document.createElement('script');\n",
       "  s.src = url;\n",
       "  s.async = true;\n",
       "  s.onreadystatechange = s.onload = callback;\n",
       "  s.onerror = function(){console.warn(\"failed to load library \" + url);};\n",
       "  document.getElementsByTagName(\"head\")[0].appendChild(s);\n",
       "}\n",
       "\n",
       "if(typeof(LDAvis) !== \"undefined\"){\n",
       "   // already loaded: just create the visualization\n",
       "   !function(LDAvis){\n",
       "       new LDAvis(\"#\" + \"ldavis_el101441405032253335849294937389\", ldavis_el101441405032253335849294937389_data);\n",
       "   }(LDAvis);\n",
       "}else if(typeof define === \"function\" && define.amd){\n",
       "   // require.js is available: use it to load d3/LDAvis\n",
       "   require.config({paths: {d3: \"https://d3js.org/d3.v5\"}});\n",
       "   require([\"d3\"], function(d3){\n",
       "      window.d3 = d3;\n",
       "      LDAvis_load_lib(\"https://cdn.jsdelivr.net/gh/bmabey/pyLDAvis@3.3.1/pyLDAvis/js/ldavis.v3.0.0.js\", function(){\n",
       "        new LDAvis(\"#\" + \"ldavis_el101441405032253335849294937389\", ldavis_el101441405032253335849294937389_data);\n",
       "      });\n",
       "    });\n",
       "}else{\n",
       "    // require.js not available: dynamically load d3 & LDAvis\n",
       "    LDAvis_load_lib(\"https://d3js.org/d3.v5.js\", function(){\n",
       "         LDAvis_load_lib(\"https://cdn.jsdelivr.net/gh/bmabey/pyLDAvis@3.3.1/pyLDAvis/js/ldavis.v3.0.0.js\", function(){\n",
       "                 new LDAvis(\"#\" + \"ldavis_el101441405032253335849294937389\", ldavis_el101441405032253335849294937389_data);\n",
       "            })\n",
       "         });\n",
       "}\n",
       "</script>"
      ],
      "text/plain": [
       "PreparedData(topic_coordinates=              x         y  topics  cluster       Freq\n",
       "topic                                                \n",
       "1      0.385663 -0.035518       1        1  53.164012\n",
       "2      0.306382 -0.084174       2        1  15.124795\n",
       "3      0.024376  0.382857       3        1   9.595454\n",
       "4     -0.003487 -0.053456       4        1   5.650947\n",
       "6     -0.088432  0.122214       5        1   4.024660\n",
       "5     -0.089929 -0.100581       6        1   3.358375\n",
       "7     -0.123754 -0.080717       7        1   2.621768\n",
       "0     -0.126276  0.019879       8        1   2.568836\n",
       "9     -0.141216 -0.087911       9        1   2.066750\n",
       "8     -0.143326 -0.082594      10        1   1.824403, topic_info=           Term         Freq        Total Category  logprob  loglift\n",
       "183      coffee  4343.000000  4343.000000  Default  30.0000  30.0000\n",
       "16         like  7897.000000  7897.000000  Default  29.0000  29.0000\n",
       "109      amazon  2572.000000  2572.000000  Default  28.0000  28.0000\n",
       "484   chocolate  1658.000000  1658.000000  Default  27.0000  27.0000\n",
       "184   delicious  1552.000000  1552.000000  Default  26.0000  26.0000\n",
       "...         ...          ...          ...      ...      ...      ...\n",
       "1123     thrown    12.089541    12.830864  Topic10  -6.1362   3.9444\n",
       "823      august    11.969843    12.711167  Topic10  -6.1462   3.9438\n",
       "665     wouldve    11.561735    12.303059  Topic10  -6.1808   3.9418\n",
       "1253       wrap     9.075947     9.817270  Topic10  -6.4229   3.9254\n",
       "1121     spiced     7.220699     7.962023  Topic10  -6.6516   3.9062\n",
       "\n",
       "[386 rows x 6 columns], token_table=      Topic      Freq        Term\n",
       "term                             \n",
       "740       3  0.998535  absolutely\n",
       "1231      7  0.994322        acid\n",
       "1260      9  0.998424       added\n",
       "872       4  0.996209  aftertaste\n",
       "352       6  0.988222    allergic\n",
       "...     ...       ...         ...\n",
       "1253     10  0.916752        wrap\n",
       "497       2  0.575986       years\n",
       "497       3  0.373491       years\n",
       "497       4  0.050249       years\n",
       "780       7  0.998588       youre\n",
       "\n",
       "[383 rows x 3 columns], R=30, lambda_step=0.01, plot_opts={'xlab': 'PC1', 'ylab': 'PC2'}, topic_order=[2, 3, 4, 5, 7, 6, 8, 1, 10, 9])"
      ]
     },
     "execution_count": 52,
     "metadata": {},
     "output_type": "execute_result"
    }
   ],
   "source": [
    "model, corpus, coherence_scores_topics, \\\n",
    "        coherence_scores_alphas_etas = lda.run_model(term_matrix, id2word, \n",
    "                                base_model = True, optimize_topics = False, \n",
    "                                optimize_etas_alphas = False, alpha = 0.05, eta = 0.05, topics = 10)\n",
    "lda.visualize(model, corpus, id2word)"
   ]
  },
  {
   "cell_type": "markdown",
   "metadata": {},
   "source": [
    "### C. Vary the number of topics [5, 10, 15, 25, 50]"
   ]
  },
  {
   "cell_type": "code",
   "execution_count": null,
   "metadata": {},
   "outputs": [
    {
     "name": "stdout",
     "output_type": "stream",
     "text": [
      "\n",
      "\n",
      "Running LDA model with alpha = 0.05, eta = 0.05, n_topics = 5...\n",
      "\n"
     ]
    }
   ],
   "source": [
    "model, corpus, coherence_scores_topics, \\\n",
    "        coherence_scores_alphas_etas = lda.run_model(term_matrix, id2word, \n",
    "                                base_model = False, optimize_topics = True, \n",
    "                                optimize_etas_alphas = False, alpha = 0.05, eta = 0.05, topics = None, texts=texts)"
   ]
  },
  {
   "cell_type": "code",
   "execution_count": null,
   "metadata": {},
   "outputs": [],
   "source": [
    "plt.figure(figsize=(20,10))\n",
    "plt.plot(list(coherence_scores_topics.keys()), list(coherence_scores_topics.values()))\n",
    "plt.suptitle('Coherence Score vs Number of Topics', fontweight='bold')\n",
    "plt.ylabel('Coherence (c_v)')\n",
    "plt.xlabel('Number of Topics')"
   ]
  },
  {
   "cell_type": "markdown",
   "metadata": {},
   "source": [
    "### Visualize 5 topics"
   ]
  },
  {
   "cell_type": "code",
   "execution_count": null,
   "metadata": {},
   "outputs": [],
   "source": [
    "lda.visualize(model[0], corpus[0], id2word)"
   ]
  },
  {
   "cell_type": "markdown",
   "metadata": {},
   "source": [
    "### Visualize 25 topics"
   ]
  },
  {
   "cell_type": "code",
   "execution_count": null,
   "metadata": {
    "scrolled": true
   },
   "outputs": [],
   "source": [
    "lda.visualize(model[3], corpus[3], id2word)"
   ]
  },
  {
   "cell_type": "markdown",
   "metadata": {},
   "source": [
    "#### Report the optimum number of topics"
   ]
  },
  {
   "cell_type": "markdown",
   "metadata": {},
   "source": [
    "The graphs above show that as the number of topics decrease, there tends to be more overlap between the topics. Therefore, we can chose 5 topics to optimize the model. The topics are interpretable and have unique terms. Each topic is in some way related to the other topics, which can give us a sense that the topics are exhaustive across the documents."
   ]
  },
  {
   "cell_type": "markdown",
   "metadata": {},
   "source": [
    "### C. Vary the number of ***alpha*** and ***eta*** [0.05, 0.10, 0.15, 0.20, 0.25]\n",
    "### Run LDA with ***n_topics*** = 5 (optimum number of topics)"
   ]
  },
  {
   "cell_type": "markdown",
   "metadata": {},
   "source": [
    "### Visualize ***alpha*** = 0.05 and ***eta*** = 0.05"
   ]
  },
  {
   "cell_type": "code",
   "execution_count": 8,
   "metadata": {},
   "outputs": [
    {
     "name": "stdout",
     "output_type": "stream",
     "text": [
      "\n",
      "\n",
      "Running LDA model with alpha = 0.05, eta = 0.05, n_topics = 5...\n",
      "\n",
      "Running LDA model with alpha = 0.05, eta = 0.1, n_topics = 5...\n",
      "\n",
      "Running LDA model with alpha = 0.05, eta = 0.15, n_topics = 5...\n",
      "\n",
      "Running LDA model with alpha = 0.05, eta = 0.2, n_topics = 5...\n",
      "\n",
      "Running LDA model with alpha = 0.05, eta = 0.25, n_topics = 5...\n",
      "\n",
      "Running LDA model with alpha = 0.1, eta = 0.05, n_topics = 5...\n",
      "\n",
      "Running LDA model with alpha = 0.1, eta = 0.1, n_topics = 5...\n",
      "\n",
      "Running LDA model with alpha = 0.1, eta = 0.15, n_topics = 5...\n",
      "\n",
      "Running LDA model with alpha = 0.1, eta = 0.2, n_topics = 5...\n",
      "\n",
      "Running LDA model with alpha = 0.1, eta = 0.25, n_topics = 5...\n",
      "\n",
      "Running LDA model with alpha = 0.15, eta = 0.05, n_topics = 5...\n",
      "\n",
      "Running LDA model with alpha = 0.15, eta = 0.1, n_topics = 5...\n",
      "\n",
      "Running LDA model with alpha = 0.15, eta = 0.15, n_topics = 5...\n",
      "\n",
      "Running LDA model with alpha = 0.15, eta = 0.2, n_topics = 5...\n",
      "\n",
      "Running LDA model with alpha = 0.15, eta = 0.25, n_topics = 5...\n",
      "\n",
      "Running LDA model with alpha = 0.2, eta = 0.05, n_topics = 5...\n",
      "\n",
      "Running LDA model with alpha = 0.2, eta = 0.1, n_topics = 5...\n",
      "\n",
      "Running LDA model with alpha = 0.2, eta = 0.15, n_topics = 5...\n",
      "\n",
      "Running LDA model with alpha = 0.2, eta = 0.2, n_topics = 5...\n",
      "\n",
      "Running LDA model with alpha = 0.2, eta = 0.25, n_topics = 5...\n",
      "\n",
      "Running LDA model with alpha = 0.25, eta = 0.05, n_topics = 5...\n",
      "\n",
      "Running LDA model with alpha = 0.25, eta = 0.1, n_topics = 5...\n",
      "\n",
      "Running LDA model with alpha = 0.25, eta = 0.15, n_topics = 5...\n",
      "\n",
      "Running LDA model with alpha = 0.25, eta = 0.2, n_topics = 5...\n",
      "\n",
      "Running LDA model with alpha = 0.25, eta = 0.25, n_topics = 5...\n",
      "\n",
      "Finished!\n"
     ]
    }
   ],
   "source": [
    "model, corpus, coherence_scores_topics, \\\n",
    "        coherence_scores_alphas_etas = lda.run_model(term_matrix, id2word, \n",
    "                                base_model = False, optimize_topics = False, \n",
    "                                optimize_etas_alphas = True, alpha = None, eta = None, topics = 5, texts=texts)"
   ]
  },
  {
   "cell_type": "code",
   "execution_count": 41,
   "metadata": {},
   "outputs": [
    {
     "data": {
      "text/html": [
       "<div>\n",
       "<style scoped>\n",
       "    .dataframe tbody tr th:only-of-type {\n",
       "        vertical-align: middle;\n",
       "    }\n",
       "\n",
       "    .dataframe tbody tr th {\n",
       "        vertical-align: top;\n",
       "    }\n",
       "\n",
       "    .dataframe thead th {\n",
       "        text-align: right;\n",
       "    }\n",
       "</style>\n",
       "<table border=\"1\" class=\"dataframe\">\n",
       "  <thead>\n",
       "    <tr style=\"text-align: right;\">\n",
       "      <th></th>\n",
       "      <th>alpha</th>\n",
       "      <th>eta</th>\n",
       "      <th>coherence_score</th>\n",
       "    </tr>\n",
       "  </thead>\n",
       "  <tbody>\n",
       "    <tr>\n",
       "      <th>0</th>\n",
       "      <td>0.05</td>\n",
       "      <td>0.05</td>\n",
       "      <td>0.306098</td>\n",
       "    </tr>\n",
       "    <tr>\n",
       "      <th>1</th>\n",
       "      <td>0.05</td>\n",
       "      <td>0.10</td>\n",
       "      <td>0.340261</td>\n",
       "    </tr>\n",
       "    <tr>\n",
       "      <th>2</th>\n",
       "      <td>0.05</td>\n",
       "      <td>0.15</td>\n",
       "      <td>0.344007</td>\n",
       "    </tr>\n",
       "    <tr>\n",
       "      <th>3</th>\n",
       "      <td>0.05</td>\n",
       "      <td>0.20</td>\n",
       "      <td>0.337935</td>\n",
       "    </tr>\n",
       "    <tr>\n",
       "      <th>4</th>\n",
       "      <td>0.05</td>\n",
       "      <td>0.25</td>\n",
       "      <td>0.332193</td>\n",
       "    </tr>\n",
       "  </tbody>\n",
       "</table>\n",
       "</div>"
      ],
      "text/plain": [
       "   alpha   eta  coherence_score\n",
       "0   0.05  0.05         0.306098\n",
       "1   0.05  0.10         0.340261\n",
       "2   0.05  0.15         0.344007\n",
       "3   0.05  0.20         0.337935\n",
       "4   0.05  0.25         0.332193"
      ]
     },
     "execution_count": 41,
     "metadata": {},
     "output_type": "execute_result"
    }
   ],
   "source": [
    "scores_df = pd.DataFrame.from_dict(coherence_scores_alphas_etas)\n",
    "scores_df.head()"
   ]
  },
  {
   "cell_type": "code",
   "execution_count": 42,
   "metadata": {},
   "outputs": [
    {
     "name": "stdout",
     "output_type": "stream",
     "text": [
      "Best Coherence Score\n",
      "alpha              0.250000\n",
      "eta                0.250000\n",
      "coherence_score    0.384109\n",
      "dtype: float64 \n",
      "\n",
      "Worst Coherence Score\n",
      "alpha              0.050000\n",
      "eta                0.050000\n",
      "coherence_score    0.306098\n",
      "dtype: float64\n"
     ]
    }
   ],
   "source": [
    "print('Best Coherence Score')\n",
    "print(scores_df.max(), '\\n')\n",
    "\n",
    "print('Worst Coherence Score')\n",
    "print(scores_df.min())"
   ]
  },
  {
   "cell_type": "markdown",
   "metadata": {},
   "source": [
    "### Run the new model for optimal parameters\n",
    "### **Implement KL-Divergence**"
   ]
  },
  {
   "cell_type": "code",
   "execution_count": 45,
   "metadata": {},
   "outputs": [
    {
     "name": "stdout",
     "output_type": "stream",
     "text": [
      "KL-Divergence for Topic 1, Topic 2:  4.329992294311523\n",
      "KL-Divergence for Topic 1, Topic 3:  3.9204466342926025\n",
      "KL-Divergence for Topic 1, Topic 4:  3.7027523517608643\n",
      "KL-Divergence for Topic 1, Topic 5:  4.0258400440216064\n",
      "KL-Divergence for Topic 2, Topic 3:  3.848941445350647\n",
      "KL-Divergence for Topic 2, Topic 4:  3.7084317207336426\n",
      "KL-Divergence for Topic 2, Topic 5:  3.48709774017334\n",
      "KL-Divergence for Topic 3, Topic 4:  4.168710350990295\n",
      "KL-Divergence for Topic 3, Topic 5:  4.089065790176392\n",
      "KL-Divergence for Topic 4, Topic 5:  3.624272108078003\n"
     ]
    }
   ],
   "source": [
    "kl_div = lda.kl_divergence(model[24], 5)"
   ]
  },
  {
   "cell_type": "markdown",
   "metadata": {},
   "source": [
    "### Visualize ***alpha*** = 0.25 and ***eta*** = 0.25"
   ]
  },
  {
   "cell_type": "code",
   "execution_count": 46,
   "metadata": {},
   "outputs": [
    {
     "data": {
      "text/html": [
       "\n",
       "<link rel=\"stylesheet\" type=\"text/css\" href=\"https://cdn.jsdelivr.net/gh/bmabey/pyLDAvis@3.3.1/pyLDAvis/js/ldavis.v1.0.0.css\">\n",
       "\n",
       "\n",
       "<div id=\"ldavis_el101441405031874432807598830937\"></div>\n",
       "<script type=\"text/javascript\">\n",
       "\n",
       "var ldavis_el101441405031874432807598830937_data = {\"mdsDat\": {\"x\": [0.20948930209266364, 0.011756704067868587, 0.09240803670427356, -0.0015678986110768077, -0.31208614425372905], \"y\": [-0.012996857054471053, -0.2816297012989657, 0.11134557418274676, 0.17050195945163144, 0.012779024719058705], \"topics\": [1, 2, 3, 4, 5], \"cluster\": [1, 1, 1, 1, 1], \"Freq\": [40.83278771763941, 20.52020175471704, 17.30771898640192, 14.69040586020523, 6.648885681036392]}, \"tinfo\": {\"Term\": [\"coffee\", \"amazon\", \"price\", \"flavor\", \"taste\", \"like\", \"product\", \"delicious\", \"chocolate\", \"store\", \"order\", \"food\", \"sweet\", \"butter\", \"local\", \"best\", \"favorite\", \"milk\", \"ordered\", \"strong\", \"green\", \"loves\", \"sugar\", \"grocery\", \"drink\", \"black\", \"stores\", \"cookies\", \"years\", \"white\", \"loves\", \"sugar\", \"snack\", \"treats\", \"healthy\", \"dogs\", \"eating\", \"treat\", \"cats\", \"size\", \"gluten\", \"foods\", \"chicken\", \"feel\", \"ingredients\", \"diet\", \"sauce\", \"tasty\", \"fruit\", \"natural\", \"salt\", \"come\", \"cereal\", \"rice\", \"bread\", \"started\", \"works\", \"crunchy\", \"health\", \"coconut\", \"fiber\", \"food\", \"dont\", \"chips\", \"stuff\", \"like\", \"love\", \"little\", \"great\", \"makes\", \"good\", \"free\", \"product\", \"highly\", \"time\", \"taste\", \"tried\", \"best\", \"water\", \"regular\", \"know\", \"think\", \"better\", \"amazon\", \"price\", \"store\", \"order\", \"local\", \"ordered\", \"grocery\", \"stores\", \"shipping\", \"came\", \"save\", \"ordering\", \"arrived\", \"thank\", \"received\", \"cheaper\", \"item\", \"cost\", \"month\", \"online\", \"carry\", \"bulk\", \"pleased\", \"subscribe\", \"gift\", \"type\", \"service\", \"locally\", \"shipped\", \"discovered\", \"needed\", \"purchase\", \"deal\", \"thanks\", \"bags\", \"company\", \"product\", \"expensive\", \"years\", \"time\", \"boxes\", \"bought\", \"great\", \"fresh\", \"easy\", \"buying\", \"excellent\", \"quality\", \"good\", \"case\", \"love\", \"worth\", \"chocolate\", \"delicious\", \"cookies\", \"bars\", \"peanut\", \"honey\", \"cheese\", \"amazing\", \"bitter\", \"iced\", \"cold\", \"soup\", \"stash\", \"caffeine\", \"hint\", \"beef\", \"flavorful\", \"alternative\", \"fantastic\", \"noodles\", \"sweetness\", \"aftertaste\", \"cocoa\", \"eaten\", \"cookie\", \"lunch\", \"substitute\", \"chewy\", \"packets\", \"exactly\", \"bowl\", \"added\", \"tasted\", \"sweet\", \"milk\", \"flavor\", \"favorite\", \"taste\", \"texture\", \"soft\", \"drink\", \"perfect\", \"wonderful\", \"real\", \"good\", \"like\", \"serving\", \"tried\", \"love\", \"best\", \"better\", \"enjoy\", \"little\", \"great\", \"nice\", \"coffee\", \"green\", \"black\", \"blend\", \"pasta\", \"beans\", \"cups\", \"oatmeal\", \"energy\", \"keurig\", \"friend\", \"kcups\", \"nuts\", \"cooking\", \"kcup\", \"maker\", \"aroma\", \"roast\", \"coffees\", \"cook\", \"hair\", \"starbucks\", \"bold\", \"clean\", \"brew\", \"instant\", \"french\", \"olive\", \"yogurt\", \"machine\", \"recipe\", \"strong\", \"morning\", \"vanilla\", \"smooth\", \"cream\", \"best\", \"isnt\", \"like\", \"flavor\", \"dark\", \"tried\", \"favorite\", \"good\", \"great\", \"flavored\", \"water\", \"taste\", \"house\", \"butter\", \"white\", \"plus\", \"popcorn\", \"value\", \"grams\", \"crackers\", \"creamy\", \"seeds\", \"granola\", \"soda\", \"change\", \"baking\", \"enjoys\", \"ginger\", \"pure\", \"ounce\", \"loose\", \"uses\", \"keeps\", \"pounds\", \"stevia\", \"flax\", \"movie\", \"staple\", \"mother\", \"sealed\", \"important\", \"beautiful\", \"called\", \"peppermint\", \"compared\", \"types\", \"family\", \"longer\", \"market\", \"easy\", \"years\", \"work\"], \"Freq\": [2465.0, 1493.0, 1311.0, 2262.0, 2383.0, 4143.0, 2243.0, 900.0, 884.0, 882.0, 842.0, 1845.0, 821.0, 424.0, 658.0, 1683.0, 814.0, 604.0, 560.0, 509.0, 424.0, 916.0, 910.0, 506.0, 743.0, 404.0, 486.0, 415.0, 752.0, 261.0, 915.0330901641419, 909.1547940695492, 624.9225158212449, 575.4265136249596, 582.0556369999836, 543.7567470837644, 543.4861813182405, 509.8499928872016, 473.3687573764023, 454.5430011069938, 435.1437852118408, 420.20363292968904, 410.86748305217236, 415.42926845796194, 406.04305372028, 407.7461035737799, 403.09010070281596, 412.88493090769936, 396.2331661956145, 378.40288224758484, 367.35264436531605, 422.18988854249517, 357.38283470733603, 297.64814630330557, 303.0993620549871, 302.4899046589317, 295.93461166233647, 267.37023529864325, 265.75426742995677, 253.9623473318824, 256.64852075707523, 1790.7502077787353, 1222.1865117917237, 593.9780053288202, 586.4809162978064, 2505.666159147132, 1511.5789946906207, 1068.9012489451661, 1785.2082986154453, 591.3653710379598, 1566.7103371563103, 631.139703546369, 1082.1924645269228, 522.6223862356919, 759.42882532468, 887.537550509702, 687.3072342581092, 713.750974982933, 497.0127103540409, 468.833475183382, 471.2939926827105, 466.70503420273, 480.22548801273626, 1492.949403628965, 1310.5437132940312, 881.0331545723126, 841.5334369493202, 657.7648778501458, 559.4073668490804, 505.87078593076143, 485.457026960904, 430.44967886636357, 347.7651001090801, 297.95853743498594, 270.1955969105286, 260.8145530194132, 268.4290604574076, 241.95113850004986, 239.6697281542739, 238.46696529462554, 227.27347104393468, 227.4278102672574, 212.31841743699798, 212.10417205520585, 202.9137652796693, 199.6061344840808, 187.68047661959224, 175.99750236457874, 188.60712668189748, 160.06072249833696, 158.5352157587939, 151.09723609438842, 156.81760827898427, 152.0556614486646, 397.007962370936, 292.98912180517846, 210.08170618918575, 429.8309461658661, 255.33456655353262, 1153.6052096158394, 368.39193356097945, 463.5977629769356, 724.878685366852, 230.54364768376377, 443.9265008111713, 877.9532784143842, 359.65017166097743, 358.07092062290036, 315.112540772791, 287.839592521297, 296.0594551301428, 433.89780299572874, 265.4008795234503, 326.28699326629436, 267.57538672203333, 883.0873244384419, 899.0976853764593, 414.22980770466376, 359.1451641693656, 334.43312292879335, 304.64213873328237, 289.4433815715265, 286.74708035486236, 287.87029435442014, 242.9427466547465, 202.73784311178724, 189.9529850009351, 164.89982920168586, 164.04715390918534, 158.88966029063704, 154.82627137339227, 163.95675213178265, 155.2735398148885, 159.50721442344732, 139.27909146612043, 142.22568573711203, 137.71437409813035, 134.60254320409697, 142.37015822119557, 125.93924322735721, 127.52404576424449, 125.81904083672906, 121.05497950628997, 123.17532893752158, 120.16144256102378, 122.97393407250075, 364.96045632797984, 314.4328129443177, 731.1416761359266, 534.9668810834548, 1341.4511737048726, 563.2155909577214, 1284.8213177597022, 334.8166545989213, 215.3252814187033, 452.36753134462754, 371.260014623963, 351.5235153704849, 317.4042081399033, 874.496452049852, 978.3234674351693, 197.18754679554996, 439.69839442200055, 516.3643359014095, 443.1433156830802, 341.01123177855425, 268.8463926973906, 339.01098597866917, 330.9348222760042, 274.34298865425313, 2464.9992082517547, 423.70955170552634, 403.83304462882876, 299.20237204345426, 253.1342583048822, 228.4223248165817, 222.24457196236446, 220.14616790206696, 206.8411172246798, 194.9061808698661, 224.29762687316594, 177.06663436625612, 196.4248744299288, 194.46484395286706, 175.7158625875758, 185.02316779273335, 176.3331684548142, 165.35568802271231, 166.59336983593272, 166.53398005327483, 153.53287764958918, 154.2354646461594, 140.36856860252325, 165.26949530003344, 135.55704270154885, 139.4907146873718, 131.43502714775207, 139.6551472666326, 145.58485242768467, 124.34221270050435, 148.93743080612555, 460.96605745806215, 311.1595848058069, 274.7756310576912, 203.793713055821, 214.699743430064, 525.9444731501048, 186.67520545549618, 658.9860525960258, 491.0813295351106, 206.29774472131476, 290.4806869781608, 250.91034774905256, 353.70702025712, 310.14105212884084, 185.5096233413705, 199.12704667235636, 210.7218015374433, 186.6135104942595, 423.82292784132085, 260.441198792288, 218.61736946827048, 159.0347056253598, 168.64739071940994, 135.72709843369552, 131.23260575258598, 139.7517154386149, 121.16272612443424, 118.99932518108419, 119.20970694074452, 122.46556408884996, 92.06464577844143, 92.83022823615318, 82.40520075133483, 88.47554111554108, 84.32247182393128, 83.88959624892841, 83.27541922963054, 81.51299656820649, 72.61129009117721, 74.30097876748087, 71.07650673468657, 64.73233147651008, 69.25008082209314, 70.32843791113076, 63.80758977809772, 61.53188911722462, 60.13399001101207, 59.86490698853499, 59.980991130660364, 126.13180841413332, 73.48378491509838, 218.51982805821922, 131.89996389655883, 99.78646540915054, 134.33412666728475, 108.98864002396802, 95.6297065406728], \"Total\": [2465.0, 1493.0, 1311.0, 2262.0, 2383.0, 4143.0, 2243.0, 900.0, 884.0, 882.0, 842.0, 1845.0, 821.0, 424.0, 658.0, 1683.0, 814.0, 604.0, 560.0, 509.0, 424.0, 916.0, 910.0, 506.0, 743.0, 404.0, 486.0, 415.0, 752.0, 261.0, 916.0713980328151, 910.2026110140928, 625.9454543556902, 576.4300783702046, 583.0741466679875, 544.7505344461579, 544.5184991641833, 510.8797313636604, 474.36994753294357, 455.5816205367043, 436.1787100963659, 421.23117951893056, 411.88147284201426, 416.4580536140099, 407.0675189399812, 408.7798956261257, 404.12741126245845, 413.9487781575019, 397.26987870369913, 379.42725854373043, 368.3599872973827, 423.3497846148443, 358.40567761900354, 298.659488152605, 304.15126261854033, 303.55912757394833, 297.03408364699675, 268.4078806583709, 266.79732639645056, 254.97727733955077, 257.6762990520349, 1845.8002929699608, 1468.742035201844, 686.0842846309615, 682.9198896421616, 4143.483872818869, 2419.560635149749, 1567.3323417733689, 3304.4746912013484, 748.3900785442808, 3229.04303331718, 851.5225890111545, 2243.92802898873, 653.4512913219781, 1618.8916055336013, 2383.587397184919, 1418.003733277743, 1683.4010966066878, 696.8976945675338, 593.1231108863306, 654.7845316536434, 644.3064166802624, 1072.605266461458, 1493.9469044042185, 1311.5514141938013, 882.043290704135, 842.5440760214856, 658.779020533395, 560.4160535498858, 506.870662899254, 486.4514815864491, 431.43412956974646, 348.79345856754134, 298.96569891176716, 271.1980838408198, 261.80686615304717, 269.50449100071995, 242.9450965392346, 240.67489234727455, 239.46985345064218, 228.2796988830701, 228.49679590396966, 213.32230644497835, 213.1321885307137, 203.94079792290214, 200.64229179618772, 188.67855374713548, 177.0060223612477, 189.73969069297908, 161.04985955927415, 159.55111907274198, 152.09487820820513, 157.89350634706014, 153.13939429739207, 437.25198595141114, 319.99571944320405, 221.80501784016676, 521.8563292835073, 286.5549700027708, 2243.92802898873, 480.717617460469, 752.9934156627031, 1618.8916055336013, 255.91255614260754, 872.6330703634712, 3304.4746912013484, 622.9657780938338, 659.517646645981, 574.2913283583629, 456.66791152817177, 565.8249863867484, 3229.04303331718, 391.54006248968994, 2419.560635149749, 484.0392571611409, 884.09369655074, 900.1730915826603, 415.23462632752864, 360.1536758907446, 335.46794631548835, 305.6627480031268, 290.4743184422121, 287.8544737013716, 289.03936555904266, 244.08001248768863, 203.7721951135763, 190.9852350138884, 165.9637948775145, 165.11739416090694, 159.9299411930985, 155.85454687655886, 165.0514351784502, 156.32941191075827, 160.59789961947686, 140.28864346803374, 143.25873812996, 138.73104171270901, 135.6005724715808, 143.48834167704777, 126.93263134101431, 128.54994759364024, 126.8702350357498, 122.07104653559198, 124.22932056902356, 121.20247943359944, 124.05415173649146, 379.17765749096054, 328.08011110267836, 821.3324938141318, 604.7581989413121, 2262.0830761741104, 814.9620380987864, 2383.587397184919, 430.12080062301004, 255.619828710718, 743.2398376204695, 634.5306673520066, 583.4128536063134, 521.7162701617248, 3229.04303331718, 4143.483872818869, 240.44650171578678, 1418.003733277743, 2419.560635149749, 1683.4010966066878, 1072.605266461458, 580.5475932411266, 1567.3323417733689, 3304.4746912013484, 801.5869568711521, 2465.9858871562324, 424.716449112839, 404.8524592576967, 300.20799765397294, 254.17761570799598, 229.42366969618078, 223.24946665891883, 221.21615793509673, 207.88003817694255, 195.89076258864398, 225.46718929376271, 178.04826407305453, 197.51753848210322, 195.5476489780336, 176.6973459188175, 186.08359937294142, 177.36168333790556, 166.33227910450273, 167.58737770554887, 167.58941064756257, 154.5268420193358, 155.24317120135925, 141.35482837588893, 166.44232871629373, 136.5454075537424, 140.52699034145976, 132.436936718639, 140.72411594038266, 146.73388004740224, 125.3536117124674, 150.2231371969747, 509.7698039033752, 387.38696050923915, 334.1323150766816, 259.45669709781265, 304.44125941991047, 1683.4010966066878, 242.84659170978864, 4143.483872818869, 2262.0830761741104, 315.80265138095746, 1418.003733277743, 814.9620380987864, 3229.04303331718, 3304.4746912013484, 279.3677561104603, 696.8976945675338, 2383.587397184919, 401.2555045479699, 424.8831773590024, 261.50848597186445, 219.71287282200882, 160.04775538539369, 169.7257497870916, 136.7839608734202, 132.26849266905458, 140.93495947227086, 122.20906214788045, 120.04358824459773, 120.26242241283093, 123.57777867391162, 93.15416030155964, 93.97260809231047, 83.42722559978866, 89.57782853604219, 85.37679596589386, 84.94549153042107, 84.37053468843958, 82.59311379395272, 73.68819690562115, 75.41390214024884, 72.1436273866559, 65.75291433519783, 70.34564967082538, 71.51091281144636, 64.8865930528016, 62.60563449321758, 61.20327504580326, 60.94100047632437, 61.0592083341679, 129.8515589827878, 75.33314896430585, 314.89768457885583, 194.7303024141175, 173.97319775435403, 659.517646645981, 752.9934156627031, 437.2259059841608], \"Category\": [\"Default\", \"Default\", \"Default\", \"Default\", \"Default\", \"Default\", \"Default\", \"Default\", \"Default\", \"Default\", \"Default\", \"Default\", \"Default\", \"Default\", \"Default\", \"Default\", \"Default\", \"Default\", \"Default\", \"Default\", \"Default\", \"Default\", \"Default\", \"Default\", \"Default\", \"Default\", \"Default\", \"Default\", \"Default\", \"Default\", \"Topic1\", \"Topic1\", \"Topic1\", \"Topic1\", \"Topic1\", \"Topic1\", \"Topic1\", \"Topic1\", \"Topic1\", \"Topic1\", \"Topic1\", \"Topic1\", \"Topic1\", \"Topic1\", \"Topic1\", \"Topic1\", \"Topic1\", \"Topic1\", \"Topic1\", \"Topic1\", \"Topic1\", \"Topic1\", \"Topic1\", \"Topic1\", \"Topic1\", \"Topic1\", \"Topic1\", \"Topic1\", \"Topic1\", \"Topic1\", \"Topic1\", \"Topic1\", \"Topic1\", \"Topic1\", \"Topic1\", \"Topic1\", \"Topic1\", \"Topic1\", \"Topic1\", \"Topic1\", \"Topic1\", \"Topic1\", \"Topic1\", \"Topic1\", \"Topic1\", \"Topic1\", \"Topic1\", \"Topic1\", \"Topic1\", \"Topic1\", \"Topic1\", \"Topic1\", \"Topic1\", \"Topic2\", \"Topic2\", \"Topic2\", \"Topic2\", \"Topic2\", \"Topic2\", \"Topic2\", \"Topic2\", \"Topic2\", \"Topic2\", \"Topic2\", \"Topic2\", \"Topic2\", \"Topic2\", \"Topic2\", \"Topic2\", \"Topic2\", \"Topic2\", \"Topic2\", \"Topic2\", \"Topic2\", \"Topic2\", \"Topic2\", \"Topic2\", \"Topic2\", \"Topic2\", \"Topic2\", \"Topic2\", \"Topic2\", \"Topic2\", \"Topic2\", \"Topic2\", \"Topic2\", \"Topic2\", \"Topic2\", \"Topic2\", \"Topic2\", \"Topic2\", \"Topic2\", \"Topic2\", \"Topic2\", \"Topic2\", \"Topic2\", \"Topic2\", \"Topic2\", \"Topic2\", \"Topic2\", \"Topic2\", \"Topic2\", \"Topic2\", \"Topic2\", \"Topic2\", \"Topic3\", \"Topic3\", \"Topic3\", \"Topic3\", \"Topic3\", \"Topic3\", \"Topic3\", \"Topic3\", \"Topic3\", \"Topic3\", \"Topic3\", \"Topic3\", \"Topic3\", \"Topic3\", \"Topic3\", \"Topic3\", \"Topic3\", \"Topic3\", \"Topic3\", \"Topic3\", \"Topic3\", \"Topic3\", \"Topic3\", \"Topic3\", \"Topic3\", \"Topic3\", \"Topic3\", \"Topic3\", \"Topic3\", \"Topic3\", \"Topic3\", \"Topic3\", \"Topic3\", \"Topic3\", \"Topic3\", \"Topic3\", \"Topic3\", \"Topic3\", \"Topic3\", \"Topic3\", \"Topic3\", \"Topic3\", \"Topic3\", \"Topic3\", \"Topic3\", \"Topic3\", \"Topic3\", \"Topic3\", \"Topic3\", \"Topic3\", \"Topic3\", \"Topic3\", \"Topic3\", \"Topic3\", \"Topic3\", \"Topic4\", \"Topic4\", \"Topic4\", \"Topic4\", \"Topic4\", \"Topic4\", \"Topic4\", \"Topic4\", \"Topic4\", \"Topic4\", \"Topic4\", \"Topic4\", \"Topic4\", \"Topic4\", \"Topic4\", \"Topic4\", \"Topic4\", \"Topic4\", \"Topic4\", \"Topic4\", \"Topic4\", \"Topic4\", \"Topic4\", \"Topic4\", \"Topic4\", \"Topic4\", \"Topic4\", \"Topic4\", \"Topic4\", \"Topic4\", \"Topic4\", \"Topic4\", \"Topic4\", \"Topic4\", \"Topic4\", \"Topic4\", \"Topic4\", \"Topic4\", \"Topic4\", \"Topic4\", \"Topic4\", \"Topic4\", \"Topic4\", \"Topic4\", \"Topic4\", \"Topic4\", \"Topic4\", \"Topic4\", \"Topic4\", \"Topic5\", \"Topic5\", \"Topic5\", \"Topic5\", \"Topic5\", \"Topic5\", \"Topic5\", \"Topic5\", \"Topic5\", \"Topic5\", \"Topic5\", \"Topic5\", \"Topic5\", \"Topic5\", \"Topic5\", \"Topic5\", \"Topic5\", \"Topic5\", \"Topic5\", \"Topic5\", \"Topic5\", \"Topic5\", \"Topic5\", \"Topic5\", \"Topic5\", \"Topic5\", \"Topic5\", \"Topic5\", \"Topic5\", \"Topic5\", \"Topic5\", \"Topic5\", \"Topic5\", \"Topic5\", \"Topic5\", \"Topic5\", \"Topic5\", \"Topic5\", \"Topic5\"], \"logprob\": [30.0, 29.0, 28.0, 27.0, 26.0, 25.0, 24.0, 23.0, 22.0, 21.0, 20.0, 19.0, 18.0, 17.0, 16.0, 15.0, 14.0, 13.0, 12.0, 11.0, 10.0, 9.0, 8.0, 7.0, 6.0, 5.0, 4.0, 3.0, 2.0, 1.0, -4.9178, -4.9243, -5.2991, -5.3817, -5.3702, -5.4383, -5.4388, -5.5027, -5.5769, -5.6175, -5.6611, -5.696, -5.7185, -5.7075, -5.7303, -5.7261, -5.7376, -5.7136, -5.7548, -5.8008, -5.8305, -5.6913, -5.858, -6.0409, -6.0227, -6.0247, -6.0466, -6.1481, -6.1542, -6.1996, -6.1891, -4.2464, -4.6284, -5.3499, -5.3626, -3.9105, -4.4159, -4.7624, -4.2495, -5.3543, -4.38, -5.2892, -4.75, -5.4779, -5.1042, -4.9483, -5.204, -5.1662, -5.5282, -5.5865, -5.5813, -5.5911, -5.5625, -3.7402, -3.8705, -4.2676, -4.3135, -4.5599, -4.7218, -4.8224, -4.8636, -4.9839, -5.1972, -5.3517, -5.4496, -5.4849, -5.4561, -5.56, -5.5694, -5.5745, -5.6225, -5.6219, -5.6906, -5.6916, -5.7359, -5.7524, -5.814, -5.8782, -5.809, -5.9731, -5.9827, -6.0308, -5.9936, -6.0245, -5.0647, -5.3686, -5.7012, -4.9853, -5.5061, -3.9981, -5.1396, -4.9097, -4.4627, -5.6083, -4.953, -4.2711, -5.1636, -5.168, -5.2958, -5.3863, -5.3581, -4.9759, -5.4675, -5.2609, -5.4593, -4.095, -4.0771, -4.852, -4.9947, -5.066, -5.1593, -5.2105, -5.2198, -5.2159, -5.3856, -5.5665, -5.6317, -5.7731, -5.7783, -5.8102, -5.8361, -5.7788, -5.8333, -5.8064, -5.942, -5.921, -5.9533, -5.9761, -5.92, -6.0426, -6.0301, -6.0436, -6.0822, -6.0648, -6.0896, -6.0665, -4.9787, -5.1277, -4.2838, -4.5962, -3.6769, -4.5448, -3.7201, -5.0649, -5.5063, -4.7639, -4.9615, -5.0162, -5.1183, -4.1048, -3.9926, -5.5943, -4.7924, -4.6316, -4.7845, -5.0465, -5.2843, -5.0524, -5.0765, -5.2641, -2.9045, -4.6654, -4.7135, -5.0134, -5.1806, -5.2833, -5.3107, -5.3202, -5.3825, -5.442, -5.3015, -5.538, -5.4342, -5.4442, -5.5456, -5.494, -5.5421, -5.6064, -5.5989, -5.5993, -5.6806, -5.676, -5.7702, -5.6069, -5.8051, -5.7765, -5.836, -5.7753, -5.7337, -5.8914, -5.711, -4.5812, -4.9742, -5.0985, -5.3974, -5.3452, -4.4493, -5.4851, -4.2238, -4.5179, -5.3852, -5.0429, -5.1894, -4.846, -4.9775, -5.4914, -5.4205, -5.3639, -5.4854, -3.8724, -4.3594, -4.5344, -4.8526, -4.7939, -5.0111, -5.0448, -4.9819, -5.1246, -5.1426, -5.1409, -5.1139, -5.3992, -5.391, -5.5101, -5.439, -5.4871, -5.4922, -5.4996, -5.521, -5.6366, -5.6136, -5.658, -5.7515, -5.684, -5.6686, -5.7659, -5.8022, -5.8252, -5.8296, -5.8277, -5.0844, -5.6247, -4.5349, -5.0397, -5.3187, -5.0214, -5.2305, -5.3613], \"loglift\": [30.0, 29.0, 28.0, 27.0, 26.0, 25.0, 24.0, 23.0, 22.0, 21.0, 20.0, 19.0, 18.0, 17.0, 16.0, 15.0, 14.0, 13.0, 12.0, 11.0, 10.0, 9.0, 8.0, 7.0, 6.0, 5.0, 4.0, 3.0, 2.0, 1.0, 0.8946, 0.8945, 0.894, 0.8939, 0.8939, 0.8939, 0.8938, 0.8937, 0.8936, 0.8934, 0.8933, 0.8932, 0.8932, 0.8932, 0.8932, 0.8932, 0.8931, 0.8931, 0.8931, 0.893, 0.8929, 0.8929, 0.8928, 0.8923, 0.8922, 0.8922, 0.892, 0.8918, 0.8918, 0.8917, 0.8917, 0.8654, 0.7119, 0.7515, 0.7434, 0.3927, 0.4253, 0.5129, 0.2799, 0.6602, 0.1725, 0.5962, 0.1664, 0.6723, 0.1388, -0.0922, 0.1715, 0.0376, 0.5577, 0.6605, 0.5669, 0.5732, 0.0921, 1.5831, 1.583, 1.5826, 1.5826, 1.5822, 1.582, 1.5818, 1.5817, 1.5815, 1.5808, 1.5804, 1.5801, 1.58, 1.5798, 1.5797, 1.5796, 1.5796, 1.5793, 1.5791, 1.579, 1.5789, 1.5787, 1.5786, 1.5785, 1.578, 1.5778, 1.5776, 1.5774, 1.5772, 1.5769, 1.5767, 1.4872, 1.4956, 1.5295, 1.3898, 1.4684, 0.9184, 1.3176, 1.0987, 0.7803, 1.4794, 0.9079, 0.2583, 1.0344, 0.973, 0.9836, 1.1222, 0.936, -0.4234, 1.1949, -0.4198, 0.991, 1.7529, 1.7528, 1.7516, 1.7512, 1.7509, 1.7507, 1.7505, 1.7502, 1.75, 1.7493, 1.7489, 1.7486, 1.7476, 1.7475, 1.7475, 1.7474, 1.7474, 1.7472, 1.7472, 1.7468, 1.7468, 1.7467, 1.7466, 1.7462, 1.7462, 1.746, 1.7457, 1.7457, 1.7455, 1.7454, 1.7453, 1.7158, 1.7115, 1.6377, 1.6314, 1.2315, 1.3845, 1.136, 1.5035, 1.5825, 1.2575, 1.218, 1.2474, 1.2571, 0.4477, 0.3106, 1.5557, 0.5831, 0.2095, 0.4193, 0.6081, 0.9842, 0.2229, -0.5471, 0.6818, 1.9176, 1.9156, 1.9155, 1.9146, 1.9139, 1.9136, 1.9135, 1.9131, 1.913, 1.9129, 1.9128, 1.9124, 1.9124, 1.9124, 1.9124, 1.9123, 1.9122, 1.9121, 1.912, 1.9117, 1.9115, 1.9115, 1.911, 1.9109, 1.9107, 1.9106, 1.9104, 1.9104, 1.9101, 1.9099, 1.9094, 1.8173, 1.6989, 1.7224, 1.6765, 1.5687, 0.7546, 1.6549, 0.0794, 0.3905, 1.4922, 0.3325, 0.7399, -0.2935, -0.448, 1.5086, 0.6653, -0.5078, 1.1524, 2.7082, 2.7066, 2.7057, 2.7044, 2.7043, 2.703, 2.7029, 2.7023, 2.7021, 2.702, 2.7019, 2.7017, 2.699, 2.6985, 2.6984, 2.6983, 2.6983, 2.6982, 2.6977, 2.6976, 2.696, 2.6959, 2.6958, 2.6951, 2.695, 2.694, 2.694, 2.6934, 2.6931, 2.6929, 2.6929, 2.6817, 2.6859, 2.3453, 2.3211, 2.1549, 1.1195, 0.7779, 1.1908]}, \"token.table\": {\"Topic\": [3, 4, 3, 3, 3, 2, 4, 2, 2, 3, 5, 3, 4, 5, 3, 1, 3, 4, 1, 2, 3, 4, 3, 4, 4, 4, 1, 2, 3, 4, 3, 2, 3, 1, 4, 2, 5, 1, 2, 3, 4, 3, 5, 2, 2, 1, 2, 3, 1, 1, 5, 2, 3, 3, 1, 1, 2, 3, 4, 3, 1, 4, 4, 3, 1, 2, 4, 4, 5, 4, 3, 3, 4, 2, 5, 1, 4, 5, 1, 4, 3, 4, 2, 3, 3, 1, 2, 1, 1, 2, 3, 1, 3, 2, 4, 5, 3, 1, 4, 1, 3, 4, 5, 3, 2, 4, 2, 3, 4, 4, 5, 3, 3, 4, 1, 1, 1, 3, 4, 1, 4, 3, 5, 1, 2, 1, 1, 2, 4, 1, 2, 4, 4, 1, 2, 5, 1, 1, 2, 3, 4, 5, 5, 1, 2, 3, 4, 4, 2, 4, 1, 1, 1, 2, 4, 3, 3, 1, 4, 5, 3, 5, 1, 4, 2, 4, 2, 4, 4, 5, 4, 1, 2, 3, 1, 3, 4, 1, 2, 3, 4, 2, 2, 4, 5, 5, 1, 2, 3, 4, 1, 3, 4, 4, 1, 4, 4, 5, 1, 3, 2, 1, 4, 5, 5, 1, 2, 1, 3, 4, 3, 4, 4, 4, 2, 2, 2, 2, 5, 3, 4, 3, 5, 2, 3, 2, 5, 5, 5, 2, 1, 2, 3, 2, 3, 4, 5, 1, 2, 4, 1, 3, 2, 4, 1, 4, 1, 4, 1, 1, 2, 5, 5, 2, 3, 5, 2, 2, 1, 3, 4, 1, 5, 2, 3, 3, 5, 4, 1, 3, 5, 2, 2, 1, 4, 1, 3, 2, 3, 1, 1, 3, 3, 1, 3, 4, 1, 3, 1, 1, 3, 2, 2, 3, 1, 2, 3, 4, 1, 2, 3, 4, 1, 1, 1, 3, 4, 2, 4, 5, 5, 5, 3, 4, 1, 4, 5, 2, 3, 2, 3, 4, 5, 1, 1, 2, 2, 4, 5, 4], \"Freq\": [0.962609459679732, 0.03428472048174388, 0.9947305108958752, 0.9914960857684466, 0.99703157748294, 0.9993661726521693, 0.9923225619407812, 0.9969180863553995, 0.8239815747571305, 0.1743774960532532, 0.98761021195593, 0.9967967121593546, 0.993794582319836, 0.9803396951404519, 0.9945170231239023, 0.4241413418580064, 0.2631577233096594, 0.3124626692119207, 0.447508524346079, 0.17900340973843162, 0.3179175141708603, 0.05500625611753888, 0.9964040691930236, 0.9978943952588069, 0.9959761310044601, 0.9904154078678785, 0.32315988194504325, 0.5088049205092171, 0.11459570281739123, 0.05385998032417388, 0.9915024872466128, 0.9026520757007132, 0.09768961858232827, 0.9962148353137557, 0.9960056690040804, 0.9953869067274229, 0.9979213642571305, 0.39352849127294154, 0.548502100668038, 0.029601700670973476, 0.027860424160916213, 0.993232728952723, 0.9845588278996182, 0.9977251334620781, 0.9946878576224513, 0.27838785974262903, 0.6768145213926301, 0.043418290051602686, 0.9971120693035714, 0.996077970560227, 0.9872325049791115, 0.9971958340120467, 0.9949244447835569, 0.9912260395401813, 0.9978598871274009, 0.8657828393773911, 0.1326367649551222, 0.9987629178275934, 0.9913343635154719, 0.9955710181702466, 0.9961671983097955, 0.9996002056778316, 0.9964950957906812, 0.9962104981342235, 0.9968116563090441, 0.8898816167715895, 0.10469195491430464, 0.023103303676143456, 0.9703387543980252, 0.9964830078148428, 0.9926525485908448, 0.9970266778123779, 0.9920855659164306, 0.9943941625587758, 0.9904097140334966, 0.29233882480181134, 0.7062117677796566, 0.9933660216331576, 0.9947546970121832, 0.9944032714719638, 0.3451522636791028, 0.6523061130082126, 0.9156372482413925, 0.08125108687466281, 0.9986968155417779, 0.9980921380075917, 0.9943410823679084, 0.9986222419278195, 0.8320045118284267, 0.058553509015748524, 0.10893676095953213, 0.3901836060462714, 0.6081482411479816, 0.5428209568320602, 0.2532153625445644, 0.2031787938980337, 0.9896274383015896, 0.997211299218458, 0.9957666056603593, 0.26698930768906276, 0.4633556372152121, 0.26871181935157284, 0.9896500894031263, 0.9900787554906564, 0.6306552151567876, 0.3678822088414594, 0.7655221831562307, 0.1601771959321461, 0.07072759300899957, 0.30168529224675944, 0.6954639894951613, 0.9962770396070338, 0.6908297241837361, 0.30798980598599957, 0.9964989184352255, 0.9973753928687934, 0.18964820722922923, 0.592816423996262, 0.2170565728427775, 0.3328945376331418, 0.6657890752662836, 0.9936296514034343, 0.98414790844205, 0.970310822260308, 0.029255602681215315, 0.9970771880649086, 0.7410255560369335, 0.2583607326911654, 0.9891500305410131, 0.26807251035681406, 0.5778808606494196, 0.15410156283984522, 0.993492670492951, 0.9968034860638245, 0.9943164512267582, 0.9828925678694478, 0.9972976441328247, 0.4852830958992295, 0.13440514589678726, 0.2706684274511338, 0.10963000379599697, 0.9942686198848586, 0.9913065890493765, 0.5401766292091223, 0.2657003251796132, 0.10016720687295211, 0.09381218770578596, 0.9983131119260026, 0.9982822779794083, 0.9965906116215727, 0.9970114903053198, 0.9981577871800253, 0.8003656997018616, 0.04897075026856514, 0.1515032586433734, 0.9941853214841385, 0.9978317671765483, 0.4311467332887839, 0.4660372203757375, 0.10217928361179272, 0.9955751703030452, 0.9903261983027551, 0.9973775383927437, 0.9891338287559607, 0.22648042788151293, 0.7700334547971439, 0.993862052239719, 0.9960534442937367, 0.994112472376454, 0.9928188469146183, 0.9954527585840558, 0.7193205966709388, 0.235191872372239, 0.04428937856360345, 0.6048050570292516, 0.2360332584894685, 0.15904490526028603, 0.682050622901377, 0.03891963329933021, 0.21629107686021215, 0.06252662398908787, 0.9988174782300075, 0.9965458150594938, 0.3183890705831161, 0.6778606018866343, 0.9888694324632584, 0.6249068438437464, 0.13473520574937917, 0.2132618594069928, 0.02686438151444677, 0.9988304426542344, 0.9957219150693186, 0.9892016536741496, 0.9941768142029018, 0.7896951295099668, 0.20844744535288462, 0.4196048640956421, 0.5748011836926605, 0.11409518733403068, 0.8846510901986436, 0.9934493790249964, 0.19360486450398026, 0.8028148381431716, 0.9788715770496428, 0.9885493389485431, 0.9962383869066014, 0.9925597570591183, 0.4466140534489077, 0.34182192917597964, 0.21083177383481955, 0.9908143422291529, 0.9923169431243154, 0.9945024000667548, 0.9948543578650767, 0.9938013681409383, 0.9993542462205007, 0.9974732102320839, 0.9955822555091393, 0.9838738857517696, 0.9901044249184271, 0.9953669574532918, 0.9956241830803476, 0.9826527666659055, 0.4129036049484669, 0.5846841123506916, 0.9967988214725928, 0.996755434431981, 0.9934534827878673, 0.9906606901169995, 0.9995795710424816, 0.48219015316976294, 0.5142767437688599, 0.0035651767332329975, 0.9079432747141735, 0.05031423688592397, 0.04116619381575597, 0.9823859479312189, 0.3534661862092063, 0.5231299555896253, 0.12194583424217616, 0.39101713262030885, 0.6076099560815583, 0.9961098348857517, 0.9918578641093688, 0.7907295996258723, 0.2090628365748575, 0.9977918392725966, 0.9919902552187979, 0.9963079939616657, 0.9972102578765035, 0.9967698671945233, 0.9863362674615982, 0.990106608081016, 0.9934811519727669, 0.8193090712247436, 0.17467503041339713, 0.9928013472833297, 0.9966759014378935, 0.998723345037451, 0.21198142354855282, 0.7862583709800869, 0.9984895579173693, 0.9895027691318461, 0.15257032365879505, 0.8410928099138703, 0.994841302712135, 0.9808708899964362, 0.9919921037960067, 0.9948638422227363, 0.9941927401803159, 0.9812514390566958, 0.9988171887761856, 0.9970161842621684, 0.09416014764401033, 0.9043297513310159, 0.858080148034719, 0.14057285701592667, 0.9964036519590622, 0.9931407470357048, 0.9986787436120922, 0.10836050037019572, 0.8900171434900345, 0.9912135333146792, 0.37254769892169753, 0.5391033706243034, 0.08852203206360156, 0.03962446841506776, 0.9570833140254829, 0.9977079817417871, 0.22086818368792419, 0.7788509635311011, 0.9944175661224289, 0.9467774987458873, 0.04959310707716553, 0.7248104130425713, 0.062082262359106744, 0.07294665827195043, 0.13968509030799017, 0.4688392956054811, 0.4478372718234174, 0.0549758857824609, 0.02779679618214315, 0.9982780069169856, 0.9975190774668665, 0.4844839148709335, 0.3102953748809472, 0.20451286071698796, 0.9961015500221512, 0.013274368770563637, 0.9690289202511455, 0.9837557662340219, 0.9957239853822889, 0.17657675518891314, 0.8230272487618833, 0.7131606315736456, 0.2855512387991056, 0.9942315983886398, 0.39594602445265736, 0.603346322975478, 0.2127046881878245, 0.33849778335266695, 0.23100186566634703, 0.21956612974227047, 0.9965186363992299, 0.4462447968927688, 0.5536740998484354, 0.6162072474320874, 0.2390459149521029, 0.14475558183210677, 0.9949985644272124], \"Term\": [\"added\", \"added\", \"aftertaste\", \"alternative\", \"amazing\", \"amazon\", \"aroma\", \"arrived\", \"bags\", \"bags\", \"baking\", \"bars\", \"beans\", \"beautiful\", \"beef\", \"best\", \"best\", \"best\", \"better\", \"better\", \"better\", \"better\", \"bitter\", \"black\", \"blend\", \"bold\", \"bought\", \"bought\", \"bought\", \"bought\", \"bowl\", \"boxes\", \"boxes\", \"bread\", \"brew\", \"bulk\", \"butter\", \"buying\", \"buying\", \"buying\", \"buying\", \"caffeine\", \"called\", \"came\", \"carry\", \"case\", \"case\", \"case\", \"cats\", \"cereal\", \"change\", \"cheaper\", \"cheese\", \"chewy\", \"chicken\", \"chips\", \"chips\", \"chocolate\", \"clean\", \"cocoa\", \"coconut\", \"coffee\", \"coffees\", \"cold\", \"come\", \"company\", \"company\", \"compared\", \"compared\", \"cook\", \"cookie\", \"cookies\", \"cooking\", \"cost\", \"crackers\", \"cream\", \"cream\", \"creamy\", \"crunchy\", \"cups\", \"dark\", \"dark\", \"deal\", \"deal\", \"delicious\", \"diet\", \"discovered\", \"dogs\", \"dont\", \"dont\", \"dont\", \"drink\", \"drink\", \"easy\", \"easy\", \"easy\", \"eaten\", \"eating\", \"energy\", \"enjoy\", \"enjoy\", \"enjoy\", \"enjoys\", \"exactly\", \"excellent\", \"excellent\", \"expensive\", \"expensive\", \"expensive\", \"family\", \"family\", \"fantastic\", \"favorite\", \"favorite\", \"feel\", \"fiber\", \"flavor\", \"flavor\", \"flavor\", \"flavored\", \"flavored\", \"flavorful\", \"flax\", \"food\", \"food\", \"foods\", \"free\", \"free\", \"french\", \"fresh\", \"fresh\", \"fresh\", \"friend\", \"fruit\", \"gift\", \"ginger\", \"gluten\", \"good\", \"good\", \"good\", \"good\", \"grams\", \"granola\", \"great\", \"great\", \"great\", \"great\", \"green\", \"grocery\", \"hair\", \"health\", \"healthy\", \"highly\", \"highly\", \"highly\", \"hint\", \"honey\", \"house\", \"house\", \"house\", \"iced\", \"important\", \"ingredients\", \"instant\", \"isnt\", \"isnt\", \"item\", \"kcup\", \"kcups\", \"keeps\", \"keurig\", \"know\", \"know\", \"know\", \"like\", \"like\", \"like\", \"little\", \"little\", \"little\", \"little\", \"local\", \"locally\", \"longer\", \"longer\", \"loose\", \"love\", \"love\", \"love\", \"love\", \"loves\", \"lunch\", \"machine\", \"maker\", \"makes\", \"makes\", \"market\", \"market\", \"milk\", \"milk\", \"month\", \"morning\", \"morning\", \"mother\", \"movie\", \"natural\", \"needed\", \"nice\", \"nice\", \"nice\", \"noodles\", \"nuts\", \"oatmeal\", \"olive\", \"online\", \"order\", \"ordered\", \"ordering\", \"ounce\", \"packets\", \"pasta\", \"peanut\", \"peppermint\", \"perfect\", \"perfect\", \"pleased\", \"plus\", \"popcorn\", \"pounds\", \"price\", \"product\", \"product\", \"product\", \"purchase\", \"purchase\", \"purchase\", \"pure\", \"quality\", \"quality\", \"quality\", \"real\", \"real\", \"received\", \"recipe\", \"regular\", \"regular\", \"rice\", \"roast\", \"salt\", \"sauce\", \"save\", \"sealed\", \"seeds\", \"service\", \"serving\", \"serving\", \"shipped\", \"shipping\", \"size\", \"smooth\", \"smooth\", \"snack\", \"soda\", \"soft\", \"soft\", \"soup\", \"staple\", \"starbucks\", \"started\", \"stash\", \"stevia\", \"store\", \"stores\", \"strong\", \"strong\", \"stuff\", \"stuff\", \"subscribe\", \"substitute\", \"sugar\", \"sweet\", \"sweet\", \"sweetness\", \"taste\", \"taste\", \"taste\", \"tasted\", \"tasted\", \"tasty\", \"texture\", \"texture\", \"thank\", \"thanks\", \"thanks\", \"think\", \"think\", \"think\", \"think\", \"time\", \"time\", \"time\", \"time\", \"treat\", \"treats\", \"tried\", \"tried\", \"tried\", \"type\", \"types\", \"types\", \"uses\", \"value\", \"vanilla\", \"vanilla\", \"water\", \"water\", \"white\", \"wonderful\", \"wonderful\", \"work\", \"work\", \"work\", \"work\", \"works\", \"worth\", \"worth\", \"years\", \"years\", \"years\", \"yogurt\"]}, \"R\": 30, \"lambda.step\": 0.01, \"plot.opts\": {\"xlab\": \"PC1\", \"ylab\": \"PC2\"}, \"topic.order\": [2, 3, 5, 4, 1]};\n",
       "\n",
       "function LDAvis_load_lib(url, callback){\n",
       "  var s = document.createElement('script');\n",
       "  s.src = url;\n",
       "  s.async = true;\n",
       "  s.onreadystatechange = s.onload = callback;\n",
       "  s.onerror = function(){console.warn(\"failed to load library \" + url);};\n",
       "  document.getElementsByTagName(\"head\")[0].appendChild(s);\n",
       "}\n",
       "\n",
       "if(typeof(LDAvis) !== \"undefined\"){\n",
       "   // already loaded: just create the visualization\n",
       "   !function(LDAvis){\n",
       "       new LDAvis(\"#\" + \"ldavis_el101441405031874432807598830937\", ldavis_el101441405031874432807598830937_data);\n",
       "   }(LDAvis);\n",
       "}else if(typeof define === \"function\" && define.amd){\n",
       "   // require.js is available: use it to load d3/LDAvis\n",
       "   require.config({paths: {d3: \"https://d3js.org/d3.v5\"}});\n",
       "   require([\"d3\"], function(d3){\n",
       "      window.d3 = d3;\n",
       "      LDAvis_load_lib(\"https://cdn.jsdelivr.net/gh/bmabey/pyLDAvis@3.3.1/pyLDAvis/js/ldavis.v3.0.0.js\", function(){\n",
       "        new LDAvis(\"#\" + \"ldavis_el101441405031874432807598830937\", ldavis_el101441405031874432807598830937_data);\n",
       "      });\n",
       "    });\n",
       "}else{\n",
       "    // require.js not available: dynamically load d3 & LDAvis\n",
       "    LDAvis_load_lib(\"https://d3js.org/d3.v5.js\", function(){\n",
       "         LDAvis_load_lib(\"https://cdn.jsdelivr.net/gh/bmabey/pyLDAvis@3.3.1/pyLDAvis/js/ldavis.v3.0.0.js\", function(){\n",
       "                 new LDAvis(\"#\" + \"ldavis_el101441405031874432807598830937\", ldavis_el101441405031874432807598830937_data);\n",
       "            })\n",
       "         });\n",
       "}\n",
       "</script>"
      ],
      "text/plain": [
       "PreparedData(topic_coordinates=              x         y  topics  cluster       Freq\n",
       "topic                                                \n",
       "1      0.209489 -0.012997       1        1  40.832788\n",
       "2      0.011757 -0.281630       2        1  20.520202\n",
       "4      0.092408  0.111346       3        1  17.307719\n",
       "3     -0.001568  0.170502       4        1  14.690406\n",
       "0     -0.312086  0.012779       5        1   6.648886, topic_info=        Term         Freq        Total Category  logprob  loglift\n",
       "183   coffee  2465.000000  2465.000000  Default  30.0000  30.0000\n",
       "109   amazon  1493.000000  1493.000000  Default  29.0000  29.0000\n",
       "456    price  1311.000000  1311.000000  Default  28.0000  28.0000\n",
       "405   flavor  2262.000000  2262.000000  Default  27.0000  27.0000\n",
       "23     taste  2383.000000  2383.000000  Default  26.0000  26.0000\n",
       "...      ...          ...          ...      ...      ...      ...\n",
       "636   longer   131.899964   194.730302   Topic5  -5.0397   2.3211\n",
       "572   market    99.786465   173.973198   Topic5  -5.3187   2.1549\n",
       "1957    easy   134.334127   659.517647   Topic5  -5.0214   1.1195\n",
       "497    years   108.988640   752.993416   Topic5  -5.2305   0.7779\n",
       "848     work    95.629707   437.225906   Topic5  -5.3613   1.1908\n",
       "\n",
       "[278 rows x 6 columns], token_table=      Topic      Freq         Term\n",
       "term                              \n",
       "1260      3  0.962609        added\n",
       "1260      4  0.034285        added\n",
       "872       3  0.994731   aftertaste\n",
       "1080      3  0.991496  alternative\n",
       "1061      3  0.997032      amazing\n",
       "...     ...       ...          ...\n",
       "722       2  0.553674        worth\n",
       "497       2  0.616207        years\n",
       "497       4  0.239046        years\n",
       "497       5  0.144756        years\n",
       "2537      4  0.994999       yogurt\n",
       "\n",
       "[330 rows x 3 columns], R=30, lambda_step=0.01, plot_opts={'xlab': 'PC1', 'ylab': 'PC2'}, topic_order=[2, 3, 5, 4, 1])"
      ]
     },
     "execution_count": 46,
     "metadata": {},
     "output_type": "execute_result"
    }
   ],
   "source": [
    "lda.visualize(model[24], corpus[24], id2word)"
   ]
  },
  {
   "cell_type": "markdown",
   "metadata": {},
   "source": [
    "### Visualize ***alpha*** = 0.05 and ***eta*** = 0.05"
   ]
  },
  {
   "cell_type": "code",
   "execution_count": 47,
   "metadata": {},
   "outputs": [
    {
     "name": "stdout",
     "output_type": "stream",
     "text": [
      "KL-Divergence for Topic 1, Topic 2:  7.795775413513184\n",
      "KL-Divergence for Topic 1, Topic 3:  7.092055082321167\n",
      "KL-Divergence for Topic 1, Topic 4:  6.449020862579346\n",
      "KL-Divergence for Topic 1, Topic 5:  6.929001808166504\n",
      "KL-Divergence for Topic 2, Topic 3:  5.81796407699585\n",
      "KL-Divergence for Topic 2, Topic 4:  7.610763311386108\n",
      "KL-Divergence for Topic 2, Topic 5:  6.8870909214019775\n",
      "KL-Divergence for Topic 3, Topic 4:  7.038165330886841\n",
      "KL-Divergence for Topic 3, Topic 5:  7.401114463806152\n",
      "KL-Divergence for Topic 4, Topic 5:  7.053380727767944\n"
     ]
    }
   ],
   "source": [
    "kl_div = lda.kl_divergence(model[0], 5)"
   ]
  },
  {
   "cell_type": "code",
   "execution_count": 48,
   "metadata": {},
   "outputs": [
    {
     "data": {
      "text/html": [
       "\n",
       "<link rel=\"stylesheet\" type=\"text/css\" href=\"https://cdn.jsdelivr.net/gh/bmabey/pyLDAvis@3.3.1/pyLDAvis/js/ldavis.v1.0.0.css\">\n",
       "\n",
       "\n",
       "<div id=\"ldavis_el101441405032253319205965988859\"></div>\n",
       "<script type=\"text/javascript\">\n",
       "\n",
       "var ldavis_el101441405032253319205965988859_data = {\"mdsDat\": {\"x\": [-0.2985346313863135, -0.20495172709968892, 0.020262439798060528, 0.19552620792104813, 0.2876977107668936], \"y\": [0.02452908240048446, -0.17464177665954955, 0.3356093752014124, -0.19633348665360023, 0.010836805711253025], \"topics\": [1, 2, 3, 4, 5], \"cluster\": [1, 1, 1, 1, 1], \"Freq\": [58.01182365464469, 18.218538998576893, 10.43560502939356, 9.604435876502816, 3.7295964408820437]}, \"tinfo\": {\"Term\": [\"coffee\", \"amazon\", \"delicious\", \"chocolate\", \"price\", \"product\", \"flavor\", \"like\", \"makes\", \"store\", \"order\", \"favorite\", \"great\", \"free\", \"want\", \"black\", \"bars\", \"local\", \"best\", \"gluten\", \"taste\", \"years\", \"green\", \"cookies\", \"time\", \"white\", \"little\", \"grocery\", \"perfect\", \"health\", \"little\", \"sugar\", \"sweet\", \"drink\", \"tastes\", \"water\", \"snack\", \"healthy\", \"flavors\", \"treats\", \"dogs\", \"eating\", \"organic\", \"hard\", \"treat\", \"doesnt\", \"strong\", \"size\", \"didnt\", \"texture\", \"come\", \"foods\", \"feel\", \"loved\", \"tasty\", \"looking\", \"chicken\", \"diet\", \"having\", \"ingredients\", \"like\", \"taste\", \"dont\", \"think\", \"loves\", \"tried\", \"regular\", \"love\", \"good\", \"stuff\", \"flavor\", \"food\", \"great\", \"best\", \"nice\", \"better\", \"recommend\", \"time\", \"product\", \"right\", \"amazon\", \"store\", \"order\", \"local\", \"grocery\", \"stores\", \"shipping\", \"came\", \"comes\", \"deal\", \"candy\", \"light\", \"soft\", \"received\", \"times\", \"cheaper\", \"item\", \"cost\", \"carry\", \"bulk\", \"type\", \"subscribe\", \"powder\", \"life\", \"needed\", \"bold\", \"inside\", \"cans\", \"supermarket\", \"jars\", \"bags\", \"price\", \"ordered\", \"purchase\", \"quality\", \"years\", \"product\", \"perfect\", \"case\", \"save\", \"excellent\", \"time\", \"great\", \"bought\", \"work\", \"love\", \"fresh\", \"good\", \"food\", \"coffee\", \"delicious\", \"chocolate\", \"cookies\", \"dark\", \"bread\", \"cheese\", \"bitter\", \"amazing\", \"beans\", \"month\", \"keurig\", \"kcup\", \"canned\", \"beef\", \"starbucks\", \"locally\", \"eaten\", \"aftertaste\", \"cocoa\", \"live\", \"chew\", \"lunch\", \"french\", \"cookie\", \"gave\", \"exactly\", \"filling\", \"brewed\", \"pound\", \"want\", \"vanilla\", \"cups\", \"favorite\", \"morning\", \"perfect\", \"flavor\", \"best\", \"milk\", \"good\", \"work\", \"gluten\", \"green\", \"family\", \"breakfast\", \"rice\", \"blend\", \"minutes\", \"thank\", \"pasta\", \"arrived\", \"oatmeal\", \"longer\", \"energy\", \"online\", \"nuts\", \"cooking\", \"maker\", \"kcups\", \"cinnamon\", \"gift\", \"coffees\", \"roast\", \"service\", \"discovered\", \"recipe\", \"grains\", \"instant\", \"delivery\", \"bowl\", \"dried\", \"makes\", \"favorite\", \"added\", \"free\", \"years\", \"quality\", \"isnt\", \"excellent\", \"need\", \"black\", \"bars\", \"white\", \"health\", \"boxes\", \"plus\", \"difference\", \"value\", \"popcorn\", \"alternative\", \"creamy\", \"crackers\", \"compared\", \"soda\", \"remember\", \"world\", \"pure\", \"ounce\", \"varieties\", \"ginger\", \"types\", \"brewing\", \"placed\", \"ounces\", \"toys\", \"acid\", \"pantry\", \"scent\", \"creme\", \"basically\", \"makes\", \"market\", \"want\", \"reason\", \"review\"], \"Freq\": [4399.0, 2684.0, 1670.0, 1640.0, 2354.0, 4140.0, 4289.0, 7860.0, 1307.0, 1584.0, 1513.0, 1483.0, 6178.0, 1558.0, 1109.0, 672.0, 622.0, 1182.0, 3162.0, 783.0, 4546.0, 1366.0, 746.0, 769.0, 2998.0, 490.0, 2973.0, 909.0, 1171.0, 452.0, 2972.998767583671, 1725.1883456070145, 1580.983496562767, 1423.453922509762, 1417.3351780670582, 1312.0559145439101, 1185.7159819709977, 1104.3515271427816, 1099.2075546818817, 1091.7343579914334, 1031.6101507171427, 1031.1875205693311, 993.9301117702965, 983.6138646142, 967.3481898907517, 952.2702987019693, 945.9786789158587, 862.4041671603948, 839.2428433873002, 825.2712219882073, 801.2370804808328, 797.2113772949233, 788.1569794620754, 785.5488706431155, 783.4090727711824, 782.4009504957487, 779.4648833302493, 773.5871216544198, 771.4681780603893, 770.3354266479663, 7705.459720997113, 4313.6279392816095, 2672.937983043172, 1195.0910557041334, 1668.5669949797898, 2445.4543888673647, 1088.8407441773786, 3959.459406641716, 5094.766626678755, 1240.2020862551965, 3625.248748974881, 2991.455796588312, 4917.048125494342, 2597.7253746860765, 1383.9849671922009, 1707.6128236191132, 1393.1586150824203, 2013.5712310524918, 2383.8841194816864, 1130.5810779298297, 2684.4503188843987, 1584.0915922274078, 1513.0594694417834, 1182.6005824422134, 909.425779447853, 872.6990926722954, 773.756261838608, 625.1656274022392, 591.2655697511967, 577.0504544309447, 523.8635558533643, 512.2896632456977, 487.93411145127936, 434.8041550447864, 432.0073874239589, 430.73210110024337, 428.5630487958353, 408.4358235496792, 381.21520471607744, 364.6783509868356, 339.17163692580505, 337.22583119813874, 327.99878249342385, 283.37189575924833, 273.34939793062955, 261.2354513224166, 245.06902058017124, 240.31324475659193, 236.0283398849808, 235.07433111442953, 871.787550130661, 1868.8585841728604, 822.2687045621813, 623.6314374234013, 691.5808862330483, 830.6587215442977, 1756.6868213252123, 724.2370524223898, 508.96950065292594, 428.19587444936184, 528.3900816125154, 984.3317371278679, 1261.5263299380372, 654.8091862944038, 484.02009737090003, 546.9298911535044, 475.2427904601916, 537.6746442490497, 505.67459948886113, 4399.253975236632, 1669.6449522509674, 1639.765387795184, 769.0035453134908, 569.4434539100093, 552.9825581516027, 537.3089852783191, 534.662503784868, 532.4482102735848, 407.41068325988016, 391.5516828064821, 347.54571057064686, 313.2914188373881, 293.9589560836573, 287.2988666318073, 275.02545440467503, 272.7821320092217, 264.3406218121906, 255.49255837070493, 249.6721182285206, 248.80534552041493, 242.21596745308193, 236.57099575075057, 234.3108961489076, 233.5689327561263, 233.53548254959793, 222.94093723018622, 198.07693872149662, 188.1788633230591, 182.441148057456, 882.0990062046061, 510.2229819957821, 327.4361073711635, 720.4625468131319, 365.86433582308393, 447.395485140825, 663.5159743856839, 494.3283430045875, 333.7740208685468, 446.13744773392773, 274.10558116844896, 783.1953639977863, 745.7480993516878, 602.3400009991966, 546.2840822112047, 535.6008664238734, 526.5248242021189, 459.8091456141811, 455.9299472891792, 445.51842088844506, 442.8101860084714, 387.48441703341604, 370.9375880256743, 363.98592937171753, 360.4413350910664, 345.77561598756114, 342.2949228314228, 325.6184282485547, 311.4218014909049, 302.3772439998816, 298.7588291234168, 293.01271505476916, 290.7900958388675, 271.6225808760313, 266.3215277269107, 262.53324875488204, 256.88898737912206, 245.39645782142813, 232.81459494303004, 225.16351765587126, 220.6219206029919, 753.6425736107526, 762.4314992018702, 444.6908574830372, 595.0551631973191, 518.0806139396338, 330.5972081878147, 277.85072096582167, 285.15775426978126, 284.6773997617583, 672.5169008106577, 622.2942744654026, 490.0203238999198, 452.5037922661594, 412.591487201875, 411.3557196176326, 353.2275048858862, 317.2643868197395, 299.0318989517518, 268.98717719188346, 263.0713984962144, 246.75500159424672, 241.6650045609624, 224.17104466838225, 203.13913930135908, 178.51064759782807, 166.42721434985117, 158.49436450652632, 157.1876447778005, 154.8234210036042, 139.45324777413043, 136.03614865615089, 107.69982216521605, 97.66374347869215, 85.97565987861714, 83.22384352210511, 80.67633912213574, 73.05387298884531, 70.55604466663851, 69.1049839301266, 554.0081344654767, 151.1795367843386, 227.06639866031858, 87.19262003703851, 90.9298444199827], \"Total\": [4399.0, 2684.0, 1670.0, 1640.0, 2354.0, 4140.0, 4289.0, 7860.0, 1307.0, 1584.0, 1513.0, 1483.0, 6178.0, 1558.0, 1109.0, 672.0, 622.0, 1182.0, 3162.0, 783.0, 4546.0, 1366.0, 746.0, 769.0, 2998.0, 490.0, 2973.0, 909.0, 1171.0, 452.0, 2973.354068461195, 1725.5436464845388, 1581.3387974402913, 1423.8092233872862, 1417.6904789445825, 1312.4112154214345, 1186.071282848522, 1104.706828020306, 1099.562855559406, 1092.0896588689577, 1031.965451594667, 1031.5428214468554, 994.2854126478207, 983.9691654917242, 967.7034907682759, 952.6255995794935, 946.3339798006518, 862.759468037919, 839.5981442648244, 825.6265228657315, 801.592381364702, 797.5666781724475, 788.5122803395996, 785.9041715206397, 783.7643736487066, 782.7562513732729, 779.8201842077735, 773.942422531944, 771.8234789379135, 770.6907275254905, 7860.644759379613, 4546.621284236585, 2782.183817914001, 1214.5832585352562, 1733.1832067183395, 2682.3821896899008, 1117.865779725685, 4569.437008453807, 6078.750796620763, 1297.6297267790403, 4289.030392622663, 3497.392105651629, 6178.8361650068355, 3162.2731221260483, 1516.2588917536896, 2023.4725790934087, 1575.6463974950032, 2998.164677754816, 4140.832650381355, 1291.2992893639682, 2684.805234590236, 1584.4465079332454, 1513.414385147621, 1182.955498148051, 909.7806951536904, 873.0540083781328, 774.1111775444455, 625.5205431080767, 591.6204854689197, 577.4053701367822, 524.2184715592018, 512.6445789515352, 488.2890271571169, 435.1590707506239, 432.36230312979643, 431.0870168060809, 428.9179645016728, 408.7907392555167, 381.57012042191496, 365.0332666926731, 339.5265526316426, 337.58074690397626, 328.3536981992614, 283.72681146508586, 273.7043136364671, 261.5903670422129, 245.42393628600874, 240.66816046242943, 236.3832555908183, 235.42924682026702, 941.3451613693246, 2354.8019439611007, 1005.3026019994437, 786.6262168111354, 1022.4445911862534, 1366.5139735634825, 4140.832650381355, 1171.897821653627, 715.5343060105564, 535.4565496451386, 813.814332654956, 2998.164677754816, 6178.8361650068355, 1607.3042301130781, 821.6158921067371, 4569.437008453807, 1139.9612681799092, 6078.750796620763, 3497.392105651629, 4399.612850630112, 1670.0038276444475, 1640.1242631886641, 769.3624207069709, 569.8023293034894, 553.3414335517726, 537.6678606717992, 535.0213791783481, 532.8070856734098, 407.7695586533602, 391.91055819996217, 347.9045859641269, 313.65029423086816, 294.3178314834824, 287.65774202528735, 275.3843297981551, 273.1410074157367, 264.69949720567064, 255.85143376418497, 250.03099362200064, 249.16422092023998, 242.57484284656198, 236.92987114423062, 234.66977154238765, 233.92780814960634, 233.89435794307798, 223.29981262366627, 198.43581411497667, 188.53773871653914, 182.80002345093604, 1109.4406212398205, 602.3995157835292, 399.78648960264445, 1483.1645024680352, 705.7573959270726, 1171.897821653627, 4289.030392622663, 3162.2731221260483, 1150.457195333282, 6078.750796620763, 821.6158921067371, 783.5554520662446, 746.108187420146, 602.7000890676549, 546.644170279663, 535.9609544923317, 526.8849122705772, 460.16923368263934, 456.29003536398244, 445.8785089569033, 443.1702740769297, 387.8445051018743, 371.29767609413256, 364.3460174401758, 360.8014231658696, 346.1357040560194, 342.65501089988106, 325.9785163242818, 311.78188955936315, 302.73733206833987, 299.118917191875, 293.3728031232274, 291.15018390732575, 271.9826689508345, 266.6816158017139, 262.8933368233403, 257.2490754475803, 245.75654588988638, 233.1746830114883, 225.5236057243295, 220.98200867145016, 1307.9271371261034, 1483.1645024680352, 695.3680713465968, 1558.5108824058507, 1366.5139735634825, 1022.4445911862534, 430.94522293832813, 813.814332654956, 917.4596419067078, 672.8817488009788, 622.6591224557237, 490.38517189024094, 452.86864025648055, 412.95633519219615, 411.72056760795374, 353.59235287620737, 317.62923481006067, 299.396746942073, 269.3520251822046, 263.43624648653554, 247.11984958456785, 242.0298525512835, 224.53589265870337, 203.5039872916802, 178.8754955881492, 166.7920623401723, 158.85921249684745, 157.55249276812162, 155.18826899392533, 139.81809576445156, 136.40099665374086, 108.06467016188219, 98.02859146901329, 86.34050786893827, 83.5886915196951, 81.04118711245688, 73.41872097916645, 70.9208926642285, 69.46983192044773, 1307.9271371261034, 318.82583500112014, 1109.4406212398205, 208.2886649276037, 445.3111046902135], \"Category\": [\"Default\", \"Default\", \"Default\", \"Default\", \"Default\", \"Default\", \"Default\", \"Default\", \"Default\", \"Default\", \"Default\", \"Default\", \"Default\", \"Default\", \"Default\", \"Default\", \"Default\", \"Default\", \"Default\", \"Default\", \"Default\", \"Default\", \"Default\", \"Default\", \"Default\", \"Default\", \"Default\", \"Default\", \"Default\", \"Default\", \"Topic1\", \"Topic1\", \"Topic1\", \"Topic1\", \"Topic1\", \"Topic1\", \"Topic1\", \"Topic1\", \"Topic1\", \"Topic1\", \"Topic1\", \"Topic1\", \"Topic1\", \"Topic1\", \"Topic1\", \"Topic1\", \"Topic1\", \"Topic1\", \"Topic1\", \"Topic1\", \"Topic1\", \"Topic1\", \"Topic1\", \"Topic1\", \"Topic1\", \"Topic1\", \"Topic1\", \"Topic1\", \"Topic1\", \"Topic1\", \"Topic1\", \"Topic1\", \"Topic1\", \"Topic1\", \"Topic1\", \"Topic1\", \"Topic1\", \"Topic1\", \"Topic1\", \"Topic1\", \"Topic1\", \"Topic1\", \"Topic1\", \"Topic1\", \"Topic1\", \"Topic1\", \"Topic1\", \"Topic1\", \"Topic1\", \"Topic1\", \"Topic2\", \"Topic2\", \"Topic2\", \"Topic2\", \"Topic2\", \"Topic2\", \"Topic2\", \"Topic2\", \"Topic2\", \"Topic2\", \"Topic2\", \"Topic2\", \"Topic2\", \"Topic2\", \"Topic2\", \"Topic2\", \"Topic2\", \"Topic2\", \"Topic2\", \"Topic2\", \"Topic2\", \"Topic2\", \"Topic2\", \"Topic2\", \"Topic2\", \"Topic2\", \"Topic2\", \"Topic2\", \"Topic2\", \"Topic2\", \"Topic2\", \"Topic2\", \"Topic2\", \"Topic2\", \"Topic2\", \"Topic2\", \"Topic2\", \"Topic2\", \"Topic2\", \"Topic2\", \"Topic2\", \"Topic2\", \"Topic2\", \"Topic2\", \"Topic2\", \"Topic2\", \"Topic2\", \"Topic2\", \"Topic2\", \"Topic3\", \"Topic3\", \"Topic3\", \"Topic3\", \"Topic3\", \"Topic3\", \"Topic3\", \"Topic3\", \"Topic3\", \"Topic3\", \"Topic3\", \"Topic3\", \"Topic3\", \"Topic3\", \"Topic3\", \"Topic3\", \"Topic3\", \"Topic3\", \"Topic3\", \"Topic3\", \"Topic3\", \"Topic3\", \"Topic3\", \"Topic3\", \"Topic3\", \"Topic3\", \"Topic3\", \"Topic3\", \"Topic3\", \"Topic3\", \"Topic3\", \"Topic3\", \"Topic3\", \"Topic3\", \"Topic3\", \"Topic3\", \"Topic3\", \"Topic3\", \"Topic3\", \"Topic3\", \"Topic3\", \"Topic4\", \"Topic4\", \"Topic4\", \"Topic4\", \"Topic4\", \"Topic4\", \"Topic4\", \"Topic4\", \"Topic4\", \"Topic4\", \"Topic4\", \"Topic4\", \"Topic4\", \"Topic4\", \"Topic4\", \"Topic4\", \"Topic4\", \"Topic4\", \"Topic4\", \"Topic4\", \"Topic4\", \"Topic4\", \"Topic4\", \"Topic4\", \"Topic4\", \"Topic4\", \"Topic4\", \"Topic4\", \"Topic4\", \"Topic4\", \"Topic4\", \"Topic4\", \"Topic4\", \"Topic4\", \"Topic4\", \"Topic4\", \"Topic4\", \"Topic4\", \"Topic4\", \"Topic5\", \"Topic5\", \"Topic5\", \"Topic5\", \"Topic5\", \"Topic5\", \"Topic5\", \"Topic5\", \"Topic5\", \"Topic5\", \"Topic5\", \"Topic5\", \"Topic5\", \"Topic5\", \"Topic5\", \"Topic5\", \"Topic5\", \"Topic5\", \"Topic5\", \"Topic5\", \"Topic5\", \"Topic5\", \"Topic5\", \"Topic5\", \"Topic5\", \"Topic5\", \"Topic5\", \"Topic5\", \"Topic5\", \"Topic5\", \"Topic5\", \"Topic5\", \"Topic5\", \"Topic5\", \"Topic5\"], \"logprob\": [30.0, 29.0, 28.0, 27.0, 26.0, 25.0, 24.0, 23.0, 22.0, 21.0, 20.0, 19.0, 18.0, 17.0, 16.0, 15.0, 14.0, 13.0, 12.0, 11.0, 10.0, 9.0, 8.0, 7.0, 6.0, 5.0, 4.0, 3.0, 2.0, 1.0, -4.0906, -4.6348, -4.7221, -4.8271, -4.8314, -4.9086, -5.0098, -5.0809, -5.0856, -5.0924, -5.1491, -5.1495, -5.1863, -5.1967, -5.2134, -5.2291, -5.2357, -5.3282, -5.3554, -5.3722, -5.4018, -5.4068, -5.4182, -5.4216, -5.4243, -5.4256, -5.4293, -5.4369, -5.4396, -5.4411, -3.1383, -3.7184, -4.197, -5.002, -4.6682, -4.286, -5.0951, -3.8041, -3.552, -4.9649, -3.8923, -4.0844, -3.5875, -4.2255, -4.8552, -4.6451, -4.8486, -4.4803, -4.3115, -5.0575, -3.0345, -3.562, -3.6078, -3.8543, -4.1169, -4.1581, -4.2785, -4.4917, -4.5475, -4.5718, -4.6685, -4.6908, -4.7395, -4.8548, -4.8613, -4.8642, -4.8693, -4.9174, -4.9864, -5.0307, -5.1032, -5.109, -5.1367, -5.283, -5.319, -5.3643, -5.4282, -5.4478, -5.4658, -5.4698, -4.1592, -3.3966, -4.2177, -4.4942, -4.3908, -4.2075, -3.4585, -4.3446, -4.6973, -4.8701, -4.6599, -4.0378, -3.7897, -4.4454, -4.7476, -4.6254, -4.7659, -4.6425, -4.7038, -1.9833, -2.9521, -2.9702, -3.7274, -4.0279, -4.0572, -4.0859, -4.0909, -4.095, -4.3627, -4.4024, -4.5216, -4.6254, -4.6891, -4.712, -4.7557, -4.7638, -4.7953, -4.8293, -4.8524, -4.8558, -4.8827, -4.9063, -4.9159, -4.919, -4.9192, -4.9656, -5.0839, -5.1351, -5.1661, -3.5902, -4.1377, -4.5812, -3.7926, -4.4703, -4.2691, -3.875, -4.1693, -4.562, -4.2719, -4.759, -3.6261, -3.6751, -3.8887, -3.9864, -4.0061, -4.0232, -4.1587, -4.1672, -4.1903, -4.1964, -4.3298, -4.3735, -4.3924, -4.4022, -4.4437, -4.4538, -4.5038, -4.5484, -4.5778, -4.5899, -4.6093, -4.6169, -4.6851, -4.7048, -4.7191, -4.7409, -4.7866, -4.8393, -4.8727, -4.8931, -3.6646, -3.653, -4.1921, -3.9009, -4.0394, -4.4886, -4.6624, -4.6365, -4.6382, -2.8326, -2.9102, -3.1491, -3.2288, -3.3211, -3.3241, -3.4765, -3.5839, -3.643, -3.7489, -3.7712, -3.8352, -3.856, -3.9312, -4.0297, -4.1589, -4.229, -4.2779, -4.2862, -4.3013, -4.4059, -4.4307, -4.6642, -4.7621, -4.8895, -4.9221, -4.9531, -5.0524, -5.0872, -5.108, -3.0264, -4.3251, -3.9183, -4.8755, -4.8335], \"loglift\": [30.0, 29.0, 28.0, 27.0, 26.0, 25.0, 24.0, 23.0, 22.0, 21.0, 20.0, 19.0, 18.0, 17.0, 16.0, 15.0, 14.0, 13.0, 12.0, 11.0, 10.0, 9.0, 8.0, 7.0, 6.0, 5.0, 4.0, 3.0, 2.0, 1.0, 0.5444, 0.5443, 0.5443, 0.5443, 0.5443, 0.5443, 0.5442, 0.5442, 0.5442, 0.5442, 0.5442, 0.5442, 0.5442, 0.5442, 0.5442, 0.5442, 0.5441, 0.5441, 0.5441, 0.5441, 0.5441, 0.5441, 0.5441, 0.5441, 0.5441, 0.5441, 0.5441, 0.5441, 0.5441, 0.5441, 0.5246, 0.4919, 0.5045, 0.5283, 0.5065, 0.452, 0.5182, 0.4012, 0.3679, 0.4993, 0.3764, 0.3883, 0.3161, 0.3479, 0.4532, 0.3748, 0.4214, 0.1464, -0.0076, 0.4116, 1.7026, 1.7025, 1.7025, 1.7024, 1.7023, 1.7023, 1.7023, 1.7022, 1.7021, 1.7021, 1.7021, 1.702, 1.702, 1.7019, 1.7019, 1.7019, 1.7019, 1.7019, 1.7018, 1.7018, 1.7017, 1.7017, 1.7016, 1.7015, 1.7014, 1.7014, 1.7013, 1.7013, 1.7012, 1.7012, 1.626, 1.4716, 1.5018, 1.4705, 1.3118, 1.2049, 0.8453, 1.2215, 1.3621, 1.4792, 1.2708, 0.5889, 0.1139, 0.8048, 1.1736, -0.4201, 0.8278, -0.7226, -0.2311, 2.2599, 2.2597, 2.2597, 2.2595, 2.2593, 2.2593, 2.2593, 2.2593, 2.2593, 2.2591, 2.259, 2.2589, 2.2588, 2.2587, 2.2587, 2.2586, 2.2586, 2.2586, 2.2585, 2.2585, 2.2585, 2.2585, 2.2584, 2.2584, 2.2584, 2.2584, 2.2583, 2.2581, 2.258, 2.258, 2.0306, 2.0939, 2.0603, 1.5379, 1.6029, 1.297, 0.3937, 0.4041, 1.0225, -0.352, 1.1622, 2.3425, 2.3425, 2.3423, 2.3423, 2.3423, 2.3423, 2.3422, 2.3422, 2.3421, 2.3421, 2.342, 2.342, 2.342, 2.3419, 2.3419, 2.3419, 2.3418, 2.3418, 2.3418, 2.3417, 2.3417, 2.3417, 2.3416, 2.3416, 2.3416, 2.3415, 2.3415, 2.3414, 2.3413, 2.3413, 1.7917, 1.6775, 1.8959, 1.3801, 1.3731, 1.2139, 1.904, 1.2943, 1.1727, 3.2883, 3.2883, 3.2881, 3.2881, 3.288, 3.288, 3.2878, 3.2877, 3.2877, 3.2875, 3.2875, 3.2874, 3.2874, 3.2872, 3.2871, 3.2868, 3.2867, 3.2866, 3.2866, 3.2865, 3.2863, 3.2862, 3.2855, 3.2851, 3.2846, 3.2845, 3.2844, 3.2839, 3.2837, 3.2836, 2.4299, 2.5427, 1.7025, 2.4181, 1.7002]}, \"token.table\": {\"Topic\": [5, 3, 4, 3, 5, 3, 2, 4, 2, 5, 5, 5, 3, 3, 1, 3, 4, 1, 2, 3, 5, 4, 2, 1, 2, 3, 4, 5, 3, 4, 3, 5, 2, 2, 2, 3, 2, 2, 1, 2, 2, 3, 3, 1, 3, 4, 3, 3, 4, 1, 2, 5, 3, 3, 4, 2, 5, 5, 5, 2, 3, 3, 2, 3, 4, 1, 1, 5, 4, 1, 1, 1, 2, 4, 1, 3, 1, 4, 3, 2, 4, 4, 3, 4, 1, 3, 1, 3, 1, 1, 2, 1, 1, 4, 3, 1, 2, 3, 4, 5, 4, 1, 2, 3, 4, 1, 2, 4, 2, 1, 1, 5, 1, 1, 2, 4, 2, 4, 2, 2, 3, 4, 3, 2, 2, 1, 3, 1, 3, 2, 3, 4, 1, 1, 2, 3, 1, 1, 4, 3, 4, 4, 5, 4, 5, 1, 3, 4, 3, 1, 3, 2, 3, 4, 5, 2, 1, 3, 4, 4, 4, 2, 1, 2, 1, 5, 5, 5, 4, 2, 3, 5, 5, 5, 3, 2, 1, 2, 1, 2, 1, 2, 3, 5, 2, 4, 3, 5, 2, 4, 1, 3, 4, 1, 2, 4, 5, 2, 5, 4, 1, 2, 4, 1, 2, 5, 4, 2, 1, 1, 5, 2, 3, 2, 2, 1, 1, 2, 2, 1, 2, 1, 1, 3, 1, 1, 1, 4, 1, 2, 1, 2, 2, 5, 1, 1, 1, 3, 2, 5, 5, 1, 3, 5, 3, 5, 1, 5, 2, 3, 5, 5, 2, 3, 4], \"Freq\": [0.9929572827497078, 0.3595218277938316, 0.6399488534730203, 0.9966721555878802, 0.998693066510391, 0.9984852197068856, 0.999700077093168, 0.999615781818209, 0.9263339694990816, 0.07329936226540898, 0.9989414393334122, 0.9932368927999459, 0.998112760903728, 0.9977134562043891, 0.8215609150968345, 0.1562167405919308, 0.02213597538752056, 0.8440934745778703, 0.15616717679543737, 0.9999600405157998, 1.0001757384551326, 1.0002184304897381, 0.9977431621474133, 0.5369238653339982, 0.4075146370727333, 0.05599437761304732, 0.9976782664384608, 1.0001057371060393, 0.9993829604452696, 0.998821591238532, 0.9971478457299862, 0.9970601633156772, 0.9999088666822765, 0.9991678241205473, 0.9995832433020683, 0.9989201079598868, 0.997223727221974, 0.9985058567445361, 0.28789674830344314, 0.7113565285750123, 0.9997981456117013, 0.9987578564376812, 0.9976302454128535, 0.9989482393192903, 0.9999242355037035, 0.9975644494740628, 0.9998760408797659, 0.9998607035093954, 0.9987292512487232, 0.999260994267818, 0.9989512103043087, 0.999876657565301, 1.0003086073903087, 0.9995289337024834, 0.998088424569771, 0.998065662502637, 0.9995150143350713, 0.9983440149472452, 1.001115430626995, 0.18009613099122534, 0.8179365949184817, 0.9985919164204363, 0.9992979453296631, 0.9999977080025901, 0.9992508491520938, 0.9992875826740325, 1.0000743950278208, 0.9983247576725316, 0.9974440840263218, 0.9993432891371283, 1.0000334782577067, 0.960756073264827, 0.03917785708412501, 1.0000814153543902, 0.9994316490060648, 0.9973573912566704, 0.9994737771078722, 0.9990503054140489, 0.9986573538950005, 0.6487966343348531, 0.35020272876029, 0.9988384122047537, 0.48544851147792173, 0.5137663413141338, 0.999350320404168, 0.9978037527302196, 0.8451793687998044, 0.15481354507119177, 0.9994881097005412, 0.8552086553768672, 0.14467923089959706, 0.9992894911636153, 0.6178975141408258, 0.3817746842303129, 0.9971458976672388, 0.5824759301341519, 0.4166808235146418, 1.000451665691516, 0.9996024417546325, 0.9987868348867742, 0.999291113264824, 0.838165631470262, 0.08850502644376859, 0.07337033790691597, 0.9990317732059991, 0.7957809316658845, 0.20424558384428435, 0.9998549976773207, 0.999141886437194, 1.0000313368643623, 0.998933073480679, 1.0002900614700216, 0.9993601668765164, 0.9991037552408237, 0.9982726367589725, 0.9969215636265275, 0.3550335213296832, 0.6450935877755029, 1.0001912615117963, 0.9981767481055795, 0.9979266901934117, 0.9974921905808314, 1.0002742534583402, 0.9974383405595939, 0.9987426396805883, 0.9801994920080962, 0.01971848426492601, 0.9998809195094017, 0.999340912914248, 1.000037619210544, 0.9994837559652034, 0.9991982818280363, 0.9990338609599781, 0.8664087047650615, 0.11970840149191428, 0.013787256478959049, 1.000121934051037, 0.962968019497566, 0.03692627516347766, 1.0002959899291326, 1.0000659051889689, 0.5764847127927611, 0.42357099587160435, 0.5237969501418016, 0.47361281120606014, 0.7092832339264988, 0.2903193629061895, 0.99963223599004, 1.0002282199296917, 0.48175194757028506, 0.5185918023844833, 0.4872148916229422, 0.127526045458354, 0.3106403671421443, 0.07520766783441389, 0.9974267353440306, 0.9127728829997361, 0.08705637323407887, 0.9996079455126148, 0.9978225678312692, 0.9977787693883314, 0.9997261918799717, 0.18203474221197855, 0.8176642519029856, 0.9997129469625219, 0.9945913587047116, 0.999708335409243, 0.999491775553587, 1.0002724756646848, 0.6178013019756169, 0.3814325717998629, 0.9994015605490183, 0.9982498624925634, 0.9986748455147719, 0.9956235046591733, 0.9989228134137027, 0.20638678392734855, 0.7936973233749268, 0.5757296179985546, 0.42431079648635084, 0.1601777277533224, 0.7932611279212157, 0.04576506507237783, 0.9952511988336898, 0.6768092921271486, 0.32373392441341936, 0.5809245550738769, 0.41768955612749825, 0.9996344537864061, 1.0004057279577663, 0.8840816075323891, 0.11487348956450999, 0.0006346601633398342, 0.9741777767517239, 0.011629303120084858, 0.01341842667702099, 0.9975234524964965, 0.794949859259101, 0.20435151749315872, 1.0000728514033366, 0.8758620168970093, 0.12390620928693323, 0.9994841703161226, 0.19982947275724197, 0.7993178910289679, 0.9942968091301227, 1.0000637211526466, 0.9998563803912532, 0.9991197221635294, 0.9999399000299958, 0.9976133318715421, 0.9994080818100712, 0.9986043875537988, 0.9997181931160126, 0.9999381385600266, 0.9996470804094743, 0.9555884659624067, 0.043926243999884824, 0.998279680019366, 0.9996849419105414, 0.9983786686165211, 0.9997857527805935, 0.9488364502574479, 0.05124684582985289, 0.999512955080931, 0.9990247405031334, 0.9992411546281763, 0.9993643618279959, 0.9838765614480206, 0.015643225663190284, 0.6717442890789407, 0.3282007847337029, 0.9991620381167049, 0.9960562211487666, 0.9992730306597144, 0.9999179015493558, 0.911503218817098, 0.08835429973809907, 0.9984491562513703, 0.9941488563409576, 0.9980189644368317, 0.15272256631935935, 0.846614226335579, 0.9964932781550162, 0.7949952283289832, 0.20460761545428477, 0.9996866718170323, 0.9992145523308622, 0.5890830552935836, 0.3334891676662023, 0.07667816628821439, 1.0006960395074878, 0.6081167233387206, 0.013172203393618496, 0.3790667421052434], \"Term\": [\"acid\", \"added\", \"added\", \"aftertaste\", \"alternative\", \"amazing\", \"amazon\", \"arrived\", \"bags\", \"bags\", \"bars\", \"basically\", \"beans\", \"beef\", \"best\", \"best\", \"best\", \"better\", \"better\", \"bitter\", \"black\", \"blend\", \"bold\", \"bought\", \"bought\", \"bought\", \"bowl\", \"boxes\", \"bread\", \"breakfast\", \"brewed\", \"brewing\", \"bulk\", \"came\", \"candy\", \"canned\", \"cans\", \"carry\", \"case\", \"case\", \"cheaper\", \"cheese\", \"chew\", \"chicken\", \"chocolate\", \"cinnamon\", \"cocoa\", \"coffee\", \"coffees\", \"come\", \"comes\", \"compared\", \"cookie\", \"cookies\", \"cooking\", \"cost\", \"crackers\", \"creamy\", \"creme\", \"cups\", \"cups\", \"dark\", \"deal\", \"delicious\", \"delivery\", \"didnt\", \"diet\", \"difference\", \"discovered\", \"doesnt\", \"dogs\", \"dont\", \"dont\", \"dried\", \"drink\", \"eaten\", \"eating\", \"energy\", \"exactly\", \"excellent\", \"excellent\", \"family\", \"favorite\", \"favorite\", \"feel\", \"filling\", \"flavor\", \"flavor\", \"flavors\", \"food\", \"food\", \"foods\", \"free\", \"free\", \"french\", \"fresh\", \"fresh\", \"gave\", \"gift\", \"ginger\", \"gluten\", \"good\", \"good\", \"good\", \"grains\", \"great\", \"great\", \"green\", \"grocery\", \"hard\", \"having\", \"health\", \"healthy\", \"ingredients\", \"inside\", \"instant\", \"isnt\", \"isnt\", \"item\", \"jars\", \"kcup\", \"kcups\", \"keurig\", \"life\", \"light\", \"like\", \"like\", \"little\", \"live\", \"local\", \"locally\", \"longer\", \"looking\", \"love\", \"love\", \"love\", \"loved\", \"loves\", \"loves\", \"lunch\", \"maker\", \"makes\", \"makes\", \"market\", \"market\", \"milk\", \"milk\", \"minutes\", \"month\", \"morning\", \"morning\", \"need\", \"need\", \"need\", \"need\", \"needed\", \"nice\", \"nice\", \"nuts\", \"oatmeal\", \"online\", \"order\", \"ordered\", \"ordered\", \"organic\", \"ounce\", \"ounces\", \"pantry\", \"pasta\", \"perfect\", \"perfect\", \"placed\", \"plus\", \"popcorn\", \"pound\", \"powder\", \"price\", \"price\", \"product\", \"product\", \"purchase\", \"purchase\", \"purchase\", \"pure\", \"quality\", \"quality\", \"reason\", \"reason\", \"received\", \"recipe\", \"recommend\", \"recommend\", \"recommend\", \"regular\", \"regular\", \"regular\", \"remember\", \"review\", \"review\", \"rice\", \"right\", \"right\", \"roast\", \"save\", \"save\", \"scent\", \"service\", \"shipping\", \"size\", \"snack\", \"soda\", \"soft\", \"starbucks\", \"store\", \"stores\", \"strong\", \"stuff\", \"stuff\", \"subscribe\", \"sugar\", \"supermarket\", \"sweet\", \"taste\", \"taste\", \"tastes\", \"tasty\", \"texture\", \"thank\", \"think\", \"think\", \"time\", \"time\", \"times\", \"toys\", \"treat\", \"treats\", \"tried\", \"tried\", \"type\", \"types\", \"value\", \"vanilla\", \"vanilla\", \"varieties\", \"want\", \"want\", \"water\", \"white\", \"work\", \"work\", \"work\", \"world\", \"years\", \"years\", \"years\"]}, \"R\": 30, \"lambda.step\": 0.01, \"plot.opts\": {\"xlab\": \"PC1\", \"ylab\": \"PC2\"}, \"topic.order\": [2, 3, 5, 4, 1]};\n",
       "\n",
       "function LDAvis_load_lib(url, callback){\n",
       "  var s = document.createElement('script');\n",
       "  s.src = url;\n",
       "  s.async = true;\n",
       "  s.onreadystatechange = s.onload = callback;\n",
       "  s.onerror = function(){console.warn(\"failed to load library \" + url);};\n",
       "  document.getElementsByTagName(\"head\")[0].appendChild(s);\n",
       "}\n",
       "\n",
       "if(typeof(LDAvis) !== \"undefined\"){\n",
       "   // already loaded: just create the visualization\n",
       "   !function(LDAvis){\n",
       "       new LDAvis(\"#\" + \"ldavis_el101441405032253319205965988859\", ldavis_el101441405032253319205965988859_data);\n",
       "   }(LDAvis);\n",
       "}else if(typeof define === \"function\" && define.amd){\n",
       "   // require.js is available: use it to load d3/LDAvis\n",
       "   require.config({paths: {d3: \"https://d3js.org/d3.v5\"}});\n",
       "   require([\"d3\"], function(d3){\n",
       "      window.d3 = d3;\n",
       "      LDAvis_load_lib(\"https://cdn.jsdelivr.net/gh/bmabey/pyLDAvis@3.3.1/pyLDAvis/js/ldavis.v3.0.0.js\", function(){\n",
       "        new LDAvis(\"#\" + \"ldavis_el101441405032253319205965988859\", ldavis_el101441405032253319205965988859_data);\n",
       "      });\n",
       "    });\n",
       "}else{\n",
       "    // require.js not available: dynamically load d3 & LDAvis\n",
       "    LDAvis_load_lib(\"https://d3js.org/d3.v5.js\", function(){\n",
       "         LDAvis_load_lib(\"https://cdn.jsdelivr.net/gh/bmabey/pyLDAvis@3.3.1/pyLDAvis/js/ldavis.v3.0.0.js\", function(){\n",
       "                 new LDAvis(\"#\" + \"ldavis_el101441405032253319205965988859\", ldavis_el101441405032253319205965988859_data);\n",
       "            })\n",
       "         });\n",
       "}\n",
       "</script>"
      ],
      "text/plain": [
       "PreparedData(topic_coordinates=              x         y  topics  cluster       Freq\n",
       "topic                                                \n",
       "1     -0.298535  0.024529       1        1  58.011824\n",
       "2     -0.204952 -0.174642       2        1  18.218539\n",
       "4      0.020262  0.335609       3        1  10.435605\n",
       "3      0.195526 -0.196333       4        1   9.604436\n",
       "0      0.287698  0.010837       5        1   3.729596, topic_info=           Term         Freq        Total Category  logprob  loglift\n",
       "183      coffee  4399.000000  4399.000000  Default  30.0000  30.0000\n",
       "109      amazon  2684.000000  2684.000000  Default  29.0000  29.0000\n",
       "184   delicious  1670.000000  1670.000000  Default  28.0000  28.0000\n",
       "484   chocolate  1640.000000  1640.000000  Default  27.0000  27.0000\n",
       "456       price  2354.000000  2354.000000  Default  26.0000  26.0000\n",
       "...         ...          ...          ...      ...      ...      ...\n",
       "971       makes   554.008134  1307.927137   Topic5  -3.0264   2.4299\n",
       "572      market   151.179537   318.825835   Topic5  -4.3251   2.5427\n",
       "196        want   227.066399  1109.440621   Topic5  -3.9183   1.7025\n",
       "1097     reason    87.192620   208.288665   Topic5  -4.8755   2.4181\n",
       "659      review    90.929844   445.311105   Topic5  -4.8335   1.7002\n",
       "\n",
       "[244 rows x 6 columns], token_table=      Topic      Freq         Term\n",
       "term                              \n",
       "1231      5  0.992957         acid\n",
       "1260      3  0.359522        added\n",
       "1260      4  0.639949        added\n",
       "872       3  0.996672   aftertaste\n",
       "1080      5  0.998693  alternative\n",
       "...     ...       ...          ...\n",
       "848       5  0.076678         work\n",
       "1236      5  1.000696        world\n",
       "497       2  0.608117        years\n",
       "497       3  0.013172        years\n",
       "497       4  0.379067        years\n",
       "\n",
       "[255 rows x 3 columns], R=30, lambda_step=0.01, plot_opts={'xlab': 'PC1', 'ylab': 'PC2'}, topic_order=[2, 3, 5, 4, 1])"
      ]
     },
     "execution_count": 48,
     "metadata": {},
     "output_type": "execute_result"
    }
   ],
   "source": [
    "lda.visualize(model[0], corpus[0], id2word)"
   ]
  }
 ],
 "metadata": {
  "kernelspec": {
   "display_name": "Python 3",
   "language": "python",
   "name": "python3"
  },
  "language_info": {
   "codemirror_mode": {
    "name": "ipython",
    "version": 3
   },
   "file_extension": ".py",
   "mimetype": "text/x-python",
   "name": "python",
   "nbconvert_exporter": "python",
   "pygments_lexer": "ipython3",
   "version": "3.7.6"
  }
 },
 "nbformat": 4,
 "nbformat_minor": 2
}
