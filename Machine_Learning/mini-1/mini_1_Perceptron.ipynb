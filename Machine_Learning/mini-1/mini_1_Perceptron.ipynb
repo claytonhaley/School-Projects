{
 "cells": [
  {
   "cell_type": "markdown",
   "metadata": {},
   "source": [
    "# Perceptron"
   ]
  },
  {
   "cell_type": "code",
   "execution_count": 1,
   "metadata": {},
   "outputs": [],
   "source": [
    "import requests\n",
    "import pandas as pd\n",
    "from sklearn.datasets import load_svmlight_file\n",
    "import numpy as np\n",
    "import matplotlib.pyplot as plt\n",
    "%matplotlib inline"
   ]
  },
  {
   "cell_type": "markdown",
   "metadata": {},
   "source": [
    "## Get Data - a4a"
   ]
  },
  {
   "cell_type": "code",
   "execution_count": 2,
   "metadata": {},
   "outputs": [],
   "source": [
    "url = \"https://www.csie.ntu.edu.tw/~cjlin/libsvmtools/datasets/binary/a4a\"\n",
    "download = requests.get(url)\n",
    "\n",
    "with open(\"a4a\", \"wb\") as file:\n",
    "    file.write(download.content)\n",
    "    X, y = load_svmlight_file(\"a4a\")\n",
    "    X = pd.DataFrame(X.todense())\n",
    "    X[\"class\"] = y\n",
    "\n",
    "X = X.dropna()\n",
    "random = X.sample(frac=1)\n",
    "X = random\n",
    "y = random[\"class\"]\n",
    "training = int(0.8 * len(random))\n",
    "X_train, X_test = X[:training], X[training:]\n",
    "y_train, y_test = y[:training], y[training:]"
   ]
  },
  {
   "cell_type": "markdown",
   "metadata": {},
   "source": [
    "## Get Data - iris"
   ]
  },
  {
   "cell_type": "code",
   "execution_count": 3,
   "metadata": {},
   "outputs": [],
   "source": [
    "url2 = \"https://www.csie.ntu.edu.tw/~cjlin/libsvmtools/datasets/multiclass/iris.scale\"\n",
    "download2 = requests.get(url2)\n",
    "\n",
    "with open(\"iris.scale\", \"wb\") as file:\n",
    "    file.write(download2.content)\n",
    "\n",
    "    X2, y2 = load_svmlight_file(\"iris.scale\")\n",
    "    X2 = pd.DataFrame(X2.todense())\n",
    "    X2[\"class\"] = y2\n",
    "\n",
    "X2 = X2.dropna()\n",
    "random2 = X2.sample(frac=1)\n",
    "X2 = random2\n",
    "y2 = random2[\"class\"]\n",
    "training2 = int(0.8 * len(random2))\n",
    "X_train2, X_test2 = X2[:training2], X2[training2:]\n",
    "y_train2, y_test2 = y2[:training2], y2[training2:]"
   ]
  },
  {
   "cell_type": "markdown",
   "metadata": {},
   "source": [
    "## Model"
   ]
  },
  {
   "cell_type": "code",
   "execution_count": 4,
   "metadata": {},
   "outputs": [],
   "source": [
    "def activation(weight, inpt):\n",
    "    result = np.dot(inpt, weight.T)\n",
    "    if result > 0:\n",
    "        return 1\n",
    "    return -1\n",
    "\n",
    "def perceptron(X, Y, lr, its):\n",
    "    w = np.zeros(len(X[0]))\n",
    "    correct = []\n",
    "    misclassified = []\n",
    "    for i in range(its):\n",
    "        for j, x in enumerate(X):\n",
    "            value = activation(w, X[j])\n",
    "            if value != Y[j]:\n",
    "                w = w + (lr*X[j]*Y[j])\n",
    "                misclassified.append(value)\n",
    "            else:\n",
    "                correct.append(value)\n",
    "                \n",
    "    top_w = np.sort(w)[-20:][::-1]\n",
    "    top_f = np.argsort(w)[-20:][::-1]\n",
    "    plt.style.use('ggplot')\n",
    "    plt.bar(top_f, top_w, color='green')\n",
    "    plt.xlabel(\"Features\")\n",
    "    plt.ylabel(\"Weights\")\n",
    "    plt.title(\"Top Features and Weights\")\n",
    "    plt.show()\n",
    "    \n",
    "    print(\"In order of importance, the top features are: \", top_f)\n",
    "    return misclassified, correct"
   ]
  },
  {
   "cell_type": "markdown",
   "metadata": {},
   "source": [
    "## Metrics"
   ]
  },
  {
   "cell_type": "code",
   "execution_count": 5,
   "metadata": {},
   "outputs": [],
   "source": [
    "def Metrics(incorr, corr):\n",
    "    accuracy = (len(corr))/(len(corr)+len(incorr))\n",
    "    precision1 = (corr.count(1))/(corr.count(1)+incorr.count(1))\n",
    "    precision2 = (corr.count(-1))/(corr.count(-1)+incorr.count(-1))\n",
    "    total_precision = (precision1+precision2)/2\n",
    "    recall1 = (corr.count(1))/(corr.count(1)+incorr.count(-1))\n",
    "    recall2 = (corr.count(-1))/(corr.count(-1)+incorr.count(1))\n",
    "    total_recall = (recall1+recall2)/2\n",
    "    f1_score = (2*(total_precision*total_recall))/(total_precision+total_recall)\n",
    "    \n",
    "    print(\"Accuracy: \", round(accuracy*100,2), \"%\")\n",
    "    print(\"Precision: \", round(total_precision*100,2), \"%\")\n",
    "    print(\"Recall: \", round(total_recall*100,2), \"%\")\n",
    "    print(\"F1-score: \", round(f1_score*100,2), \"%\")"
   ]
  },
  {
   "cell_type": "markdown",
   "metadata": {},
   "source": [
    "## Binary Classification"
   ]
  },
  {
   "cell_type": "code",
   "execution_count": 6,
   "metadata": {},
   "outputs": [
    {
     "data": {
      "image/png": "[encoded data removed]",
      "text/plain": [
       "<Figure size 432x288 with 1 Axes>"
      ]
     },
     "metadata": {},
     "output_type": "display_data"
    },
    {
     "name": "stdout",
     "output_type": "stream",
     "text": [
      "In order of importance, the top features are:  [117 100  99  97 101  98 121 105  86  94 102  27  60 108  83   4  90  95\n",
      "  45  31]\n",
      "Accuracy:  79.77 %\n",
      "Precision:  72.68 %\n",
      "Recall:  72.68 %\n",
      "F1-score:  72.68 %\n"
     ]
    }
   ],
   "source": [
    "train_data = X_train.iloc[:,:-1]\n",
    "train_data = train_data.values\n",
    "mis, cor = perceptron(train_data, y_train.values, 1, 50)\n",
    "Metrics(mis, cor)"
   ]
  },
  {
   "cell_type": "markdown",
   "metadata": {},
   "source": [
    "## Multi-Class"
   ]
  },
  {
   "cell_type": "markdown",
   "metadata": {},
   "source": [
    "### 1 vs 2 & 3"
   ]
  },
  {
   "cell_type": "code",
   "execution_count": 7,
   "metadata": {},
   "outputs": [
    {
     "data": {
      "image/png": "[encoded data removed]",
      "text/plain": [
       "<Figure size 432x288 with 1 Axes>"
      ]
     },
     "metadata": {},
     "output_type": "display_data"
    },
    {
     "name": "stdout",
     "output_type": "stream",
     "text": [
      "In order of importance, the top features are:  [1 0 3 2]\n",
      "Accuracy:  99.95 %\n",
      "Precision:  99.94 %\n",
      "Recall:  99.95 %\n",
      "F1-score:  99.95 %\n"
     ]
    }
   ],
   "source": [
    "y_train_data = y_train2.values\n",
    "y_new1 = []\n",
    "for i, j in enumerate(y_train_data):\n",
    "    if y_train_data[i] == 1.0:\n",
    "        y_new1.append(1.0)\n",
    "    else:\n",
    "        y_new1.append(-1.0)\n",
    "        \n",
    "train_data2 = X_train2.iloc[:,:-1]\n",
    "train_data2 = train_data2.values\n",
    "mis2, cor2 = perceptron(train_data2, y_new1, 1, 50)\n",
    "Metrics(mis2, cor2)"
   ]
  },
  {
   "cell_type": "markdown",
   "metadata": {},
   "source": [
    "### 2 vs 1 & 3"
   ]
  },
  {
   "cell_type": "code",
   "execution_count": 8,
   "metadata": {},
   "outputs": [
    {
     "data": {
      "image/png": "[encoded data removed]",
      "text/plain": [
       "<Figure size 432x288 with 1 Axes>"
      ]
     },
     "metadata": {},
     "output_type": "display_data"
    },
    {
     "name": "stdout",
     "output_type": "stream",
     "text": [
      "In order of importance, the top features are:  [2 0 1 3]\n",
      "Accuracy:  63.12 %\n",
      "Precision:  65.53 %\n",
      "Recall:  68.26 %\n",
      "F1-score:  66.87 %\n"
     ]
    }
   ],
   "source": [
    "y_new2 = []\n",
    "for i, j in enumerate(y_train_data):\n",
    "    if y_train_data[i] == 2.0:\n",
    "        y_new2.append(1.0)\n",
    "    else:\n",
    "        y_new2.append(-1.0)\n",
    "mis4, cor4 = perceptron(train_data2, y_new2, 1, 50)\n",
    "Metrics(mis4, cor4)"
   ]
  },
  {
   "cell_type": "markdown",
   "metadata": {},
   "source": [
    "### 3 vs 2 & 1"
   ]
  },
  {
   "cell_type": "code",
   "execution_count": 9,
   "metadata": {},
   "outputs": [
    {
     "data": {
      "image/png": "[encoded data removed]",
      "text/plain": [
       "<Figure size 432x288 with 1 Axes>"
      ]
     },
     "metadata": {},
     "output_type": "display_data"
    },
    {
     "name": "stdout",
     "output_type": "stream",
     "text": [
      "In order of importance, the top features are:  [3 0 1 2]\n",
      "Accuracy:  85.58 %\n",
      "Precision:  84.16 %\n",
      "Recall:  86.81 %\n",
      "F1-score:  85.46 %\n"
     ]
    }
   ],
   "source": [
    "y_new3 = []\n",
    "for i, j in enumerate(y_train_data):\n",
    "    if y_train_data[i] == 3.0:\n",
    "        y_new3.append(1.0)\n",
    "    else:\n",
    "        y_new3.append(-1.0)\n",
    "\n",
    "mis5, cor5 = perceptron(train_data2, y_new3, 1, 50)\n",
    "Metrics(mis5, cor5)"
   ]
  }
 ],
 "metadata": {
  "kernelspec": {
   "display_name": "Python 3",
   "language": "python",
   "name": "python3"
  },
  "language_info": {
   "codemirror_mode": {
    "name": "ipython",
    "version": 3
   },
   "file_extension": ".py",
   "mimetype": "text/x-python",
   "name": "python",
   "nbconvert_exporter": "python",
   "pygments_lexer": "ipython3",
   "version": "3.7.6"
  }
 },
 "nbformat": 4,
 "nbformat_minor": 4
}
