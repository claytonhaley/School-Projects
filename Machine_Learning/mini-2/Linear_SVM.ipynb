{
 "cells": [
  {
   "cell_type": "markdown",
   "metadata": {},
   "source": [
    "# Linear SVM "
   ]
  },
  {
   "cell_type": "markdown",
   "metadata": {},
   "source": [
    "## Imports"
   ]
  },
  {
   "cell_type": "code",
   "execution_count": 1,
   "metadata": {},
   "outputs": [],
   "source": [
    "import numpy as np\n",
    "import pandas as pd\n",
    "from sklearn.datasets import load_svmlight_file\n",
    "from sklearn.model_selection import train_test_split\n",
    "from sklearn.metrics import confusion_matrix\n",
    "import matplotlib.pyplot as plt\n",
    "import random\n",
    "import seaborn as sns"
   ]
  },
  {
   "cell_type": "markdown",
   "metadata": {},
   "source": [
    "## Load and Clean Data"
   ]
  },
  {
   "cell_type": "code",
   "execution_count": 2,
   "metadata": {},
   "outputs": [],
   "source": [
    "x, label = load_svmlight_file('mnist.scale')\n",
    "x = x.toarray()\n",
    "label = label.astype(int)"
   ]
  },
  {
   "cell_type": "code",
   "execution_count": 3,
   "metadata": {},
   "outputs": [],
   "source": [
    "label_bits = []\n",
    "for i, j in enumerate(label):\n",
    "    j = \"{:04b}\".format(j)\n",
    "    label_bits.append(j)"
   ]
  },
  {
   "cell_type": "code",
   "execution_count": 4,
   "metadata": {},
   "outputs": [],
   "source": [
    "label_1 = []\n",
    "label_2 = []\n",
    "label_3 = []\n",
    "label_4 = []\n",
    "for i, j in enumerate(label_bits):\n",
    "    label_1.append(j[0])\n",
    "    label_2.append(j[1])\n",
    "    label_3.append(j[2])\n",
    "    label_4.append(j[3])\n",
    "\n",
    "label_1 = np.array(label_1).astype(int)\n",
    "label_2 = np.array(label_2).astype(int)\n",
    "label_3 = np.array(label_3).astype(int)\n",
    "label_4 = np.array(label_4).astype(int)"
   ]
  },
  {
   "cell_type": "code",
   "execution_count": 5,
   "metadata": {},
   "outputs": [],
   "source": [
    "labels_new = np.vstack((label_1,label_2,label_3,label_4))\n",
    "labels_new = labels_new.T\n",
    "for i in labels_new:\n",
    "    ''.join(map(str, i))"
   ]
  },
  {
   "cell_type": "markdown",
   "metadata": {},
   "source": [
    "## Model"
   ]
  },
  {
   "cell_type": "code",
   "execution_count": 6,
   "metadata": {},
   "outputs": [],
   "source": [
    "class MC_Linear_SVM:\n",
    "    \n",
    "    def __init__(self, lr = 0.005, lam=0.01, its=200):\n",
    "        self.lam = lam\n",
    "        self.its = its\n",
    "        self.lr = lr\n",
    "        self.w = None\n",
    "        self.b = None\n",
    "        \n",
    "    def model(self, X, y):\n",
    "        y = np.where(y <= 0, -1, 1)\n",
    "        samples, feats = X.shape\n",
    "        self.w = np.zeros(feats)\n",
    "        self.b = 0\n",
    "        for i in range(self.its):\n",
    "            for j in X:\n",
    "                k = random.randint(0, len(X)-1)\n",
    "                value = y[k] * (np.dot(X[k], self.w))\n",
    "                if value < 1:\n",
    "                    self.w = self.w + self.lr*(y[k]*X[k] - (self.lam*self.w))\n",
    "                else:\n",
    "                    self.w = self.w + self.lr*(-self.lam*self.w)\n",
    "                    \n",
    "    def predict(self, X):\n",
    "        result = np.dot(X, self.w)\n",
    "        return np.sign(result)"
   ]
  },
  {
   "cell_type": "markdown",
   "metadata": {},
   "source": [
    "## ECOC"
   ]
  },
  {
   "cell_type": "markdown",
   "metadata": {},
   "source": [
    "### Iterate through columns of label ndarray. Get predictions then get accuracy for individual bits and entire bits."
   ]
  },
  {
   "cell_type": "code",
   "execution_count": 7,
   "metadata": {},
   "outputs": [
    {
     "name": "stdout",
     "output_type": "stream",
     "text": [
      "Accuracy for bit 1 :  89%\n",
      "Accuracy for bit 2 :  86%\n",
      "Accuracy for bit 3 :  89%\n",
      "Accuracy for bit 4 :  88%\n"
     ]
    }
   ],
   "source": [
    "predicted_bits = []\n",
    "actual_bits = []\n",
    "j = 0\n",
    "for i in labels_new.T:\n",
    "    X_train, X_test, y_train, y_test = train_test_split(x, i, test_size=0.3, random_state=42)\n",
    "    svm = MC_Linear_SVM()\n",
    "    svm.model(X_train, y_train)\n",
    "    predicted = svm.predict(X_test)\n",
    "    \n",
    "    preds = np.where(predicted <= 0, 0, 1)\n",
    "    correct = 0\n",
    "    for k,l in enumerate(y_test):\n",
    "        if (preds[k] == y_test[k]):\n",
    "            correct+=1\n",
    "    print(\"Accuracy for bit\", j+1, \": \", \"{:.00%}\".format(correct/len(y_test)))\n",
    "    actual_bits.append(y_test)\n",
    "    predicted_bits.append(preds)\n",
    "    j+=1"
   ]
  },
  {
   "cell_type": "markdown",
   "metadata": {},
   "source": [
    "### Convert predicted bits to ints"
   ]
  },
  {
   "cell_type": "code",
   "execution_count": 8,
   "metadata": {},
   "outputs": [],
   "source": [
    "concat_labels = np.vstack(predicted_bits)\n",
    "concat_labels = concat_labels.T"
   ]
  },
  {
   "cell_type": "code",
   "execution_count": 9,
   "metadata": {},
   "outputs": [],
   "source": [
    "bits = []\n",
    "for i in concat_labels:\n",
    "    i = i.astype('str')\n",
    "    i = ''.join(map(str,i))\n",
    "    bits.append(i)\n",
    "\n",
    "pred_nums = []\n",
    "for i in bits:\n",
    "    x = int(i, 2)\n",
    "    if (x > 9):\n",
    "        x = 9\n",
    "    pred_nums.append(x)"
   ]
  },
  {
   "cell_type": "markdown",
   "metadata": {},
   "source": [
    "### Convert actual bits to ints"
   ]
  },
  {
   "cell_type": "code",
   "execution_count": 10,
   "metadata": {},
   "outputs": [],
   "source": [
    "concat_labels_actual = np.vstack(actual_bits)\n",
    "concat_labels_actual = concat_labels_actual.T"
   ]
  },
  {
   "cell_type": "code",
   "execution_count": 11,
   "metadata": {},
   "outputs": [],
   "source": [
    "bits_actual = []\n",
    "for i in concat_labels_actual:\n",
    "    i = i.astype('str')\n",
    "    i = ''.join(map(str,i))\n",
    "    bits_actual.append(i)\n",
    "\n",
    "actual_nums = []\n",
    "for i in bits_actual:\n",
    "    x = int(i, 2)\n",
    "    actual_nums.append(x)"
   ]
  },
  {
   "cell_type": "markdown",
   "metadata": {},
   "source": [
    "### Get Accuracy for Ints"
   ]
  },
  {
   "cell_type": "code",
   "execution_count": 12,
   "metadata": {},
   "outputs": [
    {
     "name": "stdout",
     "output_type": "stream",
     "text": [
      "Accuracy for predicted integers:  65%\n"
     ]
    }
   ],
   "source": [
    "correct = 0\n",
    "for i,j in enumerate(actual_nums):\n",
    "    if (pred_nums[i] == actual_nums[i]):\n",
    "        correct+=1\n",
    "\n",
    "print(\"Accuracy for predicted integers: \", \"{:.00%}\".format(correct/len(actual_nums)))"
   ]
  },
  {
   "cell_type": "markdown",
   "metadata": {},
   "source": [
    "### Confusion Matrix"
   ]
  },
  {
   "cell_type": "code",
   "execution_count": 13,
   "metadata": {},
   "outputs": [],
   "source": [
    "con_mat = confusion_matrix(actual_nums, pred_nums)"
   ]
  },
  {
   "cell_type": "code",
   "execution_count": 14,
   "metadata": {},
   "outputs": [],
   "source": [
    "con_mat_df = pd.DataFrame(con_mat,\n",
    "                     index = np.unique(actual_nums), \n",
    "                     columns = np.unique(actual_nums))"
   ]
  },
  {
   "cell_type": "code",
   "execution_count": 15,
   "metadata": {},
   "outputs": [
    {
     "data": {
      "image/png": "[encoded data removed]",
      "text/plain": [
       "<Figure size 576x432 with 2 Axes>"
      ]
     },
     "metadata": {
      "needs_background": "light"
     },
     "output_type": "display_data"
    }
   ],
   "source": [
    "figure = plt.figure(figsize=(8, 6))\n",
    "sns.heatmap(con_mat_df, annot=True,cmap=plt.cm.Blues)\n",
    "plt.tight_layout()\n",
    "plt.ylabel('True label')\n",
    "plt.xlabel('Predicted label')\n",
    "plt.show()"
   ]
  }
 ],
 "metadata": {
  "kernelspec": {
   "display_name": "Python 3",
   "language": "python",
   "name": "python3"
  },
  "language_info": {
   "codemirror_mode": {
    "name": "ipython",
    "version": 3
   },
   "file_extension": ".py",
   "mimetype": "text/x-python",
   "name": "python",
   "nbconvert_exporter": "python",
   "pygments_lexer": "ipython3",
   "version": "3.7.6"
  }
 },
 "nbformat": 4,
 "nbformat_minor": 4
}
